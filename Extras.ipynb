{
 "cells": [
  {
   "cell_type": "code",
   "execution_count": 32,
   "metadata": {
    "collapsed": false
   },
   "outputs": [],
   "source": [
    "long = \"\"\"hello\n",
    "everybody\n",
    "as \n",
    "long \n",
    "as \n",
    "we want\"\"\""
   ]
  },
  {
   "cell_type": "code",
   "execution_count": 44,
   "metadata": {
    "collapsed": false
   },
   "outputs": [
    {
     "name": "stdout",
     "output_type": "stream",
     "text": [
      "hello--\n",
      " world\n"
     ]
    }
   ],
   "source": [
    "print(\"hello\",end=\"--\\n\")\n",
    "print(\" world\")"
   ]
  },
  {
   "cell_type": "markdown",
   "metadata": {},
   "source": [
    "Example of using perl in a jupyter notebook\n",
    "-------"
   ]
  },
  {
   "cell_type": "code",
   "execution_count": 47,
   "metadata": {
    "collapsed": false
   },
   "outputs": [
    {
     "name": "stdout",
     "output_type": "stream",
     "text": [
      "ACGT"
     ]
    }
   ],
   "source": [
    "%%perl\n",
    "@bases = (\"A\",\"C\",\"G\",\"T\");\n",
    "print @bases"
   ]
  },
  {
   "cell_type": "markdown",
   "metadata": {},
   "source": [
    "Various string methods\n",
    "------"
   ]
  },
  {
   "cell_type": "code",
   "execution_count": 55,
   "metadata": {
    "collapsed": false
   },
   "outputs": [
    {
     "data": {
      "text/plain": [
       "'Hello\\nEverybody\\nAs \\nLong \\nAs \\nWe Want'"
      ]
     },
     "execution_count": 55,
     "metadata": {},
     "output_type": "execute_result"
    }
   ],
   "source": [
    "long.title()"
   ]
  },
  {
   "cell_type": "code",
   "execution_count": 61,
   "metadata": {
    "collapsed": false
   },
   "outputs": [
    {
     "data": {
      "text/plain": [
       "['hello', 'everybody', 'as', 'long', 'as', 'we', 'want']"
      ]
     },
     "execution_count": 61,
     "metadata": {},
     "output_type": "execute_result"
    }
   ],
   "source": [
    "long.split()"
   ]
  },
  {
   "cell_type": "code",
   "execution_count": 62,
   "metadata": {
    "collapsed": false
   },
   "outputs": [
    {
     "data": {
      "text/plain": [
       "['hello\\nevery', '\\nas \\nlong \\nas \\nwe want']"
      ]
     },
     "execution_count": 62,
     "metadata": {},
     "output_type": "execute_result"
    }
   ],
   "source": [
    "long.split(sep=\"body\",maxsplit=2)"
   ]
  },
  {
   "cell_type": "markdown",
   "metadata": {},
   "source": [
    "Formatting large numbers with commas\n",
    "---------"
   ]
  },
  {
   "cell_type": "code",
   "execution_count": 81,
   "metadata": {
    "collapsed": false
   },
   "outputs": [
    {
     "data": {
      "text/plain": [
       "'   Mon     is an 5,230,394.0000 movie'"
      ]
     },
     "execution_count": 81,
     "metadata": {},
     "output_type": "execute_result"
    }
   ],
   "source": [
    "'{:^10.3s} is an {:10,.4f} movie'.format('Monty Python',5230394)"
   ]
  },
  {
   "cell_type": "markdown",
   "metadata": {},
   "source": [
    "Function chaining and long lines\n",
    "-------"
   ]
  },
  {
   "cell_type": "code",
   "execution_count": 83,
   "metadata": {
    "collapsed": false
   },
   "outputs": [
    {
     "data": {
      "text/plain": [
       "['   MON     IS AN 5', '230', '394.0000 MOVIE']"
      ]
     },
     "execution_count": 83,
     "metadata": {},
     "output_type": "execute_result"
    }
   ],
   "source": [
    "fmtS = '{:^10.3s} is an {:10,.4f} movie'.format('Monty Python',5230394)\n",
    "fmtS.upper().split(',')"
   ]
  },
  {
   "cell_type": "code",
   "execution_count": 85,
   "metadata": {
    "collapsed": false
   },
   "outputs": [
    {
     "data": {
      "text/plain": [
       "['   MON     IS AN 5', '230', '394.0000 MOVIE']"
      ]
     },
     "execution_count": 85,
     "metadata": {},
     "output_type": "execute_result"
    }
   ],
   "source": [
    "fmtS.upper().\\\n",
    "split(',')"
   ]
  },
  {
   "cell_type": "code",
   "execution_count": 86,
   "metadata": {
    "collapsed": false
   },
   "outputs": [
    {
     "data": {
      "text/plain": [
       "['   MON     IS AN 5', '230', '394.0000 MOVIE']"
      ]
     },
     "execution_count": 86,
     "metadata": {},
     "output_type": "execute_result"
    }
   ],
   "source": [
    "fmtS.upper().split(\n",
    "',')"
   ]
  },
  {
   "cell_type": "markdown",
   "metadata": {},
   "source": [
    "Example of named matches in python regular expressions\n",
    "------"
   ]
  },
  {
   "cell_type": "code",
   "execution_count": 149,
   "metadata": {
    "collapsed": false
   },
   "outputs": [
    {
     "name": "stdout",
     "output_type": "stream",
     "text": [
      "extracted short='as' from match <\n",
      "as >\n"
     ]
    }
   ],
   "source": [
    "import re\n",
    "m = re.search(r'\\s(?P<short>[a-z]{,3})\\s',long)\n",
    "f,t = m.span()\n",
    "print(\"extracted short='{0}' from match <{1}>\".format(\n",
    "        m.groupdict()['short'],m.string[f:t]))"
   ]
  },
  {
   "cell_type": "markdown",
   "metadata": {},
   "source": [
    "Formatted print of entries in a dictionary\n",
    "-----------"
   ]
  },
  {
   "cell_type": "code",
   "execution_count": 95,
   "metadata": {
    "collapsed": false
   },
   "outputs": [
    {
     "data": {
      "text/plain": [
       "'Gardner'"
      ]
     },
     "execution_count": 95,
     "metadata": {},
     "output_type": "execute_result"
    }
   ],
   "source": [
    "'{name}'.format( **{'name':'Gardner','age':'old'})"
   ]
  },
  {
   "cell_type": "markdown",
   "metadata": {},
   "source": [
    "Dynamic width for formatted fields\n",
    "----------\n",
    "Disclaimer: example jumps ahead to list comprehensions, which are considered covered under \"Flow Control\" on page 187 "
   ]
  },
  {
   "cell_type": "code",
   "execution_count": 201,
   "metadata": {
    "collapsed": false
   },
   "outputs": [
    {
     "name": "stdout",
     "output_type": "stream",
     "text": [
      "1000 loops, best of 3: 1.5 ms per loop\n"
     ]
    }
   ],
   "source": [
    "%%timeit\n",
    "s = ''\n",
    "for ii in range(10000):\n",
    "    s += '.'\n"
   ]
  },
  {
   "cell_type": "code",
   "execution_count": 202,
   "metadata": {
    "collapsed": false
   },
   "outputs": [
    {
     "name": "stdout",
     "output_type": "stream",
     "text": [
      "10000 loops, best of 3: 117 µs per loop\n"
     ]
    }
   ],
   "source": [
    "%%timeit\n",
    "s = ''\n",
    "l = []\n",
    "for ii in range(1000):\n",
    "    l.append('.')\n",
    "s = ''.join(l)\n"
   ]
  },
  {
   "cell_type": "code",
   "execution_count": 200,
   "metadata": {
    "collapsed": false
   },
   "outputs": [
    {
     "name": "stdout",
     "output_type": "stream",
     "text": [
      "      ANDREW\n",
      "        TUBA\n",
      "    REGINALD\n",
      "       BRIAN\n"
     ]
    }
   ],
   "source": [
    "print('\\n'.join(['{0:>12}'.format(nm.upper()) for nm in names]))"
   ]
  },
  {
   "cell_type": "code",
   "execution_count": 150,
   "metadata": {
    "collapsed": false
   },
   "outputs": [
    {
     "name": "stdout",
     "output_type": "stream",
     "text": [
      "|  Andrew|\n",
      "|    Tuba|\n",
      "|Reginald|\n",
      "|   Brian|\n"
     ]
    }
   ],
   "source": [
    "names = {'Brian','Reginald','Andrew','Tuba'}\n",
    "w = max([len(x) for x in names])\n",
    "print ('\\n'.join(['|{0:>{width}}|'.format(nm,width=w) for nm in names]))"
   ]
  },
  {
   "cell_type": "markdown",
   "metadata": {},
   "source": [
    "Repository for python modules not included in the standard library\n",
    "------------\n",
    "```\n",
    "[Repository](pypi.python.org)\n",
    "```\n",
    "[Repository](pypi.python.org) "
   ]
  },
  {
   "cell_type": "markdown",
   "metadata": {},
   "source": [
    "Displaying images in the Jupyter notebook\n",
    "--------\n",
    "```\n",
    "![My side project](Toyyot.jpg)\n",
    "```\n",
    "![My side project](Toyyot.jpg)"
   ]
  },
  {
   "cell_type": "markdown",
   "metadata": {},
   "source": [
    "Sample REST function call\n",
    "------------"
   ]
  },
  {
   "cell_type": "code",
   "execution_count": 294,
   "metadata": {
    "collapsed": true
   },
   "outputs": [],
   "source": [
    "import requests\n",
    "import json"
   ]
  },
  {
   "cell_type": "code",
   "execution_count": 295,
   "metadata": {
    "collapsed": true
   },
   "outputs": [],
   "source": [
    "response = requests.get('https://api.github.com/users/gardnerpomper/repos')\n",
    "repoL = response.json()"
   ]
  },
  {
   "cell_type": "code",
   "execution_count": 297,
   "metadata": {
    "collapsed": false
   },
   "outputs": [
    {
     "data": {
      "text/plain": [
       "[{'archive_url': 'https://api.github.com/repos/gardnerpomper/bob_tutorial/{archive_format}{/ref}',\n",
       "  'assignees_url': 'https://api.github.com/repos/gardnerpomper/bob_tutorial/assignees{/user}',\n",
       "  'blobs_url': 'https://api.github.com/repos/gardnerpomper/bob_tutorial/git/blobs{/sha}',\n",
       "  'branches_url': 'https://api.github.com/repos/gardnerpomper/bob_tutorial/branches{/branch}',\n",
       "  'clone_url': 'https://github.com/gardnerpomper/bob_tutorial.git',\n",
       "  'collaborators_url': 'https://api.github.com/repos/gardnerpomper/bob_tutorial/collaborators{/collaborator}',\n",
       "  'comments_url': 'https://api.github.com/repos/gardnerpomper/bob_tutorial/comments{/number}',\n",
       "  'commits_url': 'https://api.github.com/repos/gardnerpomper/bob_tutorial/commits{/sha}',\n",
       "  'compare_url': 'https://api.github.com/repos/gardnerpomper/bob_tutorial/compare/{base}...{head}',\n",
       "  'contents_url': 'https://api.github.com/repos/gardnerpomper/bob_tutorial/contents/{+path}',\n",
       "  'contributors_url': 'https://api.github.com/repos/gardnerpomper/bob_tutorial/contributors',\n",
       "  'created_at': '2015-08-12T21:19:17Z',\n",
       "  'default_branch': 'master',\n",
       "  'deployments_url': 'https://api.github.com/repos/gardnerpomper/bob_tutorial/deployments',\n",
       "  'description': 'Docker image for the BoB tutorial',\n",
       "  'downloads_url': 'https://api.github.com/repos/gardnerpomper/bob_tutorial/downloads',\n",
       "  'events_url': 'https://api.github.com/repos/gardnerpomper/bob_tutorial/events',\n",
       "  'fork': False,\n",
       "  'forks': 0,\n",
       "  'forks_count': 0,\n",
       "  'forks_url': 'https://api.github.com/repos/gardnerpomper/bob_tutorial/forks',\n",
       "  'full_name': 'gardnerpomper/bob_tutorial',\n",
       "  'git_commits_url': 'https://api.github.com/repos/gardnerpomper/bob_tutorial/git/commits{/sha}',\n",
       "  'git_refs_url': 'https://api.github.com/repos/gardnerpomper/bob_tutorial/git/refs{/sha}',\n",
       "  'git_tags_url': 'https://api.github.com/repos/gardnerpomper/bob_tutorial/git/tags{/sha}',\n",
       "  'git_url': 'git://github.com/gardnerpomper/bob_tutorial.git',\n",
       "  'has_downloads': True,\n",
       "  'has_issues': True,\n",
       "  'has_pages': False,\n",
       "  'has_wiki': True,\n",
       "  'homepage': None,\n",
       "  'hooks_url': 'https://api.github.com/repos/gardnerpomper/bob_tutorial/hooks',\n",
       "  'html_url': 'https://github.com/gardnerpomper/bob_tutorial',\n",
       "  'id': 40624854,\n",
       "  'issue_comment_url': 'https://api.github.com/repos/gardnerpomper/bob_tutorial/issues/comments{/number}',\n",
       "  'issue_events_url': 'https://api.github.com/repos/gardnerpomper/bob_tutorial/issues/events{/number}',\n",
       "  'issues_url': 'https://api.github.com/repos/gardnerpomper/bob_tutorial/issues{/number}',\n",
       "  'keys_url': 'https://api.github.com/repos/gardnerpomper/bob_tutorial/keys{/key_id}',\n",
       "  'labels_url': 'https://api.github.com/repos/gardnerpomper/bob_tutorial/labels{/name}',\n",
       "  'language': 'Shell',\n",
       "  'languages_url': 'https://api.github.com/repos/gardnerpomper/bob_tutorial/languages',\n",
       "  'merges_url': 'https://api.github.com/repos/gardnerpomper/bob_tutorial/merges',\n",
       "  'milestones_url': 'https://api.github.com/repos/gardnerpomper/bob_tutorial/milestones{/number}',\n",
       "  'mirror_url': None,\n",
       "  'name': 'bob_tutorial',\n",
       "  'notifications_url': 'https://api.github.com/repos/gardnerpomper/bob_tutorial/notifications{?since,all,participating}',\n",
       "  'open_issues': 0,\n",
       "  'open_issues_count': 0,\n",
       "  'owner': {'avatar_url': 'https://avatars.githubusercontent.com/u/3866293?v=3',\n",
       "   'events_url': 'https://api.github.com/users/gardnerpomper/events{/privacy}',\n",
       "   'followers_url': 'https://api.github.com/users/gardnerpomper/followers',\n",
       "   'following_url': 'https://api.github.com/users/gardnerpomper/following{/other_user}',\n",
       "   'gists_url': 'https://api.github.com/users/gardnerpomper/gists{/gist_id}',\n",
       "   'gravatar_id': '',\n",
       "   'html_url': 'https://github.com/gardnerpomper',\n",
       "   'id': 3866293,\n",
       "   'login': 'gardnerpomper',\n",
       "   'organizations_url': 'https://api.github.com/users/gardnerpomper/orgs',\n",
       "   'received_events_url': 'https://api.github.com/users/gardnerpomper/received_events',\n",
       "   'repos_url': 'https://api.github.com/users/gardnerpomper/repos',\n",
       "   'site_admin': False,\n",
       "   'starred_url': 'https://api.github.com/users/gardnerpomper/starred{/owner}{/repo}',\n",
       "   'subscriptions_url': 'https://api.github.com/users/gardnerpomper/subscriptions',\n",
       "   'type': 'User',\n",
       "   'url': 'https://api.github.com/users/gardnerpomper'},\n",
       "  'private': False,\n",
       "  'pulls_url': 'https://api.github.com/repos/gardnerpomper/bob_tutorial/pulls{/number}',\n",
       "  'pushed_at': '2015-08-12T21:30:20Z',\n",
       "  'releases_url': 'https://api.github.com/repos/gardnerpomper/bob_tutorial/releases{/id}',\n",
       "  'size': 132,\n",
       "  'ssh_url': 'git@github.com:gardnerpomper/bob_tutorial.git',\n",
       "  'stargazers_count': 0,\n",
       "  'stargazers_url': 'https://api.github.com/repos/gardnerpomper/bob_tutorial/stargazers',\n",
       "  'statuses_url': 'https://api.github.com/repos/gardnerpomper/bob_tutorial/statuses/{sha}',\n",
       "  'subscribers_url': 'https://api.github.com/repos/gardnerpomper/bob_tutorial/subscribers',\n",
       "  'subscription_url': 'https://api.github.com/repos/gardnerpomper/bob_tutorial/subscription',\n",
       "  'svn_url': 'https://github.com/gardnerpomper/bob_tutorial',\n",
       "  'tags_url': 'https://api.github.com/repos/gardnerpomper/bob_tutorial/tags',\n",
       "  'teams_url': 'https://api.github.com/repos/gardnerpomper/bob_tutorial/teams',\n",
       "  'trees_url': 'https://api.github.com/repos/gardnerpomper/bob_tutorial/git/trees{/sha}',\n",
       "  'updated_at': '2015-08-12T21:20:53Z',\n",
       "  'url': 'https://api.github.com/repos/gardnerpomper/bob_tutorial',\n",
       "  'watchers': 0,\n",
       "  'watchers_count': 0},\n",
       " {'archive_url': 'https://api.github.com/repos/gardnerpomper/CleanDataPeerAssessment/{archive_format}{/ref}',\n",
       "  'assignees_url': 'https://api.github.com/repos/gardnerpomper/CleanDataPeerAssessment/assignees{/user}',\n",
       "  'blobs_url': 'https://api.github.com/repos/gardnerpomper/CleanDataPeerAssessment/git/blobs{/sha}',\n",
       "  'branches_url': 'https://api.github.com/repos/gardnerpomper/CleanDataPeerAssessment/branches{/branch}',\n",
       "  'clone_url': 'https://github.com/gardnerpomper/CleanDataPeerAssessment.git',\n",
       "  'collaborators_url': 'https://api.github.com/repos/gardnerpomper/CleanDataPeerAssessment/collaborators{/collaborator}',\n",
       "  'comments_url': 'https://api.github.com/repos/gardnerpomper/CleanDataPeerAssessment/comments{/number}',\n",
       "  'commits_url': 'https://api.github.com/repos/gardnerpomper/CleanDataPeerAssessment/commits{/sha}',\n",
       "  'compare_url': 'https://api.github.com/repos/gardnerpomper/CleanDataPeerAssessment/compare/{base}...{head}',\n",
       "  'contents_url': 'https://api.github.com/repos/gardnerpomper/CleanDataPeerAssessment/contents/{+path}',\n",
       "  'contributors_url': 'https://api.github.com/repos/gardnerpomper/CleanDataPeerAssessment/contributors',\n",
       "  'created_at': '2014-04-20T13:56:51Z',\n",
       "  'default_branch': 'master',\n",
       "  'deployments_url': 'https://api.github.com/repos/gardnerpomper/CleanDataPeerAssessment/deployments',\n",
       "  'description': 'peer assessement for getting and cleaning data class',\n",
       "  'downloads_url': 'https://api.github.com/repos/gardnerpomper/CleanDataPeerAssessment/downloads',\n",
       "  'events_url': 'https://api.github.com/repos/gardnerpomper/CleanDataPeerAssessment/events',\n",
       "  'fork': False,\n",
       "  'forks': 0,\n",
       "  'forks_count': 0,\n",
       "  'forks_url': 'https://api.github.com/repos/gardnerpomper/CleanDataPeerAssessment/forks',\n",
       "  'full_name': 'gardnerpomper/CleanDataPeerAssessment',\n",
       "  'git_commits_url': 'https://api.github.com/repos/gardnerpomper/CleanDataPeerAssessment/git/commits{/sha}',\n",
       "  'git_refs_url': 'https://api.github.com/repos/gardnerpomper/CleanDataPeerAssessment/git/refs{/sha}',\n",
       "  'git_tags_url': 'https://api.github.com/repos/gardnerpomper/CleanDataPeerAssessment/git/tags{/sha}',\n",
       "  'git_url': 'git://github.com/gardnerpomper/CleanDataPeerAssessment.git',\n",
       "  'has_downloads': True,\n",
       "  'has_issues': True,\n",
       "  'has_pages': False,\n",
       "  'has_wiki': True,\n",
       "  'homepage': None,\n",
       "  'hooks_url': 'https://api.github.com/repos/gardnerpomper/CleanDataPeerAssessment/hooks',\n",
       "  'html_url': 'https://github.com/gardnerpomper/CleanDataPeerAssessment',\n",
       "  'id': 18965430,\n",
       "  'issue_comment_url': 'https://api.github.com/repos/gardnerpomper/CleanDataPeerAssessment/issues/comments{/number}',\n",
       "  'issue_events_url': 'https://api.github.com/repos/gardnerpomper/CleanDataPeerAssessment/issues/events{/number}',\n",
       "  'issues_url': 'https://api.github.com/repos/gardnerpomper/CleanDataPeerAssessment/issues{/number}',\n",
       "  'keys_url': 'https://api.github.com/repos/gardnerpomper/CleanDataPeerAssessment/keys{/key_id}',\n",
       "  'labels_url': 'https://api.github.com/repos/gardnerpomper/CleanDataPeerAssessment/labels{/name}',\n",
       "  'language': 'Python',\n",
       "  'languages_url': 'https://api.github.com/repos/gardnerpomper/CleanDataPeerAssessment/languages',\n",
       "  'merges_url': 'https://api.github.com/repos/gardnerpomper/CleanDataPeerAssessment/merges',\n",
       "  'milestones_url': 'https://api.github.com/repos/gardnerpomper/CleanDataPeerAssessment/milestones{/number}',\n",
       "  'mirror_url': None,\n",
       "  'name': 'CleanDataPeerAssessment',\n",
       "  'notifications_url': 'https://api.github.com/repos/gardnerpomper/CleanDataPeerAssessment/notifications{?since,all,participating}',\n",
       "  'open_issues': 0,\n",
       "  'open_issues_count': 0,\n",
       "  'owner': {'avatar_url': 'https://avatars.githubusercontent.com/u/3866293?v=3',\n",
       "   'events_url': 'https://api.github.com/users/gardnerpomper/events{/privacy}',\n",
       "   'followers_url': 'https://api.github.com/users/gardnerpomper/followers',\n",
       "   'following_url': 'https://api.github.com/users/gardnerpomper/following{/other_user}',\n",
       "   'gists_url': 'https://api.github.com/users/gardnerpomper/gists{/gist_id}',\n",
       "   'gravatar_id': '',\n",
       "   'html_url': 'https://github.com/gardnerpomper',\n",
       "   'id': 3866293,\n",
       "   'login': 'gardnerpomper',\n",
       "   'organizations_url': 'https://api.github.com/users/gardnerpomper/orgs',\n",
       "   'received_events_url': 'https://api.github.com/users/gardnerpomper/received_events',\n",
       "   'repos_url': 'https://api.github.com/users/gardnerpomper/repos',\n",
       "   'site_admin': False,\n",
       "   'starred_url': 'https://api.github.com/users/gardnerpomper/starred{/owner}{/repo}',\n",
       "   'subscriptions_url': 'https://api.github.com/users/gardnerpomper/subscriptions',\n",
       "   'type': 'User',\n",
       "   'url': 'https://api.github.com/users/gardnerpomper'},\n",
       "  'private': False,\n",
       "  'pulls_url': 'https://api.github.com/repos/gardnerpomper/CleanDataPeerAssessment/pulls{/number}',\n",
       "  'pushed_at': '2014-04-20T14:35:21Z',\n",
       "  'releases_url': 'https://api.github.com/repos/gardnerpomper/CleanDataPeerAssessment/releases{/id}',\n",
       "  'size': 140,\n",
       "  'ssh_url': 'git@github.com:gardnerpomper/CleanDataPeerAssessment.git',\n",
       "  'stargazers_count': 0,\n",
       "  'stargazers_url': 'https://api.github.com/repos/gardnerpomper/CleanDataPeerAssessment/stargazers',\n",
       "  'statuses_url': 'https://api.github.com/repos/gardnerpomper/CleanDataPeerAssessment/statuses/{sha}',\n",
       "  'subscribers_url': 'https://api.github.com/repos/gardnerpomper/CleanDataPeerAssessment/subscribers',\n",
       "  'subscription_url': 'https://api.github.com/repos/gardnerpomper/CleanDataPeerAssessment/subscription',\n",
       "  'svn_url': 'https://github.com/gardnerpomper/CleanDataPeerAssessment',\n",
       "  'tags_url': 'https://api.github.com/repos/gardnerpomper/CleanDataPeerAssessment/tags',\n",
       "  'teams_url': 'https://api.github.com/repos/gardnerpomper/CleanDataPeerAssessment/teams',\n",
       "  'trees_url': 'https://api.github.com/repos/gardnerpomper/CleanDataPeerAssessment/git/trees{/sha}',\n",
       "  'updated_at': '2014-05-24T07:16:08Z',\n",
       "  'url': 'https://api.github.com/repos/gardnerpomper/CleanDataPeerAssessment',\n",
       "  'watchers': 0,\n",
       "  'watchers_count': 0}]"
      ]
     },
     "execution_count": 297,
     "metadata": {},
     "output_type": "execute_result"
    }
   ],
   "source": [
    "repoL[:2]"
   ]
  },
  {
   "cell_type": "code",
   "execution_count": 296,
   "metadata": {
    "collapsed": false
   },
   "outputs": [
    {
     "name": "stdout",
     "output_type": "stream",
     "text": [
      "gardnerpomper/CleanDataPeerAssessment\n",
      "gardnerpomper/DevelopingDataProducts\n",
      "gardnerpomper/DevelopingDataSlidify\n",
      "gardnerpomper/ExData_Plotting1\n",
      "gardnerpomper/ExploratoryDataAnalysis_Project1\n",
      "gardnerpomper/IntroPythonCOX\n",
      "gardnerpomper/PracticalMachineLearning\n",
      "gardnerpomper/ProgrammingAssignment2\n",
      "gardnerpomper/PyDebug\n",
      "gardnerpomper/RepData_PeerAssessment1\n",
      "gardnerpomper/Spoon-Knife\n",
      "gardnerpomper/bob_tutorial\n",
      "gardnerpomper/courses\n",
      "gardnerpomper/datasciencecoursera\n",
      "gardnerpomper/docker-kivy\n",
      "gardnerpomper/ec2docker\n",
      "gardnerpomper/emacs-vnc\n",
      "gardnerpomper/minimal-xfce-xvnc-xrdp\n",
      "gardnerpomper/novnc\n",
      "gardnerpomper/testDeck\n"
     ]
    }
   ],
   "source": [
    "print('\\n'.join(sorted([r['full_name'] for r in repoL])))"
   ]
  },
  {
   "cell_type": "code",
   "execution_count": 298,
   "metadata": {
    "collapsed": true
   },
   "outputs": [],
   "source": [
    "def html_table(repoL):\n",
    "    htmlL = []\n",
    "    htmlL.append('<table><tr><th>#</th><th>key</th><th>val</th></tr>')\n",
    "    for ii,rec in enumerate(repoL):\n",
    "        tmpL = ['<td>{}</td><td>{}</td>'.format(k,v) for k,v in sorted(rec.items())]\n",
    "        htmlL.append('<tr><td>{}</td>{}</tr>'.format(ii,'</tr><tr><td></td>'.join(tmpL)))\n",
    "    htmlL.append('</table>')\n",
    "    return ''.join(htmlL)\n"
   ]
  },
  {
   "cell_type": "code",
   "execution_count": 299,
   "metadata": {
    "collapsed": true
   },
   "outputs": [],
   "source": [
    "class T:\n",
    "    def __init__(self,repoL):\n",
    "        self._repoL = repoL\n",
    "    def _repr_html_(self):\n",
    "        return html_table(self._repoL)\n",
    "myT = T(repoL)"
   ]
  },
  {
   "cell_type": "code",
   "execution_count": 300,
   "metadata": {
    "collapsed": false
   },
   "outputs": [
    {
     "data": {
      "text/html": [
       "<table><tr><th>#</th><th>key</th><th>val</th></tr><tr><td>0</td><td>archive_url</td><td>https://api.github.com/repos/gardnerpomper/bob_tutorial/{archive_format}{/ref}</td></tr><tr><td></td><td>assignees_url</td><td>https://api.github.com/repos/gardnerpomper/bob_tutorial/assignees{/user}</td></tr><tr><td></td><td>blobs_url</td><td>https://api.github.com/repos/gardnerpomper/bob_tutorial/git/blobs{/sha}</td></tr><tr><td></td><td>branches_url</td><td>https://api.github.com/repos/gardnerpomper/bob_tutorial/branches{/branch}</td></tr><tr><td></td><td>clone_url</td><td>https://github.com/gardnerpomper/bob_tutorial.git</td></tr><tr><td></td><td>collaborators_url</td><td>https://api.github.com/repos/gardnerpomper/bob_tutorial/collaborators{/collaborator}</td></tr><tr><td></td><td>comments_url</td><td>https://api.github.com/repos/gardnerpomper/bob_tutorial/comments{/number}</td></tr><tr><td></td><td>commits_url</td><td>https://api.github.com/repos/gardnerpomper/bob_tutorial/commits{/sha}</td></tr><tr><td></td><td>compare_url</td><td>https://api.github.com/repos/gardnerpomper/bob_tutorial/compare/{base}...{head}</td></tr><tr><td></td><td>contents_url</td><td>https://api.github.com/repos/gardnerpomper/bob_tutorial/contents/{+path}</td></tr><tr><td></td><td>contributors_url</td><td>https://api.github.com/repos/gardnerpomper/bob_tutorial/contributors</td></tr><tr><td></td><td>created_at</td><td>2015-08-12T21:19:17Z</td></tr><tr><td></td><td>default_branch</td><td>master</td></tr><tr><td></td><td>deployments_url</td><td>https://api.github.com/repos/gardnerpomper/bob_tutorial/deployments</td></tr><tr><td></td><td>description</td><td>Docker image for the BoB tutorial</td></tr><tr><td></td><td>downloads_url</td><td>https://api.github.com/repos/gardnerpomper/bob_tutorial/downloads</td></tr><tr><td></td><td>events_url</td><td>https://api.github.com/repos/gardnerpomper/bob_tutorial/events</td></tr><tr><td></td><td>fork</td><td>False</td></tr><tr><td></td><td>forks</td><td>0</td></tr><tr><td></td><td>forks_count</td><td>0</td></tr><tr><td></td><td>forks_url</td><td>https://api.github.com/repos/gardnerpomper/bob_tutorial/forks</td></tr><tr><td></td><td>full_name</td><td>gardnerpomper/bob_tutorial</td></tr><tr><td></td><td>git_commits_url</td><td>https://api.github.com/repos/gardnerpomper/bob_tutorial/git/commits{/sha}</td></tr><tr><td></td><td>git_refs_url</td><td>https://api.github.com/repos/gardnerpomper/bob_tutorial/git/refs{/sha}</td></tr><tr><td></td><td>git_tags_url</td><td>https://api.github.com/repos/gardnerpomper/bob_tutorial/git/tags{/sha}</td></tr><tr><td></td><td>git_url</td><td>git://github.com/gardnerpomper/bob_tutorial.git</td></tr><tr><td></td><td>has_downloads</td><td>True</td></tr><tr><td></td><td>has_issues</td><td>True</td></tr><tr><td></td><td>has_pages</td><td>False</td></tr><tr><td></td><td>has_wiki</td><td>True</td></tr><tr><td></td><td>homepage</td><td>None</td></tr><tr><td></td><td>hooks_url</td><td>https://api.github.com/repos/gardnerpomper/bob_tutorial/hooks</td></tr><tr><td></td><td>html_url</td><td>https://github.com/gardnerpomper/bob_tutorial</td></tr><tr><td></td><td>id</td><td>40624854</td></tr><tr><td></td><td>issue_comment_url</td><td>https://api.github.com/repos/gardnerpomper/bob_tutorial/issues/comments{/number}</td></tr><tr><td></td><td>issue_events_url</td><td>https://api.github.com/repos/gardnerpomper/bob_tutorial/issues/events{/number}</td></tr><tr><td></td><td>issues_url</td><td>https://api.github.com/repos/gardnerpomper/bob_tutorial/issues{/number}</td></tr><tr><td></td><td>keys_url</td><td>https://api.github.com/repos/gardnerpomper/bob_tutorial/keys{/key_id}</td></tr><tr><td></td><td>labels_url</td><td>https://api.github.com/repos/gardnerpomper/bob_tutorial/labels{/name}</td></tr><tr><td></td><td>language</td><td>Shell</td></tr><tr><td></td><td>languages_url</td><td>https://api.github.com/repos/gardnerpomper/bob_tutorial/languages</td></tr><tr><td></td><td>merges_url</td><td>https://api.github.com/repos/gardnerpomper/bob_tutorial/merges</td></tr><tr><td></td><td>milestones_url</td><td>https://api.github.com/repos/gardnerpomper/bob_tutorial/milestones{/number}</td></tr><tr><td></td><td>mirror_url</td><td>None</td></tr><tr><td></td><td>name</td><td>bob_tutorial</td></tr><tr><td></td><td>notifications_url</td><td>https://api.github.com/repos/gardnerpomper/bob_tutorial/notifications{?since,all,participating}</td></tr><tr><td></td><td>open_issues</td><td>0</td></tr><tr><td></td><td>open_issues_count</td><td>0</td></tr><tr><td></td><td>owner</td><td>{'id': 3866293, 'type': 'User', 'gravatar_id': '', 'avatar_url': 'https://avatars.githubusercontent.com/u/3866293?v=3', 'starred_url': 'https://api.github.com/users/gardnerpomper/starred{/owner}{/repo}', 'html_url': 'https://github.com/gardnerpomper', 'received_events_url': 'https://api.github.com/users/gardnerpomper/received_events', 'url': 'https://api.github.com/users/gardnerpomper', 'followers_url': 'https://api.github.com/users/gardnerpomper/followers', 'events_url': 'https://api.github.com/users/gardnerpomper/events{/privacy}', 'organizations_url': 'https://api.github.com/users/gardnerpomper/orgs', 'site_admin': False, 'repos_url': 'https://api.github.com/users/gardnerpomper/repos', 'login': 'gardnerpomper', 'gists_url': 'https://api.github.com/users/gardnerpomper/gists{/gist_id}', 'following_url': 'https://api.github.com/users/gardnerpomper/following{/other_user}', 'subscriptions_url': 'https://api.github.com/users/gardnerpomper/subscriptions'}</td></tr><tr><td></td><td>private</td><td>False</td></tr><tr><td></td><td>pulls_url</td><td>https://api.github.com/repos/gardnerpomper/bob_tutorial/pulls{/number}</td></tr><tr><td></td><td>pushed_at</td><td>2015-08-12T21:30:20Z</td></tr><tr><td></td><td>releases_url</td><td>https://api.github.com/repos/gardnerpomper/bob_tutorial/releases{/id}</td></tr><tr><td></td><td>size</td><td>132</td></tr><tr><td></td><td>ssh_url</td><td>git@github.com:gardnerpomper/bob_tutorial.git</td></tr><tr><td></td><td>stargazers_count</td><td>0</td></tr><tr><td></td><td>stargazers_url</td><td>https://api.github.com/repos/gardnerpomper/bob_tutorial/stargazers</td></tr><tr><td></td><td>statuses_url</td><td>https://api.github.com/repos/gardnerpomper/bob_tutorial/statuses/{sha}</td></tr><tr><td></td><td>subscribers_url</td><td>https://api.github.com/repos/gardnerpomper/bob_tutorial/subscribers</td></tr><tr><td></td><td>subscription_url</td><td>https://api.github.com/repos/gardnerpomper/bob_tutorial/subscription</td></tr><tr><td></td><td>svn_url</td><td>https://github.com/gardnerpomper/bob_tutorial</td></tr><tr><td></td><td>tags_url</td><td>https://api.github.com/repos/gardnerpomper/bob_tutorial/tags</td></tr><tr><td></td><td>teams_url</td><td>https://api.github.com/repos/gardnerpomper/bob_tutorial/teams</td></tr><tr><td></td><td>trees_url</td><td>https://api.github.com/repos/gardnerpomper/bob_tutorial/git/trees{/sha}</td></tr><tr><td></td><td>updated_at</td><td>2015-08-12T21:20:53Z</td></tr><tr><td></td><td>url</td><td>https://api.github.com/repos/gardnerpomper/bob_tutorial</td></tr><tr><td></td><td>watchers</td><td>0</td></tr><tr><td></td><td>watchers_count</td><td>0</td></tr><tr><td>1</td><td>archive_url</td><td>https://api.github.com/repos/gardnerpomper/CleanDataPeerAssessment/{archive_format}{/ref}</td></tr><tr><td></td><td>assignees_url</td><td>https://api.github.com/repos/gardnerpomper/CleanDataPeerAssessment/assignees{/user}</td></tr><tr><td></td><td>blobs_url</td><td>https://api.github.com/repos/gardnerpomper/CleanDataPeerAssessment/git/blobs{/sha}</td></tr><tr><td></td><td>branches_url</td><td>https://api.github.com/repos/gardnerpomper/CleanDataPeerAssessment/branches{/branch}</td></tr><tr><td></td><td>clone_url</td><td>https://github.com/gardnerpomper/CleanDataPeerAssessment.git</td></tr><tr><td></td><td>collaborators_url</td><td>https://api.github.com/repos/gardnerpomper/CleanDataPeerAssessment/collaborators{/collaborator}</td></tr><tr><td></td><td>comments_url</td><td>https://api.github.com/repos/gardnerpomper/CleanDataPeerAssessment/comments{/number}</td></tr><tr><td></td><td>commits_url</td><td>https://api.github.com/repos/gardnerpomper/CleanDataPeerAssessment/commits{/sha}</td></tr><tr><td></td><td>compare_url</td><td>https://api.github.com/repos/gardnerpomper/CleanDataPeerAssessment/compare/{base}...{head}</td></tr><tr><td></td><td>contents_url</td><td>https://api.github.com/repos/gardnerpomper/CleanDataPeerAssessment/contents/{+path}</td></tr><tr><td></td><td>contributors_url</td><td>https://api.github.com/repos/gardnerpomper/CleanDataPeerAssessment/contributors</td></tr><tr><td></td><td>created_at</td><td>2014-04-20T13:56:51Z</td></tr><tr><td></td><td>default_branch</td><td>master</td></tr><tr><td></td><td>deployments_url</td><td>https://api.github.com/repos/gardnerpomper/CleanDataPeerAssessment/deployments</td></tr><tr><td></td><td>description</td><td>peer assessement for getting and cleaning data class</td></tr><tr><td></td><td>downloads_url</td><td>https://api.github.com/repos/gardnerpomper/CleanDataPeerAssessment/downloads</td></tr><tr><td></td><td>events_url</td><td>https://api.github.com/repos/gardnerpomper/CleanDataPeerAssessment/events</td></tr><tr><td></td><td>fork</td><td>False</td></tr><tr><td></td><td>forks</td><td>0</td></tr><tr><td></td><td>forks_count</td><td>0</td></tr><tr><td></td><td>forks_url</td><td>https://api.github.com/repos/gardnerpomper/CleanDataPeerAssessment/forks</td></tr><tr><td></td><td>full_name</td><td>gardnerpomper/CleanDataPeerAssessment</td></tr><tr><td></td><td>git_commits_url</td><td>https://api.github.com/repos/gardnerpomper/CleanDataPeerAssessment/git/commits{/sha}</td></tr><tr><td></td><td>git_refs_url</td><td>https://api.github.com/repos/gardnerpomper/CleanDataPeerAssessment/git/refs{/sha}</td></tr><tr><td></td><td>git_tags_url</td><td>https://api.github.com/repos/gardnerpomper/CleanDataPeerAssessment/git/tags{/sha}</td></tr><tr><td></td><td>git_url</td><td>git://github.com/gardnerpomper/CleanDataPeerAssessment.git</td></tr><tr><td></td><td>has_downloads</td><td>True</td></tr><tr><td></td><td>has_issues</td><td>True</td></tr><tr><td></td><td>has_pages</td><td>False</td></tr><tr><td></td><td>has_wiki</td><td>True</td></tr><tr><td></td><td>homepage</td><td>None</td></tr><tr><td></td><td>hooks_url</td><td>https://api.github.com/repos/gardnerpomper/CleanDataPeerAssessment/hooks</td></tr><tr><td></td><td>html_url</td><td>https://github.com/gardnerpomper/CleanDataPeerAssessment</td></tr><tr><td></td><td>id</td><td>18965430</td></tr><tr><td></td><td>issue_comment_url</td><td>https://api.github.com/repos/gardnerpomper/CleanDataPeerAssessment/issues/comments{/number}</td></tr><tr><td></td><td>issue_events_url</td><td>https://api.github.com/repos/gardnerpomper/CleanDataPeerAssessment/issues/events{/number}</td></tr><tr><td></td><td>issues_url</td><td>https://api.github.com/repos/gardnerpomper/CleanDataPeerAssessment/issues{/number}</td></tr><tr><td></td><td>keys_url</td><td>https://api.github.com/repos/gardnerpomper/CleanDataPeerAssessment/keys{/key_id}</td></tr><tr><td></td><td>labels_url</td><td>https://api.github.com/repos/gardnerpomper/CleanDataPeerAssessment/labels{/name}</td></tr><tr><td></td><td>language</td><td>Python</td></tr><tr><td></td><td>languages_url</td><td>https://api.github.com/repos/gardnerpomper/CleanDataPeerAssessment/languages</td></tr><tr><td></td><td>merges_url</td><td>https://api.github.com/repos/gardnerpomper/CleanDataPeerAssessment/merges</td></tr><tr><td></td><td>milestones_url</td><td>https://api.github.com/repos/gardnerpomper/CleanDataPeerAssessment/milestones{/number}</td></tr><tr><td></td><td>mirror_url</td><td>None</td></tr><tr><td></td><td>name</td><td>CleanDataPeerAssessment</td></tr><tr><td></td><td>notifications_url</td><td>https://api.github.com/repos/gardnerpomper/CleanDataPeerAssessment/notifications{?since,all,participating}</td></tr><tr><td></td><td>open_issues</td><td>0</td></tr><tr><td></td><td>open_issues_count</td><td>0</td></tr><tr><td></td><td>owner</td><td>{'id': 3866293, 'type': 'User', 'gravatar_id': '', 'avatar_url': 'https://avatars.githubusercontent.com/u/3866293?v=3', 'starred_url': 'https://api.github.com/users/gardnerpomper/starred{/owner}{/repo}', 'html_url': 'https://github.com/gardnerpomper', 'received_events_url': 'https://api.github.com/users/gardnerpomper/received_events', 'url': 'https://api.github.com/users/gardnerpomper', 'followers_url': 'https://api.github.com/users/gardnerpomper/followers', 'events_url': 'https://api.github.com/users/gardnerpomper/events{/privacy}', 'organizations_url': 'https://api.github.com/users/gardnerpomper/orgs', 'site_admin': False, 'repos_url': 'https://api.github.com/users/gardnerpomper/repos', 'login': 'gardnerpomper', 'gists_url': 'https://api.github.com/users/gardnerpomper/gists{/gist_id}', 'following_url': 'https://api.github.com/users/gardnerpomper/following{/other_user}', 'subscriptions_url': 'https://api.github.com/users/gardnerpomper/subscriptions'}</td></tr><tr><td></td><td>private</td><td>False</td></tr><tr><td></td><td>pulls_url</td><td>https://api.github.com/repos/gardnerpomper/CleanDataPeerAssessment/pulls{/number}</td></tr><tr><td></td><td>pushed_at</td><td>2014-04-20T14:35:21Z</td></tr><tr><td></td><td>releases_url</td><td>https://api.github.com/repos/gardnerpomper/CleanDataPeerAssessment/releases{/id}</td></tr><tr><td></td><td>size</td><td>140</td></tr><tr><td></td><td>ssh_url</td><td>git@github.com:gardnerpomper/CleanDataPeerAssessment.git</td></tr><tr><td></td><td>stargazers_count</td><td>0</td></tr><tr><td></td><td>stargazers_url</td><td>https://api.github.com/repos/gardnerpomper/CleanDataPeerAssessment/stargazers</td></tr><tr><td></td><td>statuses_url</td><td>https://api.github.com/repos/gardnerpomper/CleanDataPeerAssessment/statuses/{sha}</td></tr><tr><td></td><td>subscribers_url</td><td>https://api.github.com/repos/gardnerpomper/CleanDataPeerAssessment/subscribers</td></tr><tr><td></td><td>subscription_url</td><td>https://api.github.com/repos/gardnerpomper/CleanDataPeerAssessment/subscription</td></tr><tr><td></td><td>svn_url</td><td>https://github.com/gardnerpomper/CleanDataPeerAssessment</td></tr><tr><td></td><td>tags_url</td><td>https://api.github.com/repos/gardnerpomper/CleanDataPeerAssessment/tags</td></tr><tr><td></td><td>teams_url</td><td>https://api.github.com/repos/gardnerpomper/CleanDataPeerAssessment/teams</td></tr><tr><td></td><td>trees_url</td><td>https://api.github.com/repos/gardnerpomper/CleanDataPeerAssessment/git/trees{/sha}</td></tr><tr><td></td><td>updated_at</td><td>2014-05-24T07:16:08Z</td></tr><tr><td></td><td>url</td><td>https://api.github.com/repos/gardnerpomper/CleanDataPeerAssessment</td></tr><tr><td></td><td>watchers</td><td>0</td></tr><tr><td></td><td>watchers_count</td><td>0</td></tr><tr><td>2</td><td>archive_url</td><td>https://api.github.com/repos/gardnerpomper/courses/{archive_format}{/ref}</td></tr><tr><td></td><td>assignees_url</td><td>https://api.github.com/repos/gardnerpomper/courses/assignees{/user}</td></tr><tr><td></td><td>blobs_url</td><td>https://api.github.com/repos/gardnerpomper/courses/git/blobs{/sha}</td></tr><tr><td></td><td>branches_url</td><td>https://api.github.com/repos/gardnerpomper/courses/branches{/branch}</td></tr><tr><td></td><td>clone_url</td><td>https://github.com/gardnerpomper/courses.git</td></tr><tr><td></td><td>collaborators_url</td><td>https://api.github.com/repos/gardnerpomper/courses/collaborators{/collaborator}</td></tr><tr><td></td><td>comments_url</td><td>https://api.github.com/repos/gardnerpomper/courses/comments{/number}</td></tr><tr><td></td><td>commits_url</td><td>https://api.github.com/repos/gardnerpomper/courses/commits{/sha}</td></tr><tr><td></td><td>compare_url</td><td>https://api.github.com/repos/gardnerpomper/courses/compare/{base}...{head}</td></tr><tr><td></td><td>contents_url</td><td>https://api.github.com/repos/gardnerpomper/courses/contents/{+path}</td></tr><tr><td></td><td>contributors_url</td><td>https://api.github.com/repos/gardnerpomper/courses/contributors</td></tr><tr><td></td><td>created_at</td><td>2014-05-30T23:36:01Z</td></tr><tr><td></td><td>default_branch</td><td>master</td></tr><tr><td></td><td>deployments_url</td><td>https://api.github.com/repos/gardnerpomper/courses/deployments</td></tr><tr><td></td><td>description</td><td>Course materials for the Data Science Specialization: https://www.coursera.org/specialization/jhudatascience/1</td></tr><tr><td></td><td>downloads_url</td><td>https://api.github.com/repos/gardnerpomper/courses/downloads</td></tr><tr><td></td><td>events_url</td><td>https://api.github.com/repos/gardnerpomper/courses/events</td></tr><tr><td></td><td>fork</td><td>True</td></tr><tr><td></td><td>forks</td><td>0</td></tr><tr><td></td><td>forks_count</td><td>0</td></tr><tr><td></td><td>forks_url</td><td>https://api.github.com/repos/gardnerpomper/courses/forks</td></tr><tr><td></td><td>full_name</td><td>gardnerpomper/courses</td></tr><tr><td></td><td>git_commits_url</td><td>https://api.github.com/repos/gardnerpomper/courses/git/commits{/sha}</td></tr><tr><td></td><td>git_refs_url</td><td>https://api.github.com/repos/gardnerpomper/courses/git/refs{/sha}</td></tr><tr><td></td><td>git_tags_url</td><td>https://api.github.com/repos/gardnerpomper/courses/git/tags{/sha}</td></tr><tr><td></td><td>git_url</td><td>git://github.com/gardnerpomper/courses.git</td></tr><tr><td></td><td>has_downloads</td><td>True</td></tr><tr><td></td><td>has_issues</td><td>False</td></tr><tr><td></td><td>has_pages</td><td>False</td></tr><tr><td></td><td>has_wiki</td><td>True</td></tr><tr><td></td><td>homepage</td><td>None</td></tr><tr><td></td><td>hooks_url</td><td>https://api.github.com/repos/gardnerpomper/courses/hooks</td></tr><tr><td></td><td>html_url</td><td>https://github.com/gardnerpomper/courses</td></tr><tr><td></td><td>id</td><td>20345389</td></tr><tr><td></td><td>issue_comment_url</td><td>https://api.github.com/repos/gardnerpomper/courses/issues/comments{/number}</td></tr><tr><td></td><td>issue_events_url</td><td>https://api.github.com/repos/gardnerpomper/courses/issues/events{/number}</td></tr><tr><td></td><td>issues_url</td><td>https://api.github.com/repos/gardnerpomper/courses/issues{/number}</td></tr><tr><td></td><td>keys_url</td><td>https://api.github.com/repos/gardnerpomper/courses/keys{/key_id}</td></tr><tr><td></td><td>labels_url</td><td>https://api.github.com/repos/gardnerpomper/courses/labels{/name}</td></tr><tr><td></td><td>language</td><td>JavaScript</td></tr><tr><td></td><td>languages_url</td><td>https://api.github.com/repos/gardnerpomper/courses/languages</td></tr><tr><td></td><td>merges_url</td><td>https://api.github.com/repos/gardnerpomper/courses/merges</td></tr><tr><td></td><td>milestones_url</td><td>https://api.github.com/repos/gardnerpomper/courses/milestones{/number}</td></tr><tr><td></td><td>mirror_url</td><td>None</td></tr><tr><td></td><td>name</td><td>courses</td></tr><tr><td></td><td>notifications_url</td><td>https://api.github.com/repos/gardnerpomper/courses/notifications{?since,all,participating}</td></tr><tr><td></td><td>open_issues</td><td>0</td></tr><tr><td></td><td>open_issues_count</td><td>0</td></tr><tr><td></td><td>owner</td><td>{'id': 3866293, 'type': 'User', 'gravatar_id': '', 'avatar_url': 'https://avatars.githubusercontent.com/u/3866293?v=3', 'starred_url': 'https://api.github.com/users/gardnerpomper/starred{/owner}{/repo}', 'html_url': 'https://github.com/gardnerpomper', 'received_events_url': 'https://api.github.com/users/gardnerpomper/received_events', 'url': 'https://api.github.com/users/gardnerpomper', 'followers_url': 'https://api.github.com/users/gardnerpomper/followers', 'events_url': 'https://api.github.com/users/gardnerpomper/events{/privacy}', 'organizations_url': 'https://api.github.com/users/gardnerpomper/orgs', 'site_admin': False, 'repos_url': 'https://api.github.com/users/gardnerpomper/repos', 'login': 'gardnerpomper', 'gists_url': 'https://api.github.com/users/gardnerpomper/gists{/gist_id}', 'following_url': 'https://api.github.com/users/gardnerpomper/following{/other_user}', 'subscriptions_url': 'https://api.github.com/users/gardnerpomper/subscriptions'}</td></tr><tr><td></td><td>private</td><td>False</td></tr><tr><td></td><td>pulls_url</td><td>https://api.github.com/repos/gardnerpomper/courses/pulls{/number}</td></tr><tr><td></td><td>pushed_at</td><td>2014-05-29T17:48:46Z</td></tr><tr><td></td><td>releases_url</td><td>https://api.github.com/repos/gardnerpomper/courses/releases{/id}</td></tr><tr><td></td><td>size</td><td>873759</td></tr><tr><td></td><td>ssh_url</td><td>git@github.com:gardnerpomper/courses.git</td></tr><tr><td></td><td>stargazers_count</td><td>0</td></tr><tr><td></td><td>stargazers_url</td><td>https://api.github.com/repos/gardnerpomper/courses/stargazers</td></tr><tr><td></td><td>statuses_url</td><td>https://api.github.com/repos/gardnerpomper/courses/statuses/{sha}</td></tr><tr><td></td><td>subscribers_url</td><td>https://api.github.com/repos/gardnerpomper/courses/subscribers</td></tr><tr><td></td><td>subscription_url</td><td>https://api.github.com/repos/gardnerpomper/courses/subscription</td></tr><tr><td></td><td>svn_url</td><td>https://github.com/gardnerpomper/courses</td></tr><tr><td></td><td>tags_url</td><td>https://api.github.com/repos/gardnerpomper/courses/tags</td></tr><tr><td></td><td>teams_url</td><td>https://api.github.com/repos/gardnerpomper/courses/teams</td></tr><tr><td></td><td>trees_url</td><td>https://api.github.com/repos/gardnerpomper/courses/git/trees{/sha}</td></tr><tr><td></td><td>updated_at</td><td>2014-05-30T23:36:02Z</td></tr><tr><td></td><td>url</td><td>https://api.github.com/repos/gardnerpomper/courses</td></tr><tr><td></td><td>watchers</td><td>0</td></tr><tr><td></td><td>watchers_count</td><td>0</td></tr><tr><td>3</td><td>archive_url</td><td>https://api.github.com/repos/gardnerpomper/datasciencecoursera/{archive_format}{/ref}</td></tr><tr><td></td><td>assignees_url</td><td>https://api.github.com/repos/gardnerpomper/datasciencecoursera/assignees{/user}</td></tr><tr><td></td><td>blobs_url</td><td>https://api.github.com/repos/gardnerpomper/datasciencecoursera/git/blobs{/sha}</td></tr><tr><td></td><td>branches_url</td><td>https://api.github.com/repos/gardnerpomper/datasciencecoursera/branches{/branch}</td></tr><tr><td></td><td>clone_url</td><td>https://github.com/gardnerpomper/datasciencecoursera.git</td></tr><tr><td></td><td>collaborators_url</td><td>https://api.github.com/repos/gardnerpomper/datasciencecoursera/collaborators{/collaborator}</td></tr><tr><td></td><td>comments_url</td><td>https://api.github.com/repos/gardnerpomper/datasciencecoursera/comments{/number}</td></tr><tr><td></td><td>commits_url</td><td>https://api.github.com/repos/gardnerpomper/datasciencecoursera/commits{/sha}</td></tr><tr><td></td><td>compare_url</td><td>https://api.github.com/repos/gardnerpomper/datasciencecoursera/compare/{base}...{head}</td></tr><tr><td></td><td>contents_url</td><td>https://api.github.com/repos/gardnerpomper/datasciencecoursera/contents/{+path}</td></tr><tr><td></td><td>contributors_url</td><td>https://api.github.com/repos/gardnerpomper/datasciencecoursera/contributors</td></tr><tr><td></td><td>created_at</td><td>2014-04-11T12:22:44Z</td></tr><tr><td></td><td>default_branch</td><td>master</td></tr><tr><td></td><td>deployments_url</td><td>https://api.github.com/repos/gardnerpomper/datasciencecoursera/deployments</td></tr><tr><td></td><td>description</td><td>Course repo for \"The Data Scientist's Toolbox\"</td></tr><tr><td></td><td>downloads_url</td><td>https://api.github.com/repos/gardnerpomper/datasciencecoursera/downloads</td></tr><tr><td></td><td>events_url</td><td>https://api.github.com/repos/gardnerpomper/datasciencecoursera/events</td></tr><tr><td></td><td>fork</td><td>False</td></tr><tr><td></td><td>forks</td><td>0</td></tr><tr><td></td><td>forks_count</td><td>0</td></tr><tr><td></td><td>forks_url</td><td>https://api.github.com/repos/gardnerpomper/datasciencecoursera/forks</td></tr><tr><td></td><td>full_name</td><td>gardnerpomper/datasciencecoursera</td></tr><tr><td></td><td>git_commits_url</td><td>https://api.github.com/repos/gardnerpomper/datasciencecoursera/git/commits{/sha}</td></tr><tr><td></td><td>git_refs_url</td><td>https://api.github.com/repos/gardnerpomper/datasciencecoursera/git/refs{/sha}</td></tr><tr><td></td><td>git_tags_url</td><td>https://api.github.com/repos/gardnerpomper/datasciencecoursera/git/tags{/sha}</td></tr><tr><td></td><td>git_url</td><td>git://github.com/gardnerpomper/datasciencecoursera.git</td></tr><tr><td></td><td>has_downloads</td><td>True</td></tr><tr><td></td><td>has_issues</td><td>True</td></tr><tr><td></td><td>has_pages</td><td>False</td></tr><tr><td></td><td>has_wiki</td><td>True</td></tr><tr><td></td><td>homepage</td><td>None</td></tr><tr><td></td><td>hooks_url</td><td>https://api.github.com/repos/gardnerpomper/datasciencecoursera/hooks</td></tr><tr><td></td><td>html_url</td><td>https://github.com/gardnerpomper/datasciencecoursera</td></tr><tr><td></td><td>id</td><td>18673294</td></tr><tr><td></td><td>issue_comment_url</td><td>https://api.github.com/repos/gardnerpomper/datasciencecoursera/issues/comments{/number}</td></tr><tr><td></td><td>issue_events_url</td><td>https://api.github.com/repos/gardnerpomper/datasciencecoursera/issues/events{/number}</td></tr><tr><td></td><td>issues_url</td><td>https://api.github.com/repos/gardnerpomper/datasciencecoursera/issues{/number}</td></tr><tr><td></td><td>keys_url</td><td>https://api.github.com/repos/gardnerpomper/datasciencecoursera/keys{/key_id}</td></tr><tr><td></td><td>labels_url</td><td>https://api.github.com/repos/gardnerpomper/datasciencecoursera/labels{/name}</td></tr><tr><td></td><td>language</td><td>None</td></tr><tr><td></td><td>languages_url</td><td>https://api.github.com/repos/gardnerpomper/datasciencecoursera/languages</td></tr><tr><td></td><td>merges_url</td><td>https://api.github.com/repos/gardnerpomper/datasciencecoursera/merges</td></tr><tr><td></td><td>milestones_url</td><td>https://api.github.com/repos/gardnerpomper/datasciencecoursera/milestones{/number}</td></tr><tr><td></td><td>mirror_url</td><td>None</td></tr><tr><td></td><td>name</td><td>datasciencecoursera</td></tr><tr><td></td><td>notifications_url</td><td>https://api.github.com/repos/gardnerpomper/datasciencecoursera/notifications{?since,all,participating}</td></tr><tr><td></td><td>open_issues</td><td>0</td></tr><tr><td></td><td>open_issues_count</td><td>0</td></tr><tr><td></td><td>owner</td><td>{'id': 3866293, 'type': 'User', 'gravatar_id': '', 'avatar_url': 'https://avatars.githubusercontent.com/u/3866293?v=3', 'starred_url': 'https://api.github.com/users/gardnerpomper/starred{/owner}{/repo}', 'html_url': 'https://github.com/gardnerpomper', 'received_events_url': 'https://api.github.com/users/gardnerpomper/received_events', 'url': 'https://api.github.com/users/gardnerpomper', 'followers_url': 'https://api.github.com/users/gardnerpomper/followers', 'events_url': 'https://api.github.com/users/gardnerpomper/events{/privacy}', 'organizations_url': 'https://api.github.com/users/gardnerpomper/orgs', 'site_admin': False, 'repos_url': 'https://api.github.com/users/gardnerpomper/repos', 'login': 'gardnerpomper', 'gists_url': 'https://api.github.com/users/gardnerpomper/gists{/gist_id}', 'following_url': 'https://api.github.com/users/gardnerpomper/following{/other_user}', 'subscriptions_url': 'https://api.github.com/users/gardnerpomper/subscriptions'}</td></tr><tr><td></td><td>private</td><td>False</td></tr><tr><td></td><td>pulls_url</td><td>https://api.github.com/repos/gardnerpomper/datasciencecoursera/pulls{/number}</td></tr><tr><td></td><td>pushed_at</td><td>2014-04-11T12:31:00Z</td></tr><tr><td></td><td>releases_url</td><td>https://api.github.com/repos/gardnerpomper/datasciencecoursera/releases{/id}</td></tr><tr><td></td><td>size</td><td>140</td></tr><tr><td></td><td>ssh_url</td><td>git@github.com:gardnerpomper/datasciencecoursera.git</td></tr><tr><td></td><td>stargazers_count</td><td>0</td></tr><tr><td></td><td>stargazers_url</td><td>https://api.github.com/repos/gardnerpomper/datasciencecoursera/stargazers</td></tr><tr><td></td><td>statuses_url</td><td>https://api.github.com/repos/gardnerpomper/datasciencecoursera/statuses/{sha}</td></tr><tr><td></td><td>subscribers_url</td><td>https://api.github.com/repos/gardnerpomper/datasciencecoursera/subscribers</td></tr><tr><td></td><td>subscription_url</td><td>https://api.github.com/repos/gardnerpomper/datasciencecoursera/subscription</td></tr><tr><td></td><td>svn_url</td><td>https://github.com/gardnerpomper/datasciencecoursera</td></tr><tr><td></td><td>tags_url</td><td>https://api.github.com/repos/gardnerpomper/datasciencecoursera/tags</td></tr><tr><td></td><td>teams_url</td><td>https://api.github.com/repos/gardnerpomper/datasciencecoursera/teams</td></tr><tr><td></td><td>trees_url</td><td>https://api.github.com/repos/gardnerpomper/datasciencecoursera/git/trees{/sha}</td></tr><tr><td></td><td>updated_at</td><td>2014-04-11T12:31:00Z</td></tr><tr><td></td><td>url</td><td>https://api.github.com/repos/gardnerpomper/datasciencecoursera</td></tr><tr><td></td><td>watchers</td><td>0</td></tr><tr><td></td><td>watchers_count</td><td>0</td></tr><tr><td>4</td><td>archive_url</td><td>https://api.github.com/repos/gardnerpomper/DevelopingDataProducts/{archive_format}{/ref}</td></tr><tr><td></td><td>assignees_url</td><td>https://api.github.com/repos/gardnerpomper/DevelopingDataProducts/assignees{/user}</td></tr><tr><td></td><td>blobs_url</td><td>https://api.github.com/repos/gardnerpomper/DevelopingDataProducts/git/blobs{/sha}</td></tr><tr><td></td><td>branches_url</td><td>https://api.github.com/repos/gardnerpomper/DevelopingDataProducts/branches{/branch}</td></tr><tr><td></td><td>clone_url</td><td>https://github.com/gardnerpomper/DevelopingDataProducts.git</td></tr><tr><td></td><td>collaborators_url</td><td>https://api.github.com/repos/gardnerpomper/DevelopingDataProducts/collaborators{/collaborator}</td></tr><tr><td></td><td>comments_url</td><td>https://api.github.com/repos/gardnerpomper/DevelopingDataProducts/comments{/number}</td></tr><tr><td></td><td>commits_url</td><td>https://api.github.com/repos/gardnerpomper/DevelopingDataProducts/commits{/sha}</td></tr><tr><td></td><td>compare_url</td><td>https://api.github.com/repos/gardnerpomper/DevelopingDataProducts/compare/{base}...{head}</td></tr><tr><td></td><td>contents_url</td><td>https://api.github.com/repos/gardnerpomper/DevelopingDataProducts/contents/{+path}</td></tr><tr><td></td><td>contributors_url</td><td>https://api.github.com/repos/gardnerpomper/DevelopingDataProducts/contributors</td></tr><tr><td></td><td>created_at</td><td>2014-06-20T02:48:21Z</td></tr><tr><td></td><td>default_branch</td><td>master</td></tr><tr><td></td><td>deployments_url</td><td>https://api.github.com/repos/gardnerpomper/DevelopingDataProducts/deployments</td></tr><tr><td></td><td>description</td><td>Project for Coursera's DevelopingDataProducts</td></tr><tr><td></td><td>downloads_url</td><td>https://api.github.com/repos/gardnerpomper/DevelopingDataProducts/downloads</td></tr><tr><td></td><td>events_url</td><td>https://api.github.com/repos/gardnerpomper/DevelopingDataProducts/events</td></tr><tr><td></td><td>fork</td><td>False</td></tr><tr><td></td><td>forks</td><td>1</td></tr><tr><td></td><td>forks_count</td><td>1</td></tr><tr><td></td><td>forks_url</td><td>https://api.github.com/repos/gardnerpomper/DevelopingDataProducts/forks</td></tr><tr><td></td><td>full_name</td><td>gardnerpomper/DevelopingDataProducts</td></tr><tr><td></td><td>git_commits_url</td><td>https://api.github.com/repos/gardnerpomper/DevelopingDataProducts/git/commits{/sha}</td></tr><tr><td></td><td>git_refs_url</td><td>https://api.github.com/repos/gardnerpomper/DevelopingDataProducts/git/refs{/sha}</td></tr><tr><td></td><td>git_tags_url</td><td>https://api.github.com/repos/gardnerpomper/DevelopingDataProducts/git/tags{/sha}</td></tr><tr><td></td><td>git_url</td><td>git://github.com/gardnerpomper/DevelopingDataProducts.git</td></tr><tr><td></td><td>has_downloads</td><td>True</td></tr><tr><td></td><td>has_issues</td><td>True</td></tr><tr><td></td><td>has_pages</td><td>False</td></tr><tr><td></td><td>has_wiki</td><td>True</td></tr><tr><td></td><td>homepage</td><td>None</td></tr><tr><td></td><td>hooks_url</td><td>https://api.github.com/repos/gardnerpomper/DevelopingDataProducts/hooks</td></tr><tr><td></td><td>html_url</td><td>https://github.com/gardnerpomper/DevelopingDataProducts</td></tr><tr><td></td><td>id</td><td>21023168</td></tr><tr><td></td><td>issue_comment_url</td><td>https://api.github.com/repos/gardnerpomper/DevelopingDataProducts/issues/comments{/number}</td></tr><tr><td></td><td>issue_events_url</td><td>https://api.github.com/repos/gardnerpomper/DevelopingDataProducts/issues/events{/number}</td></tr><tr><td></td><td>issues_url</td><td>https://api.github.com/repos/gardnerpomper/DevelopingDataProducts/issues{/number}</td></tr><tr><td></td><td>keys_url</td><td>https://api.github.com/repos/gardnerpomper/DevelopingDataProducts/keys{/key_id}</td></tr><tr><td></td><td>labels_url</td><td>https://api.github.com/repos/gardnerpomper/DevelopingDataProducts/labels{/name}</td></tr><tr><td></td><td>language</td><td>R</td></tr><tr><td></td><td>languages_url</td><td>https://api.github.com/repos/gardnerpomper/DevelopingDataProducts/languages</td></tr><tr><td></td><td>merges_url</td><td>https://api.github.com/repos/gardnerpomper/DevelopingDataProducts/merges</td></tr><tr><td></td><td>milestones_url</td><td>https://api.github.com/repos/gardnerpomper/DevelopingDataProducts/milestones{/number}</td></tr><tr><td></td><td>mirror_url</td><td>None</td></tr><tr><td></td><td>name</td><td>DevelopingDataProducts</td></tr><tr><td></td><td>notifications_url</td><td>https://api.github.com/repos/gardnerpomper/DevelopingDataProducts/notifications{?since,all,participating}</td></tr><tr><td></td><td>open_issues</td><td>0</td></tr><tr><td></td><td>open_issues_count</td><td>0</td></tr><tr><td></td><td>owner</td><td>{'id': 3866293, 'type': 'User', 'gravatar_id': '', 'avatar_url': 'https://avatars.githubusercontent.com/u/3866293?v=3', 'starred_url': 'https://api.github.com/users/gardnerpomper/starred{/owner}{/repo}', 'html_url': 'https://github.com/gardnerpomper', 'received_events_url': 'https://api.github.com/users/gardnerpomper/received_events', 'url': 'https://api.github.com/users/gardnerpomper', 'followers_url': 'https://api.github.com/users/gardnerpomper/followers', 'events_url': 'https://api.github.com/users/gardnerpomper/events{/privacy}', 'organizations_url': 'https://api.github.com/users/gardnerpomper/orgs', 'site_admin': False, 'repos_url': 'https://api.github.com/users/gardnerpomper/repos', 'login': 'gardnerpomper', 'gists_url': 'https://api.github.com/users/gardnerpomper/gists{/gist_id}', 'following_url': 'https://api.github.com/users/gardnerpomper/following{/other_user}', 'subscriptions_url': 'https://api.github.com/users/gardnerpomper/subscriptions'}</td></tr><tr><td></td><td>private</td><td>False</td></tr><tr><td></td><td>pulls_url</td><td>https://api.github.com/repos/gardnerpomper/DevelopingDataProducts/pulls{/number}</td></tr><tr><td></td><td>pushed_at</td><td>2014-06-20T03:12:21Z</td></tr><tr><td></td><td>releases_url</td><td>https://api.github.com/repos/gardnerpomper/DevelopingDataProducts/releases{/id}</td></tr><tr><td></td><td>size</td><td>124</td></tr><tr><td></td><td>ssh_url</td><td>git@github.com:gardnerpomper/DevelopingDataProducts.git</td></tr><tr><td></td><td>stargazers_count</td><td>0</td></tr><tr><td></td><td>stargazers_url</td><td>https://api.github.com/repos/gardnerpomper/DevelopingDataProducts/stargazers</td></tr><tr><td></td><td>statuses_url</td><td>https://api.github.com/repos/gardnerpomper/DevelopingDataProducts/statuses/{sha}</td></tr><tr><td></td><td>subscribers_url</td><td>https://api.github.com/repos/gardnerpomper/DevelopingDataProducts/subscribers</td></tr><tr><td></td><td>subscription_url</td><td>https://api.github.com/repos/gardnerpomper/DevelopingDataProducts/subscription</td></tr><tr><td></td><td>svn_url</td><td>https://github.com/gardnerpomper/DevelopingDataProducts</td></tr><tr><td></td><td>tags_url</td><td>https://api.github.com/repos/gardnerpomper/DevelopingDataProducts/tags</td></tr><tr><td></td><td>teams_url</td><td>https://api.github.com/repos/gardnerpomper/DevelopingDataProducts/teams</td></tr><tr><td></td><td>trees_url</td><td>https://api.github.com/repos/gardnerpomper/DevelopingDataProducts/git/trees{/sha}</td></tr><tr><td></td><td>updated_at</td><td>2014-06-20T03:12:21Z</td></tr><tr><td></td><td>url</td><td>https://api.github.com/repos/gardnerpomper/DevelopingDataProducts</td></tr><tr><td></td><td>watchers</td><td>0</td></tr><tr><td></td><td>watchers_count</td><td>0</td></tr><tr><td>5</td><td>archive_url</td><td>https://api.github.com/repos/gardnerpomper/DevelopingDataSlidify/{archive_format}{/ref}</td></tr><tr><td></td><td>assignees_url</td><td>https://api.github.com/repos/gardnerpomper/DevelopingDataSlidify/assignees{/user}</td></tr><tr><td></td><td>blobs_url</td><td>https://api.github.com/repos/gardnerpomper/DevelopingDataSlidify/git/blobs{/sha}</td></tr><tr><td></td><td>branches_url</td><td>https://api.github.com/repos/gardnerpomper/DevelopingDataSlidify/branches{/branch}</td></tr><tr><td></td><td>clone_url</td><td>https://github.com/gardnerpomper/DevelopingDataSlidify.git</td></tr><tr><td></td><td>collaborators_url</td><td>https://api.github.com/repos/gardnerpomper/DevelopingDataSlidify/collaborators{/collaborator}</td></tr><tr><td></td><td>comments_url</td><td>https://api.github.com/repos/gardnerpomper/DevelopingDataSlidify/comments{/number}</td></tr><tr><td></td><td>commits_url</td><td>https://api.github.com/repos/gardnerpomper/DevelopingDataSlidify/commits{/sha}</td></tr><tr><td></td><td>compare_url</td><td>https://api.github.com/repos/gardnerpomper/DevelopingDataSlidify/compare/{base}...{head}</td></tr><tr><td></td><td>contents_url</td><td>https://api.github.com/repos/gardnerpomper/DevelopingDataSlidify/contents/{+path}</td></tr><tr><td></td><td>contributors_url</td><td>https://api.github.com/repos/gardnerpomper/DevelopingDataSlidify/contributors</td></tr><tr><td></td><td>created_at</td><td>2014-06-21T14:34:37Z</td></tr><tr><td></td><td>default_branch</td><td>master</td></tr><tr><td></td><td>deployments_url</td><td>https://api.github.com/repos/gardnerpomper/DevelopingDataSlidify/deployments</td></tr><tr><td></td><td>description</td><td></td></tr><tr><td></td><td>downloads_url</td><td>https://api.github.com/repos/gardnerpomper/DevelopingDataSlidify/downloads</td></tr><tr><td></td><td>events_url</td><td>https://api.github.com/repos/gardnerpomper/DevelopingDataSlidify/events</td></tr><tr><td></td><td>fork</td><td>False</td></tr><tr><td></td><td>forks</td><td>0</td></tr><tr><td></td><td>forks_count</td><td>0</td></tr><tr><td></td><td>forks_url</td><td>https://api.github.com/repos/gardnerpomper/DevelopingDataSlidify/forks</td></tr><tr><td></td><td>full_name</td><td>gardnerpomper/DevelopingDataSlidify</td></tr><tr><td></td><td>git_commits_url</td><td>https://api.github.com/repos/gardnerpomper/DevelopingDataSlidify/git/commits{/sha}</td></tr><tr><td></td><td>git_refs_url</td><td>https://api.github.com/repos/gardnerpomper/DevelopingDataSlidify/git/refs{/sha}</td></tr><tr><td></td><td>git_tags_url</td><td>https://api.github.com/repos/gardnerpomper/DevelopingDataSlidify/git/tags{/sha}</td></tr><tr><td></td><td>git_url</td><td>git://github.com/gardnerpomper/DevelopingDataSlidify.git</td></tr><tr><td></td><td>has_downloads</td><td>True</td></tr><tr><td></td><td>has_issues</td><td>True</td></tr><tr><td></td><td>has_pages</td><td>False</td></tr><tr><td></td><td>has_wiki</td><td>True</td></tr><tr><td></td><td>homepage</td><td>None</td></tr><tr><td></td><td>hooks_url</td><td>https://api.github.com/repos/gardnerpomper/DevelopingDataSlidify/hooks</td></tr><tr><td></td><td>html_url</td><td>https://github.com/gardnerpomper/DevelopingDataSlidify</td></tr><tr><td></td><td>id</td><td>21070528</td></tr><tr><td></td><td>issue_comment_url</td><td>https://api.github.com/repos/gardnerpomper/DevelopingDataSlidify/issues/comments{/number}</td></tr><tr><td></td><td>issue_events_url</td><td>https://api.github.com/repos/gardnerpomper/DevelopingDataSlidify/issues/events{/number}</td></tr><tr><td></td><td>issues_url</td><td>https://api.github.com/repos/gardnerpomper/DevelopingDataSlidify/issues{/number}</td></tr><tr><td></td><td>keys_url</td><td>https://api.github.com/repos/gardnerpomper/DevelopingDataSlidify/keys{/key_id}</td></tr><tr><td></td><td>labels_url</td><td>https://api.github.com/repos/gardnerpomper/DevelopingDataSlidify/labels{/name}</td></tr><tr><td></td><td>language</td><td>None</td></tr><tr><td></td><td>languages_url</td><td>https://api.github.com/repos/gardnerpomper/DevelopingDataSlidify/languages</td></tr><tr><td></td><td>merges_url</td><td>https://api.github.com/repos/gardnerpomper/DevelopingDataSlidify/merges</td></tr><tr><td></td><td>milestones_url</td><td>https://api.github.com/repos/gardnerpomper/DevelopingDataSlidify/milestones{/number}</td></tr><tr><td></td><td>mirror_url</td><td>None</td></tr><tr><td></td><td>name</td><td>DevelopingDataSlidify</td></tr><tr><td></td><td>notifications_url</td><td>https://api.github.com/repos/gardnerpomper/DevelopingDataSlidify/notifications{?since,all,participating}</td></tr><tr><td></td><td>open_issues</td><td>0</td></tr><tr><td></td><td>open_issues_count</td><td>0</td></tr><tr><td></td><td>owner</td><td>{'id': 3866293, 'type': 'User', 'gravatar_id': '', 'avatar_url': 'https://avatars.githubusercontent.com/u/3866293?v=3', 'starred_url': 'https://api.github.com/users/gardnerpomper/starred{/owner}{/repo}', 'html_url': 'https://github.com/gardnerpomper', 'received_events_url': 'https://api.github.com/users/gardnerpomper/received_events', 'url': 'https://api.github.com/users/gardnerpomper', 'followers_url': 'https://api.github.com/users/gardnerpomper/followers', 'events_url': 'https://api.github.com/users/gardnerpomper/events{/privacy}', 'organizations_url': 'https://api.github.com/users/gardnerpomper/orgs', 'site_admin': False, 'repos_url': 'https://api.github.com/users/gardnerpomper/repos', 'login': 'gardnerpomper', 'gists_url': 'https://api.github.com/users/gardnerpomper/gists{/gist_id}', 'following_url': 'https://api.github.com/users/gardnerpomper/following{/other_user}', 'subscriptions_url': 'https://api.github.com/users/gardnerpomper/subscriptions'}</td></tr><tr><td></td><td>private</td><td>False</td></tr><tr><td></td><td>pulls_url</td><td>https://api.github.com/repos/gardnerpomper/DevelopingDataSlidify/pulls{/number}</td></tr><tr><td></td><td>pushed_at</td><td>2014-06-21T14:34:37Z</td></tr><tr><td></td><td>releases_url</td><td>https://api.github.com/repos/gardnerpomper/DevelopingDataSlidify/releases{/id}</td></tr><tr><td></td><td>size</td><td>0</td></tr><tr><td></td><td>ssh_url</td><td>git@github.com:gardnerpomper/DevelopingDataSlidify.git</td></tr><tr><td></td><td>stargazers_count</td><td>0</td></tr><tr><td></td><td>stargazers_url</td><td>https://api.github.com/repos/gardnerpomper/DevelopingDataSlidify/stargazers</td></tr><tr><td></td><td>statuses_url</td><td>https://api.github.com/repos/gardnerpomper/DevelopingDataSlidify/statuses/{sha}</td></tr><tr><td></td><td>subscribers_url</td><td>https://api.github.com/repos/gardnerpomper/DevelopingDataSlidify/subscribers</td></tr><tr><td></td><td>subscription_url</td><td>https://api.github.com/repos/gardnerpomper/DevelopingDataSlidify/subscription</td></tr><tr><td></td><td>svn_url</td><td>https://github.com/gardnerpomper/DevelopingDataSlidify</td></tr><tr><td></td><td>tags_url</td><td>https://api.github.com/repos/gardnerpomper/DevelopingDataSlidify/tags</td></tr><tr><td></td><td>teams_url</td><td>https://api.github.com/repos/gardnerpomper/DevelopingDataSlidify/teams</td></tr><tr><td></td><td>trees_url</td><td>https://api.github.com/repos/gardnerpomper/DevelopingDataSlidify/git/trees{/sha}</td></tr><tr><td></td><td>updated_at</td><td>2014-06-21T14:34:37Z</td></tr><tr><td></td><td>url</td><td>https://api.github.com/repos/gardnerpomper/DevelopingDataSlidify</td></tr><tr><td></td><td>watchers</td><td>0</td></tr><tr><td></td><td>watchers_count</td><td>0</td></tr><tr><td>6</td><td>archive_url</td><td>https://api.github.com/repos/gardnerpomper/docker-kivy/{archive_format}{/ref}</td></tr><tr><td></td><td>assignees_url</td><td>https://api.github.com/repos/gardnerpomper/docker-kivy/assignees{/user}</td></tr><tr><td></td><td>blobs_url</td><td>https://api.github.com/repos/gardnerpomper/docker-kivy/git/blobs{/sha}</td></tr><tr><td></td><td>branches_url</td><td>https://api.github.com/repos/gardnerpomper/docker-kivy/branches{/branch}</td></tr><tr><td></td><td>clone_url</td><td>https://github.com/gardnerpomper/docker-kivy.git</td></tr><tr><td></td><td>collaborators_url</td><td>https://api.github.com/repos/gardnerpomper/docker-kivy/collaborators{/collaborator}</td></tr><tr><td></td><td>comments_url</td><td>https://api.github.com/repos/gardnerpomper/docker-kivy/comments{/number}</td></tr><tr><td></td><td>commits_url</td><td>https://api.github.com/repos/gardnerpomper/docker-kivy/commits{/sha}</td></tr><tr><td></td><td>compare_url</td><td>https://api.github.com/repos/gardnerpomper/docker-kivy/compare/{base}...{head}</td></tr><tr><td></td><td>contents_url</td><td>https://api.github.com/repos/gardnerpomper/docker-kivy/contents/{+path}</td></tr><tr><td></td><td>contributors_url</td><td>https://api.github.com/repos/gardnerpomper/docker-kivy/contributors</td></tr><tr><td></td><td>created_at</td><td>2015-12-20T02:13:32Z</td></tr><tr><td></td><td>default_branch</td><td>master</td></tr><tr><td></td><td>deployments_url</td><td>https://api.github.com/repos/gardnerpomper/docker-kivy/deployments</td></tr><tr><td></td><td>description</td><td>base container for development of kivy apps</td></tr><tr><td></td><td>downloads_url</td><td>https://api.github.com/repos/gardnerpomper/docker-kivy/downloads</td></tr><tr><td></td><td>events_url</td><td>https://api.github.com/repos/gardnerpomper/docker-kivy/events</td></tr><tr><td></td><td>fork</td><td>False</td></tr><tr><td></td><td>forks</td><td>0</td></tr><tr><td></td><td>forks_count</td><td>0</td></tr><tr><td></td><td>forks_url</td><td>https://api.github.com/repos/gardnerpomper/docker-kivy/forks</td></tr><tr><td></td><td>full_name</td><td>gardnerpomper/docker-kivy</td></tr><tr><td></td><td>git_commits_url</td><td>https://api.github.com/repos/gardnerpomper/docker-kivy/git/commits{/sha}</td></tr><tr><td></td><td>git_refs_url</td><td>https://api.github.com/repos/gardnerpomper/docker-kivy/git/refs{/sha}</td></tr><tr><td></td><td>git_tags_url</td><td>https://api.github.com/repos/gardnerpomper/docker-kivy/git/tags{/sha}</td></tr><tr><td></td><td>git_url</td><td>git://github.com/gardnerpomper/docker-kivy.git</td></tr><tr><td></td><td>has_downloads</td><td>True</td></tr><tr><td></td><td>has_issues</td><td>True</td></tr><tr><td></td><td>has_pages</td><td>False</td></tr><tr><td></td><td>has_wiki</td><td>True</td></tr><tr><td></td><td>homepage</td><td>None</td></tr><tr><td></td><td>hooks_url</td><td>https://api.github.com/repos/gardnerpomper/docker-kivy/hooks</td></tr><tr><td></td><td>html_url</td><td>https://github.com/gardnerpomper/docker-kivy</td></tr><tr><td></td><td>id</td><td>48304239</td></tr><tr><td></td><td>issue_comment_url</td><td>https://api.github.com/repos/gardnerpomper/docker-kivy/issues/comments{/number}</td></tr><tr><td></td><td>issue_events_url</td><td>https://api.github.com/repos/gardnerpomper/docker-kivy/issues/events{/number}</td></tr><tr><td></td><td>issues_url</td><td>https://api.github.com/repos/gardnerpomper/docker-kivy/issues{/number}</td></tr><tr><td></td><td>keys_url</td><td>https://api.github.com/repos/gardnerpomper/docker-kivy/keys{/key_id}</td></tr><tr><td></td><td>labels_url</td><td>https://api.github.com/repos/gardnerpomper/docker-kivy/labels{/name}</td></tr><tr><td></td><td>language</td><td>Shell</td></tr><tr><td></td><td>languages_url</td><td>https://api.github.com/repos/gardnerpomper/docker-kivy/languages</td></tr><tr><td></td><td>merges_url</td><td>https://api.github.com/repos/gardnerpomper/docker-kivy/merges</td></tr><tr><td></td><td>milestones_url</td><td>https://api.github.com/repos/gardnerpomper/docker-kivy/milestones{/number}</td></tr><tr><td></td><td>mirror_url</td><td>None</td></tr><tr><td></td><td>name</td><td>docker-kivy</td></tr><tr><td></td><td>notifications_url</td><td>https://api.github.com/repos/gardnerpomper/docker-kivy/notifications{?since,all,participating}</td></tr><tr><td></td><td>open_issues</td><td>0</td></tr><tr><td></td><td>open_issues_count</td><td>0</td></tr><tr><td></td><td>owner</td><td>{'id': 3866293, 'type': 'User', 'gravatar_id': '', 'avatar_url': 'https://avatars.githubusercontent.com/u/3866293?v=3', 'starred_url': 'https://api.github.com/users/gardnerpomper/starred{/owner}{/repo}', 'html_url': 'https://github.com/gardnerpomper', 'received_events_url': 'https://api.github.com/users/gardnerpomper/received_events', 'url': 'https://api.github.com/users/gardnerpomper', 'followers_url': 'https://api.github.com/users/gardnerpomper/followers', 'events_url': 'https://api.github.com/users/gardnerpomper/events{/privacy}', 'organizations_url': 'https://api.github.com/users/gardnerpomper/orgs', 'site_admin': False, 'repos_url': 'https://api.github.com/users/gardnerpomper/repos', 'login': 'gardnerpomper', 'gists_url': 'https://api.github.com/users/gardnerpomper/gists{/gist_id}', 'following_url': 'https://api.github.com/users/gardnerpomper/following{/other_user}', 'subscriptions_url': 'https://api.github.com/users/gardnerpomper/subscriptions'}</td></tr><tr><td></td><td>private</td><td>False</td></tr><tr><td></td><td>pulls_url</td><td>https://api.github.com/repos/gardnerpomper/docker-kivy/pulls{/number}</td></tr><tr><td></td><td>pushed_at</td><td>2015-12-22T23:53:38Z</td></tr><tr><td></td><td>releases_url</td><td>https://api.github.com/repos/gardnerpomper/docker-kivy/releases{/id}</td></tr><tr><td></td><td>size</td><td>3</td></tr><tr><td></td><td>ssh_url</td><td>git@github.com:gardnerpomper/docker-kivy.git</td></tr><tr><td></td><td>stargazers_count</td><td>0</td></tr><tr><td></td><td>stargazers_url</td><td>https://api.github.com/repos/gardnerpomper/docker-kivy/stargazers</td></tr><tr><td></td><td>statuses_url</td><td>https://api.github.com/repos/gardnerpomper/docker-kivy/statuses/{sha}</td></tr><tr><td></td><td>subscribers_url</td><td>https://api.github.com/repos/gardnerpomper/docker-kivy/subscribers</td></tr><tr><td></td><td>subscription_url</td><td>https://api.github.com/repos/gardnerpomper/docker-kivy/subscription</td></tr><tr><td></td><td>svn_url</td><td>https://github.com/gardnerpomper/docker-kivy</td></tr><tr><td></td><td>tags_url</td><td>https://api.github.com/repos/gardnerpomper/docker-kivy/tags</td></tr><tr><td></td><td>teams_url</td><td>https://api.github.com/repos/gardnerpomper/docker-kivy/teams</td></tr><tr><td></td><td>trees_url</td><td>https://api.github.com/repos/gardnerpomper/docker-kivy/git/trees{/sha}</td></tr><tr><td></td><td>updated_at</td><td>2015-12-22T23:45:02Z</td></tr><tr><td></td><td>url</td><td>https://api.github.com/repos/gardnerpomper/docker-kivy</td></tr><tr><td></td><td>watchers</td><td>0</td></tr><tr><td></td><td>watchers_count</td><td>0</td></tr><tr><td>7</td><td>archive_url</td><td>https://api.github.com/repos/gardnerpomper/ec2docker/{archive_format}{/ref}</td></tr><tr><td></td><td>assignees_url</td><td>https://api.github.com/repos/gardnerpomper/ec2docker/assignees{/user}</td></tr><tr><td></td><td>blobs_url</td><td>https://api.github.com/repos/gardnerpomper/ec2docker/git/blobs{/sha}</td></tr><tr><td></td><td>branches_url</td><td>https://api.github.com/repos/gardnerpomper/ec2docker/branches{/branch}</td></tr><tr><td></td><td>clone_url</td><td>https://github.com/gardnerpomper/ec2docker.git</td></tr><tr><td></td><td>collaborators_url</td><td>https://api.github.com/repos/gardnerpomper/ec2docker/collaborators{/collaborator}</td></tr><tr><td></td><td>comments_url</td><td>https://api.github.com/repos/gardnerpomper/ec2docker/comments{/number}</td></tr><tr><td></td><td>commits_url</td><td>https://api.github.com/repos/gardnerpomper/ec2docker/commits{/sha}</td></tr><tr><td></td><td>compare_url</td><td>https://api.github.com/repos/gardnerpomper/ec2docker/compare/{base}...{head}</td></tr><tr><td></td><td>contents_url</td><td>https://api.github.com/repos/gardnerpomper/ec2docker/contents/{+path}</td></tr><tr><td></td><td>contributors_url</td><td>https://api.github.com/repos/gardnerpomper/ec2docker/contributors</td></tr><tr><td></td><td>created_at</td><td>2015-12-13T04:33:08Z</td></tr><tr><td></td><td>default_branch</td><td>master</td></tr><tr><td></td><td>deployments_url</td><td>https://api.github.com/repos/gardnerpomper/ec2docker/deployments</td></tr><tr><td></td><td>description</td><td>Scripts and support files for running docker containers on EC2 instances</td></tr><tr><td></td><td>downloads_url</td><td>https://api.github.com/repos/gardnerpomper/ec2docker/downloads</td></tr><tr><td></td><td>events_url</td><td>https://api.github.com/repos/gardnerpomper/ec2docker/events</td></tr><tr><td></td><td>fork</td><td>False</td></tr><tr><td></td><td>forks</td><td>0</td></tr><tr><td></td><td>forks_count</td><td>0</td></tr><tr><td></td><td>forks_url</td><td>https://api.github.com/repos/gardnerpomper/ec2docker/forks</td></tr><tr><td></td><td>full_name</td><td>gardnerpomper/ec2docker</td></tr><tr><td></td><td>git_commits_url</td><td>https://api.github.com/repos/gardnerpomper/ec2docker/git/commits{/sha}</td></tr><tr><td></td><td>git_refs_url</td><td>https://api.github.com/repos/gardnerpomper/ec2docker/git/refs{/sha}</td></tr><tr><td></td><td>git_tags_url</td><td>https://api.github.com/repos/gardnerpomper/ec2docker/git/tags{/sha}</td></tr><tr><td></td><td>git_url</td><td>git://github.com/gardnerpomper/ec2docker.git</td></tr><tr><td></td><td>has_downloads</td><td>True</td></tr><tr><td></td><td>has_issues</td><td>True</td></tr><tr><td></td><td>has_pages</td><td>False</td></tr><tr><td></td><td>has_wiki</td><td>True</td></tr><tr><td></td><td>homepage</td><td>None</td></tr><tr><td></td><td>hooks_url</td><td>https://api.github.com/repos/gardnerpomper/ec2docker/hooks</td></tr><tr><td></td><td>html_url</td><td>https://github.com/gardnerpomper/ec2docker</td></tr><tr><td></td><td>id</td><td>47906046</td></tr><tr><td></td><td>issue_comment_url</td><td>https://api.github.com/repos/gardnerpomper/ec2docker/issues/comments{/number}</td></tr><tr><td></td><td>issue_events_url</td><td>https://api.github.com/repos/gardnerpomper/ec2docker/issues/events{/number}</td></tr><tr><td></td><td>issues_url</td><td>https://api.github.com/repos/gardnerpomper/ec2docker/issues{/number}</td></tr><tr><td></td><td>keys_url</td><td>https://api.github.com/repos/gardnerpomper/ec2docker/keys{/key_id}</td></tr><tr><td></td><td>labels_url</td><td>https://api.github.com/repos/gardnerpomper/ec2docker/labels{/name}</td></tr><tr><td></td><td>language</td><td>Shell</td></tr><tr><td></td><td>languages_url</td><td>https://api.github.com/repos/gardnerpomper/ec2docker/languages</td></tr><tr><td></td><td>merges_url</td><td>https://api.github.com/repos/gardnerpomper/ec2docker/merges</td></tr><tr><td></td><td>milestones_url</td><td>https://api.github.com/repos/gardnerpomper/ec2docker/milestones{/number}</td></tr><tr><td></td><td>mirror_url</td><td>None</td></tr><tr><td></td><td>name</td><td>ec2docker</td></tr><tr><td></td><td>notifications_url</td><td>https://api.github.com/repos/gardnerpomper/ec2docker/notifications{?since,all,participating}</td></tr><tr><td></td><td>open_issues</td><td>0</td></tr><tr><td></td><td>open_issues_count</td><td>0</td></tr><tr><td></td><td>owner</td><td>{'id': 3866293, 'type': 'User', 'gravatar_id': '', 'avatar_url': 'https://avatars.githubusercontent.com/u/3866293?v=3', 'starred_url': 'https://api.github.com/users/gardnerpomper/starred{/owner}{/repo}', 'html_url': 'https://github.com/gardnerpomper', 'received_events_url': 'https://api.github.com/users/gardnerpomper/received_events', 'url': 'https://api.github.com/users/gardnerpomper', 'followers_url': 'https://api.github.com/users/gardnerpomper/followers', 'events_url': 'https://api.github.com/users/gardnerpomper/events{/privacy}', 'organizations_url': 'https://api.github.com/users/gardnerpomper/orgs', 'site_admin': False, 'repos_url': 'https://api.github.com/users/gardnerpomper/repos', 'login': 'gardnerpomper', 'gists_url': 'https://api.github.com/users/gardnerpomper/gists{/gist_id}', 'following_url': 'https://api.github.com/users/gardnerpomper/following{/other_user}', 'subscriptions_url': 'https://api.github.com/users/gardnerpomper/subscriptions'}</td></tr><tr><td></td><td>private</td><td>False</td></tr><tr><td></td><td>pulls_url</td><td>https://api.github.com/repos/gardnerpomper/ec2docker/pulls{/number}</td></tr><tr><td></td><td>pushed_at</td><td>2016-02-06T23:12:45Z</td></tr><tr><td></td><td>releases_url</td><td>https://api.github.com/repos/gardnerpomper/ec2docker/releases{/id}</td></tr><tr><td></td><td>size</td><td>8</td></tr><tr><td></td><td>ssh_url</td><td>git@github.com:gardnerpomper/ec2docker.git</td></tr><tr><td></td><td>stargazers_count</td><td>1</td></tr><tr><td></td><td>stargazers_url</td><td>https://api.github.com/repos/gardnerpomper/ec2docker/stargazers</td></tr><tr><td></td><td>statuses_url</td><td>https://api.github.com/repos/gardnerpomper/ec2docker/statuses/{sha}</td></tr><tr><td></td><td>subscribers_url</td><td>https://api.github.com/repos/gardnerpomper/ec2docker/subscribers</td></tr><tr><td></td><td>subscription_url</td><td>https://api.github.com/repos/gardnerpomper/ec2docker/subscription</td></tr><tr><td></td><td>svn_url</td><td>https://github.com/gardnerpomper/ec2docker</td></tr><tr><td></td><td>tags_url</td><td>https://api.github.com/repos/gardnerpomper/ec2docker/tags</td></tr><tr><td></td><td>teams_url</td><td>https://api.github.com/repos/gardnerpomper/ec2docker/teams</td></tr><tr><td></td><td>trees_url</td><td>https://api.github.com/repos/gardnerpomper/ec2docker/git/trees{/sha}</td></tr><tr><td></td><td>updated_at</td><td>2016-02-24T16:07:20Z</td></tr><tr><td></td><td>url</td><td>https://api.github.com/repos/gardnerpomper/ec2docker</td></tr><tr><td></td><td>watchers</td><td>1</td></tr><tr><td></td><td>watchers_count</td><td>1</td></tr><tr><td>8</td><td>archive_url</td><td>https://api.github.com/repos/gardnerpomper/emacs-vnc/{archive_format}{/ref}</td></tr><tr><td></td><td>assignees_url</td><td>https://api.github.com/repos/gardnerpomper/emacs-vnc/assignees{/user}</td></tr><tr><td></td><td>blobs_url</td><td>https://api.github.com/repos/gardnerpomper/emacs-vnc/git/blobs{/sha}</td></tr><tr><td></td><td>branches_url</td><td>https://api.github.com/repos/gardnerpomper/emacs-vnc/branches{/branch}</td></tr><tr><td></td><td>clone_url</td><td>https://github.com/gardnerpomper/emacs-vnc.git</td></tr><tr><td></td><td>collaborators_url</td><td>https://api.github.com/repos/gardnerpomper/emacs-vnc/collaborators{/collaborator}</td></tr><tr><td></td><td>comments_url</td><td>https://api.github.com/repos/gardnerpomper/emacs-vnc/comments{/number}</td></tr><tr><td></td><td>commits_url</td><td>https://api.github.com/repos/gardnerpomper/emacs-vnc/commits{/sha}</td></tr><tr><td></td><td>compare_url</td><td>https://api.github.com/repos/gardnerpomper/emacs-vnc/compare/{base}...{head}</td></tr><tr><td></td><td>contents_url</td><td>https://api.github.com/repos/gardnerpomper/emacs-vnc/contents/{+path}</td></tr><tr><td></td><td>contributors_url</td><td>https://api.github.com/repos/gardnerpomper/emacs-vnc/contributors</td></tr><tr><td></td><td>created_at</td><td>2015-11-21T21:50:09Z</td></tr><tr><td></td><td>default_branch</td><td>master</td></tr><tr><td></td><td>deployments_url</td><td>https://api.github.com/repos/gardnerpomper/emacs-vnc/deployments</td></tr><tr><td></td><td>description</td><td>Emacs in a docker container accessible with VNC</td></tr><tr><td></td><td>downloads_url</td><td>https://api.github.com/repos/gardnerpomper/emacs-vnc/downloads</td></tr><tr><td></td><td>events_url</td><td>https://api.github.com/repos/gardnerpomper/emacs-vnc/events</td></tr><tr><td></td><td>fork</td><td>False</td></tr><tr><td></td><td>forks</td><td>0</td></tr><tr><td></td><td>forks_count</td><td>0</td></tr><tr><td></td><td>forks_url</td><td>https://api.github.com/repos/gardnerpomper/emacs-vnc/forks</td></tr><tr><td></td><td>full_name</td><td>gardnerpomper/emacs-vnc</td></tr><tr><td></td><td>git_commits_url</td><td>https://api.github.com/repos/gardnerpomper/emacs-vnc/git/commits{/sha}</td></tr><tr><td></td><td>git_refs_url</td><td>https://api.github.com/repos/gardnerpomper/emacs-vnc/git/refs{/sha}</td></tr><tr><td></td><td>git_tags_url</td><td>https://api.github.com/repos/gardnerpomper/emacs-vnc/git/tags{/sha}</td></tr><tr><td></td><td>git_url</td><td>git://github.com/gardnerpomper/emacs-vnc.git</td></tr><tr><td></td><td>has_downloads</td><td>True</td></tr><tr><td></td><td>has_issues</td><td>True</td></tr><tr><td></td><td>has_pages</td><td>False</td></tr><tr><td></td><td>has_wiki</td><td>True</td></tr><tr><td></td><td>homepage</td><td>None</td></tr><tr><td></td><td>hooks_url</td><td>https://api.github.com/repos/gardnerpomper/emacs-vnc/hooks</td></tr><tr><td></td><td>html_url</td><td>https://github.com/gardnerpomper/emacs-vnc</td></tr><tr><td></td><td>id</td><td>46635344</td></tr><tr><td></td><td>issue_comment_url</td><td>https://api.github.com/repos/gardnerpomper/emacs-vnc/issues/comments{/number}</td></tr><tr><td></td><td>issue_events_url</td><td>https://api.github.com/repos/gardnerpomper/emacs-vnc/issues/events{/number}</td></tr><tr><td></td><td>issues_url</td><td>https://api.github.com/repos/gardnerpomper/emacs-vnc/issues{/number}</td></tr><tr><td></td><td>keys_url</td><td>https://api.github.com/repos/gardnerpomper/emacs-vnc/keys{/key_id}</td></tr><tr><td></td><td>labels_url</td><td>https://api.github.com/repos/gardnerpomper/emacs-vnc/labels{/name}</td></tr><tr><td></td><td>language</td><td>Emacs Lisp</td></tr><tr><td></td><td>languages_url</td><td>https://api.github.com/repos/gardnerpomper/emacs-vnc/languages</td></tr><tr><td></td><td>merges_url</td><td>https://api.github.com/repos/gardnerpomper/emacs-vnc/merges</td></tr><tr><td></td><td>milestones_url</td><td>https://api.github.com/repos/gardnerpomper/emacs-vnc/milestones{/number}</td></tr><tr><td></td><td>mirror_url</td><td>None</td></tr><tr><td></td><td>name</td><td>emacs-vnc</td></tr><tr><td></td><td>notifications_url</td><td>https://api.github.com/repos/gardnerpomper/emacs-vnc/notifications{?since,all,participating}</td></tr><tr><td></td><td>open_issues</td><td>0</td></tr><tr><td></td><td>open_issues_count</td><td>0</td></tr><tr><td></td><td>owner</td><td>{'id': 3866293, 'type': 'User', 'gravatar_id': '', 'avatar_url': 'https://avatars.githubusercontent.com/u/3866293?v=3', 'starred_url': 'https://api.github.com/users/gardnerpomper/starred{/owner}{/repo}', 'html_url': 'https://github.com/gardnerpomper', 'received_events_url': 'https://api.github.com/users/gardnerpomper/received_events', 'url': 'https://api.github.com/users/gardnerpomper', 'followers_url': 'https://api.github.com/users/gardnerpomper/followers', 'events_url': 'https://api.github.com/users/gardnerpomper/events{/privacy}', 'organizations_url': 'https://api.github.com/users/gardnerpomper/orgs', 'site_admin': False, 'repos_url': 'https://api.github.com/users/gardnerpomper/repos', 'login': 'gardnerpomper', 'gists_url': 'https://api.github.com/users/gardnerpomper/gists{/gist_id}', 'following_url': 'https://api.github.com/users/gardnerpomper/following{/other_user}', 'subscriptions_url': 'https://api.github.com/users/gardnerpomper/subscriptions'}</td></tr><tr><td></td><td>private</td><td>False</td></tr><tr><td></td><td>pulls_url</td><td>https://api.github.com/repos/gardnerpomper/emacs-vnc/pulls{/number}</td></tr><tr><td></td><td>pushed_at</td><td>2015-12-06T01:01:28Z</td></tr><tr><td></td><td>releases_url</td><td>https://api.github.com/repos/gardnerpomper/emacs-vnc/releases{/id}</td></tr><tr><td></td><td>size</td><td>16</td></tr><tr><td></td><td>ssh_url</td><td>git@github.com:gardnerpomper/emacs-vnc.git</td></tr><tr><td></td><td>stargazers_count</td><td>0</td></tr><tr><td></td><td>stargazers_url</td><td>https://api.github.com/repos/gardnerpomper/emacs-vnc/stargazers</td></tr><tr><td></td><td>statuses_url</td><td>https://api.github.com/repos/gardnerpomper/emacs-vnc/statuses/{sha}</td></tr><tr><td></td><td>subscribers_url</td><td>https://api.github.com/repos/gardnerpomper/emacs-vnc/subscribers</td></tr><tr><td></td><td>subscription_url</td><td>https://api.github.com/repos/gardnerpomper/emacs-vnc/subscription</td></tr><tr><td></td><td>svn_url</td><td>https://github.com/gardnerpomper/emacs-vnc</td></tr><tr><td></td><td>tags_url</td><td>https://api.github.com/repos/gardnerpomper/emacs-vnc/tags</td></tr><tr><td></td><td>teams_url</td><td>https://api.github.com/repos/gardnerpomper/emacs-vnc/teams</td></tr><tr><td></td><td>trees_url</td><td>https://api.github.com/repos/gardnerpomper/emacs-vnc/git/trees{/sha}</td></tr><tr><td></td><td>updated_at</td><td>2015-11-21T21:57:28Z</td></tr><tr><td></td><td>url</td><td>https://api.github.com/repos/gardnerpomper/emacs-vnc</td></tr><tr><td></td><td>watchers</td><td>0</td></tr><tr><td></td><td>watchers_count</td><td>0</td></tr><tr><td>9</td><td>archive_url</td><td>https://api.github.com/repos/gardnerpomper/ExData_Plotting1/{archive_format}{/ref}</td></tr><tr><td></td><td>assignees_url</td><td>https://api.github.com/repos/gardnerpomper/ExData_Plotting1/assignees{/user}</td></tr><tr><td></td><td>blobs_url</td><td>https://api.github.com/repos/gardnerpomper/ExData_Plotting1/git/blobs{/sha}</td></tr><tr><td></td><td>branches_url</td><td>https://api.github.com/repos/gardnerpomper/ExData_Plotting1/branches{/branch}</td></tr><tr><td></td><td>clone_url</td><td>https://github.com/gardnerpomper/ExData_Plotting1.git</td></tr><tr><td></td><td>collaborators_url</td><td>https://api.github.com/repos/gardnerpomper/ExData_Plotting1/collaborators{/collaborator}</td></tr><tr><td></td><td>comments_url</td><td>https://api.github.com/repos/gardnerpomper/ExData_Plotting1/comments{/number}</td></tr><tr><td></td><td>commits_url</td><td>https://api.github.com/repos/gardnerpomper/ExData_Plotting1/commits{/sha}</td></tr><tr><td></td><td>compare_url</td><td>https://api.github.com/repos/gardnerpomper/ExData_Plotting1/compare/{base}...{head}</td></tr><tr><td></td><td>contents_url</td><td>https://api.github.com/repos/gardnerpomper/ExData_Plotting1/contents/{+path}</td></tr><tr><td></td><td>contributors_url</td><td>https://api.github.com/repos/gardnerpomper/ExData_Plotting1/contributors</td></tr><tr><td></td><td>created_at</td><td>2014-05-11T19:30:31Z</td></tr><tr><td></td><td>default_branch</td><td>master</td></tr><tr><td></td><td>deployments_url</td><td>https://api.github.com/repos/gardnerpomper/ExData_Plotting1/deployments</td></tr><tr><td></td><td>description</td><td>Plotting Assignment 1 for Exploratory Data Analysis</td></tr><tr><td></td><td>downloads_url</td><td>https://api.github.com/repos/gardnerpomper/ExData_Plotting1/downloads</td></tr><tr><td></td><td>events_url</td><td>https://api.github.com/repos/gardnerpomper/ExData_Plotting1/events</td></tr><tr><td></td><td>fork</td><td>True</td></tr><tr><td></td><td>forks</td><td>0</td></tr><tr><td></td><td>forks_count</td><td>0</td></tr><tr><td></td><td>forks_url</td><td>https://api.github.com/repos/gardnerpomper/ExData_Plotting1/forks</td></tr><tr><td></td><td>full_name</td><td>gardnerpomper/ExData_Plotting1</td></tr><tr><td></td><td>git_commits_url</td><td>https://api.github.com/repos/gardnerpomper/ExData_Plotting1/git/commits{/sha}</td></tr><tr><td></td><td>git_refs_url</td><td>https://api.github.com/repos/gardnerpomper/ExData_Plotting1/git/refs{/sha}</td></tr><tr><td></td><td>git_tags_url</td><td>https://api.github.com/repos/gardnerpomper/ExData_Plotting1/git/tags{/sha}</td></tr><tr><td></td><td>git_url</td><td>git://github.com/gardnerpomper/ExData_Plotting1.git</td></tr><tr><td></td><td>has_downloads</td><td>True</td></tr><tr><td></td><td>has_issues</td><td>False</td></tr><tr><td></td><td>has_pages</td><td>False</td></tr><tr><td></td><td>has_wiki</td><td>True</td></tr><tr><td></td><td>homepage</td><td>None</td></tr><tr><td></td><td>hooks_url</td><td>https://api.github.com/repos/gardnerpomper/ExData_Plotting1/hooks</td></tr><tr><td></td><td>html_url</td><td>https://github.com/gardnerpomper/ExData_Plotting1</td></tr><tr><td></td><td>id</td><td>19675358</td></tr><tr><td></td><td>issue_comment_url</td><td>https://api.github.com/repos/gardnerpomper/ExData_Plotting1/issues/comments{/number}</td></tr><tr><td></td><td>issue_events_url</td><td>https://api.github.com/repos/gardnerpomper/ExData_Plotting1/issues/events{/number}</td></tr><tr><td></td><td>issues_url</td><td>https://api.github.com/repos/gardnerpomper/ExData_Plotting1/issues{/number}</td></tr><tr><td></td><td>keys_url</td><td>https://api.github.com/repos/gardnerpomper/ExData_Plotting1/keys{/key_id}</td></tr><tr><td></td><td>labels_url</td><td>https://api.github.com/repos/gardnerpomper/ExData_Plotting1/labels{/name}</td></tr><tr><td></td><td>language</td><td>None</td></tr><tr><td></td><td>languages_url</td><td>https://api.github.com/repos/gardnerpomper/ExData_Plotting1/languages</td></tr><tr><td></td><td>merges_url</td><td>https://api.github.com/repos/gardnerpomper/ExData_Plotting1/merges</td></tr><tr><td></td><td>milestones_url</td><td>https://api.github.com/repos/gardnerpomper/ExData_Plotting1/milestones{/number}</td></tr><tr><td></td><td>mirror_url</td><td>None</td></tr><tr><td></td><td>name</td><td>ExData_Plotting1</td></tr><tr><td></td><td>notifications_url</td><td>https://api.github.com/repos/gardnerpomper/ExData_Plotting1/notifications{?since,all,participating}</td></tr><tr><td></td><td>open_issues</td><td>0</td></tr><tr><td></td><td>open_issues_count</td><td>0</td></tr><tr><td></td><td>owner</td><td>{'id': 3866293, 'type': 'User', 'gravatar_id': '', 'avatar_url': 'https://avatars.githubusercontent.com/u/3866293?v=3', 'starred_url': 'https://api.github.com/users/gardnerpomper/starred{/owner}{/repo}', 'html_url': 'https://github.com/gardnerpomper', 'received_events_url': 'https://api.github.com/users/gardnerpomper/received_events', 'url': 'https://api.github.com/users/gardnerpomper', 'followers_url': 'https://api.github.com/users/gardnerpomper/followers', 'events_url': 'https://api.github.com/users/gardnerpomper/events{/privacy}', 'organizations_url': 'https://api.github.com/users/gardnerpomper/orgs', 'site_admin': False, 'repos_url': 'https://api.github.com/users/gardnerpomper/repos', 'login': 'gardnerpomper', 'gists_url': 'https://api.github.com/users/gardnerpomper/gists{/gist_id}', 'following_url': 'https://api.github.com/users/gardnerpomper/following{/other_user}', 'subscriptions_url': 'https://api.github.com/users/gardnerpomper/subscriptions'}</td></tr><tr><td></td><td>private</td><td>False</td></tr><tr><td></td><td>pulls_url</td><td>https://api.github.com/repos/gardnerpomper/ExData_Plotting1/pulls{/number}</td></tr><tr><td></td><td>pushed_at</td><td>2014-05-11T21:53:14Z</td></tr><tr><td></td><td>releases_url</td><td>https://api.github.com/repos/gardnerpomper/ExData_Plotting1/releases{/id}</td></tr><tr><td></td><td>size</td><td>337</td></tr><tr><td></td><td>ssh_url</td><td>git@github.com:gardnerpomper/ExData_Plotting1.git</td></tr><tr><td></td><td>stargazers_count</td><td>0</td></tr><tr><td></td><td>stargazers_url</td><td>https://api.github.com/repos/gardnerpomper/ExData_Plotting1/stargazers</td></tr><tr><td></td><td>statuses_url</td><td>https://api.github.com/repos/gardnerpomper/ExData_Plotting1/statuses/{sha}</td></tr><tr><td></td><td>subscribers_url</td><td>https://api.github.com/repos/gardnerpomper/ExData_Plotting1/subscribers</td></tr><tr><td></td><td>subscription_url</td><td>https://api.github.com/repos/gardnerpomper/ExData_Plotting1/subscription</td></tr><tr><td></td><td>svn_url</td><td>https://github.com/gardnerpomper/ExData_Plotting1</td></tr><tr><td></td><td>tags_url</td><td>https://api.github.com/repos/gardnerpomper/ExData_Plotting1/tags</td></tr><tr><td></td><td>teams_url</td><td>https://api.github.com/repos/gardnerpomper/ExData_Plotting1/teams</td></tr><tr><td></td><td>trees_url</td><td>https://api.github.com/repos/gardnerpomper/ExData_Plotting1/git/trees{/sha}</td></tr><tr><td></td><td>updated_at</td><td>2014-05-11T21:53:16Z</td></tr><tr><td></td><td>url</td><td>https://api.github.com/repos/gardnerpomper/ExData_Plotting1</td></tr><tr><td></td><td>watchers</td><td>0</td></tr><tr><td></td><td>watchers_count</td><td>0</td></tr><tr><td>10</td><td>archive_url</td><td>https://api.github.com/repos/gardnerpomper/ExploratoryDataAnalysis_Project1/{archive_format}{/ref}</td></tr><tr><td></td><td>assignees_url</td><td>https://api.github.com/repos/gardnerpomper/ExploratoryDataAnalysis_Project1/assignees{/user}</td></tr><tr><td></td><td>blobs_url</td><td>https://api.github.com/repos/gardnerpomper/ExploratoryDataAnalysis_Project1/git/blobs{/sha}</td></tr><tr><td></td><td>branches_url</td><td>https://api.github.com/repos/gardnerpomper/ExploratoryDataAnalysis_Project1/branches{/branch}</td></tr><tr><td></td><td>clone_url</td><td>https://github.com/gardnerpomper/ExploratoryDataAnalysis_Project1.git</td></tr><tr><td></td><td>collaborators_url</td><td>https://api.github.com/repos/gardnerpomper/ExploratoryDataAnalysis_Project1/collaborators{/collaborator}</td></tr><tr><td></td><td>comments_url</td><td>https://api.github.com/repos/gardnerpomper/ExploratoryDataAnalysis_Project1/comments{/number}</td></tr><tr><td></td><td>commits_url</td><td>https://api.github.com/repos/gardnerpomper/ExploratoryDataAnalysis_Project1/commits{/sha}</td></tr><tr><td></td><td>compare_url</td><td>https://api.github.com/repos/gardnerpomper/ExploratoryDataAnalysis_Project1/compare/{base}...{head}</td></tr><tr><td></td><td>contents_url</td><td>https://api.github.com/repos/gardnerpomper/ExploratoryDataAnalysis_Project1/contents/{+path}</td></tr><tr><td></td><td>contributors_url</td><td>https://api.github.com/repos/gardnerpomper/ExploratoryDataAnalysis_Project1/contributors</td></tr><tr><td></td><td>created_at</td><td>2014-05-11T19:13:05Z</td></tr><tr><td></td><td>default_branch</td><td>master</td></tr><tr><td></td><td>deployments_url</td><td>https://api.github.com/repos/gardnerpomper/ExploratoryDataAnalysis_Project1/deployments</td></tr><tr><td></td><td>description</td><td>Coursera Exploratory Data Analysis Project 1</td></tr><tr><td></td><td>downloads_url</td><td>https://api.github.com/repos/gardnerpomper/ExploratoryDataAnalysis_Project1/downloads</td></tr><tr><td></td><td>events_url</td><td>https://api.github.com/repos/gardnerpomper/ExploratoryDataAnalysis_Project1/events</td></tr><tr><td></td><td>fork</td><td>False</td></tr><tr><td></td><td>forks</td><td>0</td></tr><tr><td></td><td>forks_count</td><td>0</td></tr><tr><td></td><td>forks_url</td><td>https://api.github.com/repos/gardnerpomper/ExploratoryDataAnalysis_Project1/forks</td></tr><tr><td></td><td>full_name</td><td>gardnerpomper/ExploratoryDataAnalysis_Project1</td></tr><tr><td></td><td>git_commits_url</td><td>https://api.github.com/repos/gardnerpomper/ExploratoryDataAnalysis_Project1/git/commits{/sha}</td></tr><tr><td></td><td>git_refs_url</td><td>https://api.github.com/repos/gardnerpomper/ExploratoryDataAnalysis_Project1/git/refs{/sha}</td></tr><tr><td></td><td>git_tags_url</td><td>https://api.github.com/repos/gardnerpomper/ExploratoryDataAnalysis_Project1/git/tags{/sha}</td></tr><tr><td></td><td>git_url</td><td>git://github.com/gardnerpomper/ExploratoryDataAnalysis_Project1.git</td></tr><tr><td></td><td>has_downloads</td><td>True</td></tr><tr><td></td><td>has_issues</td><td>True</td></tr><tr><td></td><td>has_pages</td><td>False</td></tr><tr><td></td><td>has_wiki</td><td>True</td></tr><tr><td></td><td>homepage</td><td>None</td></tr><tr><td></td><td>hooks_url</td><td>https://api.github.com/repos/gardnerpomper/ExploratoryDataAnalysis_Project1/hooks</td></tr><tr><td></td><td>html_url</td><td>https://github.com/gardnerpomper/ExploratoryDataAnalysis_Project1</td></tr><tr><td></td><td>id</td><td>19674949</td></tr><tr><td></td><td>issue_comment_url</td><td>https://api.github.com/repos/gardnerpomper/ExploratoryDataAnalysis_Project1/issues/comments{/number}</td></tr><tr><td></td><td>issue_events_url</td><td>https://api.github.com/repos/gardnerpomper/ExploratoryDataAnalysis_Project1/issues/events{/number}</td></tr><tr><td></td><td>issues_url</td><td>https://api.github.com/repos/gardnerpomper/ExploratoryDataAnalysis_Project1/issues{/number}</td></tr><tr><td></td><td>keys_url</td><td>https://api.github.com/repos/gardnerpomper/ExploratoryDataAnalysis_Project1/keys{/key_id}</td></tr><tr><td></td><td>labels_url</td><td>https://api.github.com/repos/gardnerpomper/ExploratoryDataAnalysis_Project1/labels{/name}</td></tr><tr><td></td><td>language</td><td>None</td></tr><tr><td></td><td>languages_url</td><td>https://api.github.com/repos/gardnerpomper/ExploratoryDataAnalysis_Project1/languages</td></tr><tr><td></td><td>merges_url</td><td>https://api.github.com/repos/gardnerpomper/ExploratoryDataAnalysis_Project1/merges</td></tr><tr><td></td><td>milestones_url</td><td>https://api.github.com/repos/gardnerpomper/ExploratoryDataAnalysis_Project1/milestones{/number}</td></tr><tr><td></td><td>mirror_url</td><td>None</td></tr><tr><td></td><td>name</td><td>ExploratoryDataAnalysis_Project1</td></tr><tr><td></td><td>notifications_url</td><td>https://api.github.com/repos/gardnerpomper/ExploratoryDataAnalysis_Project1/notifications{?since,all,participating}</td></tr><tr><td></td><td>open_issues</td><td>0</td></tr><tr><td></td><td>open_issues_count</td><td>0</td></tr><tr><td></td><td>owner</td><td>{'id': 3866293, 'type': 'User', 'gravatar_id': '', 'avatar_url': 'https://avatars.githubusercontent.com/u/3866293?v=3', 'starred_url': 'https://api.github.com/users/gardnerpomper/starred{/owner}{/repo}', 'html_url': 'https://github.com/gardnerpomper', 'received_events_url': 'https://api.github.com/users/gardnerpomper/received_events', 'url': 'https://api.github.com/users/gardnerpomper', 'followers_url': 'https://api.github.com/users/gardnerpomper/followers', 'events_url': 'https://api.github.com/users/gardnerpomper/events{/privacy}', 'organizations_url': 'https://api.github.com/users/gardnerpomper/orgs', 'site_admin': False, 'repos_url': 'https://api.github.com/users/gardnerpomper/repos', 'login': 'gardnerpomper', 'gists_url': 'https://api.github.com/users/gardnerpomper/gists{/gist_id}', 'following_url': 'https://api.github.com/users/gardnerpomper/following{/other_user}', 'subscriptions_url': 'https://api.github.com/users/gardnerpomper/subscriptions'}</td></tr><tr><td></td><td>private</td><td>False</td></tr><tr><td></td><td>pulls_url</td><td>https://api.github.com/repos/gardnerpomper/ExploratoryDataAnalysis_Project1/pulls{/number}</td></tr><tr><td></td><td>pushed_at</td><td>2014-05-11T19:13:05Z</td></tr><tr><td></td><td>releases_url</td><td>https://api.github.com/repos/gardnerpomper/ExploratoryDataAnalysis_Project1/releases{/id}</td></tr><tr><td></td><td>size</td><td>0</td></tr><tr><td></td><td>ssh_url</td><td>git@github.com:gardnerpomper/ExploratoryDataAnalysis_Project1.git</td></tr><tr><td></td><td>stargazers_count</td><td>0</td></tr><tr><td></td><td>stargazers_url</td><td>https://api.github.com/repos/gardnerpomper/ExploratoryDataAnalysis_Project1/stargazers</td></tr><tr><td></td><td>statuses_url</td><td>https://api.github.com/repos/gardnerpomper/ExploratoryDataAnalysis_Project1/statuses/{sha}</td></tr><tr><td></td><td>subscribers_url</td><td>https://api.github.com/repos/gardnerpomper/ExploratoryDataAnalysis_Project1/subscribers</td></tr><tr><td></td><td>subscription_url</td><td>https://api.github.com/repos/gardnerpomper/ExploratoryDataAnalysis_Project1/subscription</td></tr><tr><td></td><td>svn_url</td><td>https://github.com/gardnerpomper/ExploratoryDataAnalysis_Project1</td></tr><tr><td></td><td>tags_url</td><td>https://api.github.com/repos/gardnerpomper/ExploratoryDataAnalysis_Project1/tags</td></tr><tr><td></td><td>teams_url</td><td>https://api.github.com/repos/gardnerpomper/ExploratoryDataAnalysis_Project1/teams</td></tr><tr><td></td><td>trees_url</td><td>https://api.github.com/repos/gardnerpomper/ExploratoryDataAnalysis_Project1/git/trees{/sha}</td></tr><tr><td></td><td>updated_at</td><td>2014-05-24T07:30:51Z</td></tr><tr><td></td><td>url</td><td>https://api.github.com/repos/gardnerpomper/ExploratoryDataAnalysis_Project1</td></tr><tr><td></td><td>watchers</td><td>0</td></tr><tr><td></td><td>watchers_count</td><td>0</td></tr><tr><td>11</td><td>archive_url</td><td>https://api.github.com/repos/gardnerpomper/IntroPythonCOX/{archive_format}{/ref}</td></tr><tr><td></td><td>assignees_url</td><td>https://api.github.com/repos/gardnerpomper/IntroPythonCOX/assignees{/user}</td></tr><tr><td></td><td>blobs_url</td><td>https://api.github.com/repos/gardnerpomper/IntroPythonCOX/git/blobs{/sha}</td></tr><tr><td></td><td>branches_url</td><td>https://api.github.com/repos/gardnerpomper/IntroPythonCOX/branches{/branch}</td></tr><tr><td></td><td>clone_url</td><td>https://github.com/gardnerpomper/IntroPythonCOX.git</td></tr><tr><td></td><td>collaborators_url</td><td>https://api.github.com/repos/gardnerpomper/IntroPythonCOX/collaborators{/collaborator}</td></tr><tr><td></td><td>comments_url</td><td>https://api.github.com/repos/gardnerpomper/IntroPythonCOX/comments{/number}</td></tr><tr><td></td><td>commits_url</td><td>https://api.github.com/repos/gardnerpomper/IntroPythonCOX/commits{/sha}</td></tr><tr><td></td><td>compare_url</td><td>https://api.github.com/repos/gardnerpomper/IntroPythonCOX/compare/{base}...{head}</td></tr><tr><td></td><td>contents_url</td><td>https://api.github.com/repos/gardnerpomper/IntroPythonCOX/contents/{+path}</td></tr><tr><td></td><td>contributors_url</td><td>https://api.github.com/repos/gardnerpomper/IntroPythonCOX/contributors</td></tr><tr><td></td><td>created_at</td><td>2016-07-26T11:17:05Z</td></tr><tr><td></td><td>default_branch</td><td>master</td></tr><tr><td></td><td>deployments_url</td><td>https://api.github.com/repos/gardnerpomper/IntroPythonCOX/deployments</td></tr><tr><td></td><td>description</td><td>Class notes from \"Intro to Python\" class for COX automotive</td></tr><tr><td></td><td>downloads_url</td><td>https://api.github.com/repos/gardnerpomper/IntroPythonCOX/downloads</td></tr><tr><td></td><td>events_url</td><td>https://api.github.com/repos/gardnerpomper/IntroPythonCOX/events</td></tr><tr><td></td><td>fork</td><td>False</td></tr><tr><td></td><td>forks</td><td>0</td></tr><tr><td></td><td>forks_count</td><td>0</td></tr><tr><td></td><td>forks_url</td><td>https://api.github.com/repos/gardnerpomper/IntroPythonCOX/forks</td></tr><tr><td></td><td>full_name</td><td>gardnerpomper/IntroPythonCOX</td></tr><tr><td></td><td>git_commits_url</td><td>https://api.github.com/repos/gardnerpomper/IntroPythonCOX/git/commits{/sha}</td></tr><tr><td></td><td>git_refs_url</td><td>https://api.github.com/repos/gardnerpomper/IntroPythonCOX/git/refs{/sha}</td></tr><tr><td></td><td>git_tags_url</td><td>https://api.github.com/repos/gardnerpomper/IntroPythonCOX/git/tags{/sha}</td></tr><tr><td></td><td>git_url</td><td>git://github.com/gardnerpomper/IntroPythonCOX.git</td></tr><tr><td></td><td>has_downloads</td><td>True</td></tr><tr><td></td><td>has_issues</td><td>True</td></tr><tr><td></td><td>has_pages</td><td>False</td></tr><tr><td></td><td>has_wiki</td><td>True</td></tr><tr><td></td><td>homepage</td><td>None</td></tr><tr><td></td><td>hooks_url</td><td>https://api.github.com/repos/gardnerpomper/IntroPythonCOX/hooks</td></tr><tr><td></td><td>html_url</td><td>https://github.com/gardnerpomper/IntroPythonCOX</td></tr><tr><td></td><td>id</td><td>64215333</td></tr><tr><td></td><td>issue_comment_url</td><td>https://api.github.com/repos/gardnerpomper/IntroPythonCOX/issues/comments{/number}</td></tr><tr><td></td><td>issue_events_url</td><td>https://api.github.com/repos/gardnerpomper/IntroPythonCOX/issues/events{/number}</td></tr><tr><td></td><td>issues_url</td><td>https://api.github.com/repos/gardnerpomper/IntroPythonCOX/issues{/number}</td></tr><tr><td></td><td>keys_url</td><td>https://api.github.com/repos/gardnerpomper/IntroPythonCOX/keys{/key_id}</td></tr><tr><td></td><td>labels_url</td><td>https://api.github.com/repos/gardnerpomper/IntroPythonCOX/labels{/name}</td></tr><tr><td></td><td>language</td><td>Jupyter Notebook</td></tr><tr><td></td><td>languages_url</td><td>https://api.github.com/repos/gardnerpomper/IntroPythonCOX/languages</td></tr><tr><td></td><td>merges_url</td><td>https://api.github.com/repos/gardnerpomper/IntroPythonCOX/merges</td></tr><tr><td></td><td>milestones_url</td><td>https://api.github.com/repos/gardnerpomper/IntroPythonCOX/milestones{/number}</td></tr><tr><td></td><td>mirror_url</td><td>None</td></tr><tr><td></td><td>name</td><td>IntroPythonCOX</td></tr><tr><td></td><td>notifications_url</td><td>https://api.github.com/repos/gardnerpomper/IntroPythonCOX/notifications{?since,all,participating}</td></tr><tr><td></td><td>open_issues</td><td>0</td></tr><tr><td></td><td>open_issues_count</td><td>0</td></tr><tr><td></td><td>owner</td><td>{'id': 3866293, 'type': 'User', 'gravatar_id': '', 'avatar_url': 'https://avatars.githubusercontent.com/u/3866293?v=3', 'starred_url': 'https://api.github.com/users/gardnerpomper/starred{/owner}{/repo}', 'html_url': 'https://github.com/gardnerpomper', 'received_events_url': 'https://api.github.com/users/gardnerpomper/received_events', 'url': 'https://api.github.com/users/gardnerpomper', 'followers_url': 'https://api.github.com/users/gardnerpomper/followers', 'events_url': 'https://api.github.com/users/gardnerpomper/events{/privacy}', 'organizations_url': 'https://api.github.com/users/gardnerpomper/orgs', 'site_admin': False, 'repos_url': 'https://api.github.com/users/gardnerpomper/repos', 'login': 'gardnerpomper', 'gists_url': 'https://api.github.com/users/gardnerpomper/gists{/gist_id}', 'following_url': 'https://api.github.com/users/gardnerpomper/following{/other_user}', 'subscriptions_url': 'https://api.github.com/users/gardnerpomper/subscriptions'}</td></tr><tr><td></td><td>private</td><td>False</td></tr><tr><td></td><td>pulls_url</td><td>https://api.github.com/repos/gardnerpomper/IntroPythonCOX/pulls{/number}</td></tr><tr><td></td><td>pushed_at</td><td>2016-07-26T23:54:53Z</td></tr><tr><td></td><td>releases_url</td><td>https://api.github.com/repos/gardnerpomper/IntroPythonCOX/releases{/id}</td></tr><tr><td></td><td>size</td><td>512</td></tr><tr><td></td><td>ssh_url</td><td>git@github.com:gardnerpomper/IntroPythonCOX.git</td></tr><tr><td></td><td>stargazers_count</td><td>0</td></tr><tr><td></td><td>stargazers_url</td><td>https://api.github.com/repos/gardnerpomper/IntroPythonCOX/stargazers</td></tr><tr><td></td><td>statuses_url</td><td>https://api.github.com/repos/gardnerpomper/IntroPythonCOX/statuses/{sha}</td></tr><tr><td></td><td>subscribers_url</td><td>https://api.github.com/repos/gardnerpomper/IntroPythonCOX/subscribers</td></tr><tr><td></td><td>subscription_url</td><td>https://api.github.com/repos/gardnerpomper/IntroPythonCOX/subscription</td></tr><tr><td></td><td>svn_url</td><td>https://github.com/gardnerpomper/IntroPythonCOX</td></tr><tr><td></td><td>tags_url</td><td>https://api.github.com/repos/gardnerpomper/IntroPythonCOX/tags</td></tr><tr><td></td><td>teams_url</td><td>https://api.github.com/repos/gardnerpomper/IntroPythonCOX/teams</td></tr><tr><td></td><td>trees_url</td><td>https://api.github.com/repos/gardnerpomper/IntroPythonCOX/git/trees{/sha}</td></tr><tr><td></td><td>updated_at</td><td>2016-07-26T11:18:57Z</td></tr><tr><td></td><td>url</td><td>https://api.github.com/repos/gardnerpomper/IntroPythonCOX</td></tr><tr><td></td><td>watchers</td><td>0</td></tr><tr><td></td><td>watchers_count</td><td>0</td></tr><tr><td>12</td><td>archive_url</td><td>https://api.github.com/repos/gardnerpomper/minimal-xfce-xvnc-xrdp/{archive_format}{/ref}</td></tr><tr><td></td><td>assignees_url</td><td>https://api.github.com/repos/gardnerpomper/minimal-xfce-xvnc-xrdp/assignees{/user}</td></tr><tr><td></td><td>blobs_url</td><td>https://api.github.com/repos/gardnerpomper/minimal-xfce-xvnc-xrdp/git/blobs{/sha}</td></tr><tr><td></td><td>branches_url</td><td>https://api.github.com/repos/gardnerpomper/minimal-xfce-xvnc-xrdp/branches{/branch}</td></tr><tr><td></td><td>clone_url</td><td>https://github.com/gardnerpomper/minimal-xfce-xvnc-xrdp.git</td></tr><tr><td></td><td>collaborators_url</td><td>https://api.github.com/repos/gardnerpomper/minimal-xfce-xvnc-xrdp/collaborators{/collaborator}</td></tr><tr><td></td><td>comments_url</td><td>https://api.github.com/repos/gardnerpomper/minimal-xfce-xvnc-xrdp/comments{/number}</td></tr><tr><td></td><td>commits_url</td><td>https://api.github.com/repos/gardnerpomper/minimal-xfce-xvnc-xrdp/commits{/sha}</td></tr><tr><td></td><td>compare_url</td><td>https://api.github.com/repos/gardnerpomper/minimal-xfce-xvnc-xrdp/compare/{base}...{head}</td></tr><tr><td></td><td>contents_url</td><td>https://api.github.com/repos/gardnerpomper/minimal-xfce-xvnc-xrdp/contents/{+path}</td></tr><tr><td></td><td>contributors_url</td><td>https://api.github.com/repos/gardnerpomper/minimal-xfce-xvnc-xrdp/contributors</td></tr><tr><td></td><td>created_at</td><td>2015-11-20T21:07:30Z</td></tr><tr><td></td><td>default_branch</td><td>initial_commit</td></tr><tr><td></td><td>deployments_url</td><td>https://api.github.com/repos/gardnerpomper/minimal-xfce-xvnc-xrdp/deployments</td></tr><tr><td></td><td>description</td><td>A minimal xfce desktop GUI container that connects via VNC and/or RDP</td></tr><tr><td></td><td>downloads_url</td><td>https://api.github.com/repos/gardnerpomper/minimal-xfce-xvnc-xrdp/downloads</td></tr><tr><td></td><td>events_url</td><td>https://api.github.com/repos/gardnerpomper/minimal-xfce-xvnc-xrdp/events</td></tr><tr><td></td><td>fork</td><td>False</td></tr><tr><td></td><td>forks</td><td>0</td></tr><tr><td></td><td>forks_count</td><td>0</td></tr><tr><td></td><td>forks_url</td><td>https://api.github.com/repos/gardnerpomper/minimal-xfce-xvnc-xrdp/forks</td></tr><tr><td></td><td>full_name</td><td>gardnerpomper/minimal-xfce-xvnc-xrdp</td></tr><tr><td></td><td>git_commits_url</td><td>https://api.github.com/repos/gardnerpomper/minimal-xfce-xvnc-xrdp/git/commits{/sha}</td></tr><tr><td></td><td>git_refs_url</td><td>https://api.github.com/repos/gardnerpomper/minimal-xfce-xvnc-xrdp/git/refs{/sha}</td></tr><tr><td></td><td>git_tags_url</td><td>https://api.github.com/repos/gardnerpomper/minimal-xfce-xvnc-xrdp/git/tags{/sha}</td></tr><tr><td></td><td>git_url</td><td>git://github.com/gardnerpomper/minimal-xfce-xvnc-xrdp.git</td></tr><tr><td></td><td>has_downloads</td><td>True</td></tr><tr><td></td><td>has_issues</td><td>True</td></tr><tr><td></td><td>has_pages</td><td>False</td></tr><tr><td></td><td>has_wiki</td><td>True</td></tr><tr><td></td><td>homepage</td><td>None</td></tr><tr><td></td><td>hooks_url</td><td>https://api.github.com/repos/gardnerpomper/minimal-xfce-xvnc-xrdp/hooks</td></tr><tr><td></td><td>html_url</td><td>https://github.com/gardnerpomper/minimal-xfce-xvnc-xrdp</td></tr><tr><td></td><td>id</td><td>46586880</td></tr><tr><td></td><td>issue_comment_url</td><td>https://api.github.com/repos/gardnerpomper/minimal-xfce-xvnc-xrdp/issues/comments{/number}</td></tr><tr><td></td><td>issue_events_url</td><td>https://api.github.com/repos/gardnerpomper/minimal-xfce-xvnc-xrdp/issues/events{/number}</td></tr><tr><td></td><td>issues_url</td><td>https://api.github.com/repos/gardnerpomper/minimal-xfce-xvnc-xrdp/issues{/number}</td></tr><tr><td></td><td>keys_url</td><td>https://api.github.com/repos/gardnerpomper/minimal-xfce-xvnc-xrdp/keys{/key_id}</td></tr><tr><td></td><td>labels_url</td><td>https://api.github.com/repos/gardnerpomper/minimal-xfce-xvnc-xrdp/labels{/name}</td></tr><tr><td></td><td>language</td><td>Shell</td></tr><tr><td></td><td>languages_url</td><td>https://api.github.com/repos/gardnerpomper/minimal-xfce-xvnc-xrdp/languages</td></tr><tr><td></td><td>merges_url</td><td>https://api.github.com/repos/gardnerpomper/minimal-xfce-xvnc-xrdp/merges</td></tr><tr><td></td><td>milestones_url</td><td>https://api.github.com/repos/gardnerpomper/minimal-xfce-xvnc-xrdp/milestones{/number}</td></tr><tr><td></td><td>mirror_url</td><td>None</td></tr><tr><td></td><td>name</td><td>minimal-xfce-xvnc-xrdp</td></tr><tr><td></td><td>notifications_url</td><td>https://api.github.com/repos/gardnerpomper/minimal-xfce-xvnc-xrdp/notifications{?since,all,participating}</td></tr><tr><td></td><td>open_issues</td><td>0</td></tr><tr><td></td><td>open_issues_count</td><td>0</td></tr><tr><td></td><td>owner</td><td>{'id': 3866293, 'type': 'User', 'gravatar_id': '', 'avatar_url': 'https://avatars.githubusercontent.com/u/3866293?v=3', 'starred_url': 'https://api.github.com/users/gardnerpomper/starred{/owner}{/repo}', 'html_url': 'https://github.com/gardnerpomper', 'received_events_url': 'https://api.github.com/users/gardnerpomper/received_events', 'url': 'https://api.github.com/users/gardnerpomper', 'followers_url': 'https://api.github.com/users/gardnerpomper/followers', 'events_url': 'https://api.github.com/users/gardnerpomper/events{/privacy}', 'organizations_url': 'https://api.github.com/users/gardnerpomper/orgs', 'site_admin': False, 'repos_url': 'https://api.github.com/users/gardnerpomper/repos', 'login': 'gardnerpomper', 'gists_url': 'https://api.github.com/users/gardnerpomper/gists{/gist_id}', 'following_url': 'https://api.github.com/users/gardnerpomper/following{/other_user}', 'subscriptions_url': 'https://api.github.com/users/gardnerpomper/subscriptions'}</td></tr><tr><td></td><td>private</td><td>False</td></tr><tr><td></td><td>pulls_url</td><td>https://api.github.com/repos/gardnerpomper/minimal-xfce-xvnc-xrdp/pulls{/number}</td></tr><tr><td></td><td>pushed_at</td><td>2015-12-04T21:44:03Z</td></tr><tr><td></td><td>releases_url</td><td>https://api.github.com/repos/gardnerpomper/minimal-xfce-xvnc-xrdp/releases{/id}</td></tr><tr><td></td><td>size</td><td>5</td></tr><tr><td></td><td>ssh_url</td><td>git@github.com:gardnerpomper/minimal-xfce-xvnc-xrdp.git</td></tr><tr><td></td><td>stargazers_count</td><td>1</td></tr><tr><td></td><td>stargazers_url</td><td>https://api.github.com/repos/gardnerpomper/minimal-xfce-xvnc-xrdp/stargazers</td></tr><tr><td></td><td>statuses_url</td><td>https://api.github.com/repos/gardnerpomper/minimal-xfce-xvnc-xrdp/statuses/{sha}</td></tr><tr><td></td><td>subscribers_url</td><td>https://api.github.com/repos/gardnerpomper/minimal-xfce-xvnc-xrdp/subscribers</td></tr><tr><td></td><td>subscription_url</td><td>https://api.github.com/repos/gardnerpomper/minimal-xfce-xvnc-xrdp/subscription</td></tr><tr><td></td><td>svn_url</td><td>https://github.com/gardnerpomper/minimal-xfce-xvnc-xrdp</td></tr><tr><td></td><td>tags_url</td><td>https://api.github.com/repos/gardnerpomper/minimal-xfce-xvnc-xrdp/tags</td></tr><tr><td></td><td>teams_url</td><td>https://api.github.com/repos/gardnerpomper/minimal-xfce-xvnc-xrdp/teams</td></tr><tr><td></td><td>trees_url</td><td>https://api.github.com/repos/gardnerpomper/minimal-xfce-xvnc-xrdp/git/trees{/sha}</td></tr><tr><td></td><td>updated_at</td><td>2016-02-24T16:04:21Z</td></tr><tr><td></td><td>url</td><td>https://api.github.com/repos/gardnerpomper/minimal-xfce-xvnc-xrdp</td></tr><tr><td></td><td>watchers</td><td>1</td></tr><tr><td></td><td>watchers_count</td><td>1</td></tr><tr><td>13</td><td>archive_url</td><td>https://api.github.com/repos/gardnerpomper/novnc/{archive_format}{/ref}</td></tr><tr><td></td><td>assignees_url</td><td>https://api.github.com/repos/gardnerpomper/novnc/assignees{/user}</td></tr><tr><td></td><td>blobs_url</td><td>https://api.github.com/repos/gardnerpomper/novnc/git/blobs{/sha}</td></tr><tr><td></td><td>branches_url</td><td>https://api.github.com/repos/gardnerpomper/novnc/branches{/branch}</td></tr><tr><td></td><td>clone_url</td><td>https://github.com/gardnerpomper/novnc.git</td></tr><tr><td></td><td>collaborators_url</td><td>https://api.github.com/repos/gardnerpomper/novnc/collaborators{/collaborator}</td></tr><tr><td></td><td>comments_url</td><td>https://api.github.com/repos/gardnerpomper/novnc/comments{/number}</td></tr><tr><td></td><td>commits_url</td><td>https://api.github.com/repos/gardnerpomper/novnc/commits{/sha}</td></tr><tr><td></td><td>compare_url</td><td>https://api.github.com/repos/gardnerpomper/novnc/compare/{base}...{head}</td></tr><tr><td></td><td>contents_url</td><td>https://api.github.com/repos/gardnerpomper/novnc/contents/{+path}</td></tr><tr><td></td><td>contributors_url</td><td>https://api.github.com/repos/gardnerpomper/novnc/contributors</td></tr><tr><td></td><td>created_at</td><td>2016-01-16T00:39:49Z</td></tr><tr><td></td><td>default_branch</td><td>master</td></tr><tr><td></td><td>deployments_url</td><td>https://api.github.com/repos/gardnerpomper/novnc/deployments</td></tr><tr><td></td><td>description</td><td>Smallest Centos7 noVNC desktop</td></tr><tr><td></td><td>downloads_url</td><td>https://api.github.com/repos/gardnerpomper/novnc/downloads</td></tr><tr><td></td><td>events_url</td><td>https://api.github.com/repos/gardnerpomper/novnc/events</td></tr><tr><td></td><td>fork</td><td>False</td></tr><tr><td></td><td>forks</td><td>0</td></tr><tr><td></td><td>forks_count</td><td>0</td></tr><tr><td></td><td>forks_url</td><td>https://api.github.com/repos/gardnerpomper/novnc/forks</td></tr><tr><td></td><td>full_name</td><td>gardnerpomper/novnc</td></tr><tr><td></td><td>git_commits_url</td><td>https://api.github.com/repos/gardnerpomper/novnc/git/commits{/sha}</td></tr><tr><td></td><td>git_refs_url</td><td>https://api.github.com/repos/gardnerpomper/novnc/git/refs{/sha}</td></tr><tr><td></td><td>git_tags_url</td><td>https://api.github.com/repos/gardnerpomper/novnc/git/tags{/sha}</td></tr><tr><td></td><td>git_url</td><td>git://github.com/gardnerpomper/novnc.git</td></tr><tr><td></td><td>has_downloads</td><td>True</td></tr><tr><td></td><td>has_issues</td><td>True</td></tr><tr><td></td><td>has_pages</td><td>False</td></tr><tr><td></td><td>has_wiki</td><td>True</td></tr><tr><td></td><td>homepage</td><td>None</td></tr><tr><td></td><td>hooks_url</td><td>https://api.github.com/repos/gardnerpomper/novnc/hooks</td></tr><tr><td></td><td>html_url</td><td>https://github.com/gardnerpomper/novnc</td></tr><tr><td></td><td>id</td><td>49752652</td></tr><tr><td></td><td>issue_comment_url</td><td>https://api.github.com/repos/gardnerpomper/novnc/issues/comments{/number}</td></tr><tr><td></td><td>issue_events_url</td><td>https://api.github.com/repos/gardnerpomper/novnc/issues/events{/number}</td></tr><tr><td></td><td>issues_url</td><td>https://api.github.com/repos/gardnerpomper/novnc/issues{/number}</td></tr><tr><td></td><td>keys_url</td><td>https://api.github.com/repos/gardnerpomper/novnc/keys{/key_id}</td></tr><tr><td></td><td>labels_url</td><td>https://api.github.com/repos/gardnerpomper/novnc/labels{/name}</td></tr><tr><td></td><td>language</td><td>Shell</td></tr><tr><td></td><td>languages_url</td><td>https://api.github.com/repos/gardnerpomper/novnc/languages</td></tr><tr><td></td><td>merges_url</td><td>https://api.github.com/repos/gardnerpomper/novnc/merges</td></tr><tr><td></td><td>milestones_url</td><td>https://api.github.com/repos/gardnerpomper/novnc/milestones{/number}</td></tr><tr><td></td><td>mirror_url</td><td>None</td></tr><tr><td></td><td>name</td><td>novnc</td></tr><tr><td></td><td>notifications_url</td><td>https://api.github.com/repos/gardnerpomper/novnc/notifications{?since,all,participating}</td></tr><tr><td></td><td>open_issues</td><td>0</td></tr><tr><td></td><td>open_issues_count</td><td>0</td></tr><tr><td></td><td>owner</td><td>{'id': 3866293, 'type': 'User', 'gravatar_id': '', 'avatar_url': 'https://avatars.githubusercontent.com/u/3866293?v=3', 'starred_url': 'https://api.github.com/users/gardnerpomper/starred{/owner}{/repo}', 'html_url': 'https://github.com/gardnerpomper', 'received_events_url': 'https://api.github.com/users/gardnerpomper/received_events', 'url': 'https://api.github.com/users/gardnerpomper', 'followers_url': 'https://api.github.com/users/gardnerpomper/followers', 'events_url': 'https://api.github.com/users/gardnerpomper/events{/privacy}', 'organizations_url': 'https://api.github.com/users/gardnerpomper/orgs', 'site_admin': False, 'repos_url': 'https://api.github.com/users/gardnerpomper/repos', 'login': 'gardnerpomper', 'gists_url': 'https://api.github.com/users/gardnerpomper/gists{/gist_id}', 'following_url': 'https://api.github.com/users/gardnerpomper/following{/other_user}', 'subscriptions_url': 'https://api.github.com/users/gardnerpomper/subscriptions'}</td></tr><tr><td></td><td>private</td><td>False</td></tr><tr><td></td><td>pulls_url</td><td>https://api.github.com/repos/gardnerpomper/novnc/pulls{/number}</td></tr><tr><td></td><td>pushed_at</td><td>2016-01-16T02:32:05Z</td></tr><tr><td></td><td>releases_url</td><td>https://api.github.com/repos/gardnerpomper/novnc/releases{/id}</td></tr><tr><td></td><td>size</td><td>6</td></tr><tr><td></td><td>ssh_url</td><td>git@github.com:gardnerpomper/novnc.git</td></tr><tr><td></td><td>stargazers_count</td><td>0</td></tr><tr><td></td><td>stargazers_url</td><td>https://api.github.com/repos/gardnerpomper/novnc/stargazers</td></tr><tr><td></td><td>statuses_url</td><td>https://api.github.com/repos/gardnerpomper/novnc/statuses/{sha}</td></tr><tr><td></td><td>subscribers_url</td><td>https://api.github.com/repos/gardnerpomper/novnc/subscribers</td></tr><tr><td></td><td>subscription_url</td><td>https://api.github.com/repos/gardnerpomper/novnc/subscription</td></tr><tr><td></td><td>svn_url</td><td>https://github.com/gardnerpomper/novnc</td></tr><tr><td></td><td>tags_url</td><td>https://api.github.com/repos/gardnerpomper/novnc/tags</td></tr><tr><td></td><td>teams_url</td><td>https://api.github.com/repos/gardnerpomper/novnc/teams</td></tr><tr><td></td><td>trees_url</td><td>https://api.github.com/repos/gardnerpomper/novnc/git/trees{/sha}</td></tr><tr><td></td><td>updated_at</td><td>2016-01-16T02:28:43Z</td></tr><tr><td></td><td>url</td><td>https://api.github.com/repos/gardnerpomper/novnc</td></tr><tr><td></td><td>watchers</td><td>0</td></tr><tr><td></td><td>watchers_count</td><td>0</td></tr><tr><td>14</td><td>archive_url</td><td>https://api.github.com/repos/gardnerpomper/PracticalMachineLearning/{archive_format}{/ref}</td></tr><tr><td></td><td>assignees_url</td><td>https://api.github.com/repos/gardnerpomper/PracticalMachineLearning/assignees{/user}</td></tr><tr><td></td><td>blobs_url</td><td>https://api.github.com/repos/gardnerpomper/PracticalMachineLearning/git/blobs{/sha}</td></tr><tr><td></td><td>branches_url</td><td>https://api.github.com/repos/gardnerpomper/PracticalMachineLearning/branches{/branch}</td></tr><tr><td></td><td>clone_url</td><td>https://github.com/gardnerpomper/PracticalMachineLearning.git</td></tr><tr><td></td><td>collaborators_url</td><td>https://api.github.com/repos/gardnerpomper/PracticalMachineLearning/collaborators{/collaborator}</td></tr><tr><td></td><td>comments_url</td><td>https://api.github.com/repos/gardnerpomper/PracticalMachineLearning/comments{/number}</td></tr><tr><td></td><td>commits_url</td><td>https://api.github.com/repos/gardnerpomper/PracticalMachineLearning/commits{/sha}</td></tr><tr><td></td><td>compare_url</td><td>https://api.github.com/repos/gardnerpomper/PracticalMachineLearning/compare/{base}...{head}</td></tr><tr><td></td><td>contents_url</td><td>https://api.github.com/repos/gardnerpomper/PracticalMachineLearning/contents/{+path}</td></tr><tr><td></td><td>contributors_url</td><td>https://api.github.com/repos/gardnerpomper/PracticalMachineLearning/contributors</td></tr><tr><td></td><td>created_at</td><td>2014-06-22T21:07:38Z</td></tr><tr><td></td><td>default_branch</td><td>master</td></tr><tr><td></td><td>deployments_url</td><td>https://api.github.com/repos/gardnerpomper/PracticalMachineLearning/deployments</td></tr><tr><td></td><td>description</td><td>Final project for Coursera's Practical Machine Learning</td></tr><tr><td></td><td>downloads_url</td><td>https://api.github.com/repos/gardnerpomper/PracticalMachineLearning/downloads</td></tr><tr><td></td><td>events_url</td><td>https://api.github.com/repos/gardnerpomper/PracticalMachineLearning/events</td></tr><tr><td></td><td>fork</td><td>False</td></tr><tr><td></td><td>forks</td><td>0</td></tr><tr><td></td><td>forks_count</td><td>0</td></tr><tr><td></td><td>forks_url</td><td>https://api.github.com/repos/gardnerpomper/PracticalMachineLearning/forks</td></tr><tr><td></td><td>full_name</td><td>gardnerpomper/PracticalMachineLearning</td></tr><tr><td></td><td>git_commits_url</td><td>https://api.github.com/repos/gardnerpomper/PracticalMachineLearning/git/commits{/sha}</td></tr><tr><td></td><td>git_refs_url</td><td>https://api.github.com/repos/gardnerpomper/PracticalMachineLearning/git/refs{/sha}</td></tr><tr><td></td><td>git_tags_url</td><td>https://api.github.com/repos/gardnerpomper/PracticalMachineLearning/git/tags{/sha}</td></tr><tr><td></td><td>git_url</td><td>git://github.com/gardnerpomper/PracticalMachineLearning.git</td></tr><tr><td></td><td>has_downloads</td><td>True</td></tr><tr><td></td><td>has_issues</td><td>True</td></tr><tr><td></td><td>has_pages</td><td>True</td></tr><tr><td></td><td>has_wiki</td><td>True</td></tr><tr><td></td><td>homepage</td><td>None</td></tr><tr><td></td><td>hooks_url</td><td>https://api.github.com/repos/gardnerpomper/PracticalMachineLearning/hooks</td></tr><tr><td></td><td>html_url</td><td>https://github.com/gardnerpomper/PracticalMachineLearning</td></tr><tr><td></td><td>id</td><td>21105547</td></tr><tr><td></td><td>issue_comment_url</td><td>https://api.github.com/repos/gardnerpomper/PracticalMachineLearning/issues/comments{/number}</td></tr><tr><td></td><td>issue_events_url</td><td>https://api.github.com/repos/gardnerpomper/PracticalMachineLearning/issues/events{/number}</td></tr><tr><td></td><td>issues_url</td><td>https://api.github.com/repos/gardnerpomper/PracticalMachineLearning/issues{/number}</td></tr><tr><td></td><td>keys_url</td><td>https://api.github.com/repos/gardnerpomper/PracticalMachineLearning/keys{/key_id}</td></tr><tr><td></td><td>labels_url</td><td>https://api.github.com/repos/gardnerpomper/PracticalMachineLearning/labels{/name}</td></tr><tr><td></td><td>language</td><td>JavaScript</td></tr><tr><td></td><td>languages_url</td><td>https://api.github.com/repos/gardnerpomper/PracticalMachineLearning/languages</td></tr><tr><td></td><td>merges_url</td><td>https://api.github.com/repos/gardnerpomper/PracticalMachineLearning/merges</td></tr><tr><td></td><td>milestones_url</td><td>https://api.github.com/repos/gardnerpomper/PracticalMachineLearning/milestones{/number}</td></tr><tr><td></td><td>mirror_url</td><td>None</td></tr><tr><td></td><td>name</td><td>PracticalMachineLearning</td></tr><tr><td></td><td>notifications_url</td><td>https://api.github.com/repos/gardnerpomper/PracticalMachineLearning/notifications{?since,all,participating}</td></tr><tr><td></td><td>open_issues</td><td>0</td></tr><tr><td></td><td>open_issues_count</td><td>0</td></tr><tr><td></td><td>owner</td><td>{'id': 3866293, 'type': 'User', 'gravatar_id': '', 'avatar_url': 'https://avatars.githubusercontent.com/u/3866293?v=3', 'starred_url': 'https://api.github.com/users/gardnerpomper/starred{/owner}{/repo}', 'html_url': 'https://github.com/gardnerpomper', 'received_events_url': 'https://api.github.com/users/gardnerpomper/received_events', 'url': 'https://api.github.com/users/gardnerpomper', 'followers_url': 'https://api.github.com/users/gardnerpomper/followers', 'events_url': 'https://api.github.com/users/gardnerpomper/events{/privacy}', 'organizations_url': 'https://api.github.com/users/gardnerpomper/orgs', 'site_admin': False, 'repos_url': 'https://api.github.com/users/gardnerpomper/repos', 'login': 'gardnerpomper', 'gists_url': 'https://api.github.com/users/gardnerpomper/gists{/gist_id}', 'following_url': 'https://api.github.com/users/gardnerpomper/following{/other_user}', 'subscriptions_url': 'https://api.github.com/users/gardnerpomper/subscriptions'}</td></tr><tr><td></td><td>private</td><td>False</td></tr><tr><td></td><td>pulls_url</td><td>https://api.github.com/repos/gardnerpomper/PracticalMachineLearning/pulls{/number}</td></tr><tr><td></td><td>pushed_at</td><td>2014-06-22T23:12:10Z</td></tr><tr><td></td><td>releases_url</td><td>https://api.github.com/repos/gardnerpomper/PracticalMachineLearning/releases{/id}</td></tr><tr><td></td><td>size</td><td>4128</td></tr><tr><td></td><td>ssh_url</td><td>git@github.com:gardnerpomper/PracticalMachineLearning.git</td></tr><tr><td></td><td>stargazers_count</td><td>0</td></tr><tr><td></td><td>stargazers_url</td><td>https://api.github.com/repos/gardnerpomper/PracticalMachineLearning/stargazers</td></tr><tr><td></td><td>statuses_url</td><td>https://api.github.com/repos/gardnerpomper/PracticalMachineLearning/statuses/{sha}</td></tr><tr><td></td><td>subscribers_url</td><td>https://api.github.com/repos/gardnerpomper/PracticalMachineLearning/subscribers</td></tr><tr><td></td><td>subscription_url</td><td>https://api.github.com/repos/gardnerpomper/PracticalMachineLearning/subscription</td></tr><tr><td></td><td>svn_url</td><td>https://github.com/gardnerpomper/PracticalMachineLearning</td></tr><tr><td></td><td>tags_url</td><td>https://api.github.com/repos/gardnerpomper/PracticalMachineLearning/tags</td></tr><tr><td></td><td>teams_url</td><td>https://api.github.com/repos/gardnerpomper/PracticalMachineLearning/teams</td></tr><tr><td></td><td>trees_url</td><td>https://api.github.com/repos/gardnerpomper/PracticalMachineLearning/git/trees{/sha}</td></tr><tr><td></td><td>updated_at</td><td>2014-06-22T23:12:11Z</td></tr><tr><td></td><td>url</td><td>https://api.github.com/repos/gardnerpomper/PracticalMachineLearning</td></tr><tr><td></td><td>watchers</td><td>0</td></tr><tr><td></td><td>watchers_count</td><td>0</td></tr><tr><td>15</td><td>archive_url</td><td>https://api.github.com/repos/gardnerpomper/ProgrammingAssignment2/{archive_format}{/ref}</td></tr><tr><td></td><td>assignees_url</td><td>https://api.github.com/repos/gardnerpomper/ProgrammingAssignment2/assignees{/user}</td></tr><tr><td></td><td>blobs_url</td><td>https://api.github.com/repos/gardnerpomper/ProgrammingAssignment2/git/blobs{/sha}</td></tr><tr><td></td><td>branches_url</td><td>https://api.github.com/repos/gardnerpomper/ProgrammingAssignment2/branches{/branch}</td></tr><tr><td></td><td>clone_url</td><td>https://github.com/gardnerpomper/ProgrammingAssignment2.git</td></tr><tr><td></td><td>collaborators_url</td><td>https://api.github.com/repos/gardnerpomper/ProgrammingAssignment2/collaborators{/collaborator}</td></tr><tr><td></td><td>comments_url</td><td>https://api.github.com/repos/gardnerpomper/ProgrammingAssignment2/comments{/number}</td></tr><tr><td></td><td>commits_url</td><td>https://api.github.com/repos/gardnerpomper/ProgrammingAssignment2/commits{/sha}</td></tr><tr><td></td><td>compare_url</td><td>https://api.github.com/repos/gardnerpomper/ProgrammingAssignment2/compare/{base}...{head}</td></tr><tr><td></td><td>contents_url</td><td>https://api.github.com/repos/gardnerpomper/ProgrammingAssignment2/contents/{+path}</td></tr><tr><td></td><td>contributors_url</td><td>https://api.github.com/repos/gardnerpomper/ProgrammingAssignment2/contributors</td></tr><tr><td></td><td>created_at</td><td>2014-04-20T13:38:02Z</td></tr><tr><td></td><td>default_branch</td><td>master</td></tr><tr><td></td><td>deployments_url</td><td>https://api.github.com/repos/gardnerpomper/ProgrammingAssignment2/deployments</td></tr><tr><td></td><td>description</td><td>Repository for Programming Assignment 2 for R Programming on Coursera</td></tr><tr><td></td><td>downloads_url</td><td>https://api.github.com/repos/gardnerpomper/ProgrammingAssignment2/downloads</td></tr><tr><td></td><td>events_url</td><td>https://api.github.com/repos/gardnerpomper/ProgrammingAssignment2/events</td></tr><tr><td></td><td>fork</td><td>True</td></tr><tr><td></td><td>forks</td><td>0</td></tr><tr><td></td><td>forks_count</td><td>0</td></tr><tr><td></td><td>forks_url</td><td>https://api.github.com/repos/gardnerpomper/ProgrammingAssignment2/forks</td></tr><tr><td></td><td>full_name</td><td>gardnerpomper/ProgrammingAssignment2</td></tr><tr><td></td><td>git_commits_url</td><td>https://api.github.com/repos/gardnerpomper/ProgrammingAssignment2/git/commits{/sha}</td></tr><tr><td></td><td>git_refs_url</td><td>https://api.github.com/repos/gardnerpomper/ProgrammingAssignment2/git/refs{/sha}</td></tr><tr><td></td><td>git_tags_url</td><td>https://api.github.com/repos/gardnerpomper/ProgrammingAssignment2/git/tags{/sha}</td></tr><tr><td></td><td>git_url</td><td>git://github.com/gardnerpomper/ProgrammingAssignment2.git</td></tr><tr><td></td><td>has_downloads</td><td>True</td></tr><tr><td></td><td>has_issues</td><td>False</td></tr><tr><td></td><td>has_pages</td><td>False</td></tr><tr><td></td><td>has_wiki</td><td>True</td></tr><tr><td></td><td>homepage</td><td>None</td></tr><tr><td></td><td>hooks_url</td><td>https://api.github.com/repos/gardnerpomper/ProgrammingAssignment2/hooks</td></tr><tr><td></td><td>html_url</td><td>https://github.com/gardnerpomper/ProgrammingAssignment2</td></tr><tr><td></td><td>id</td><td>18965054</td></tr><tr><td></td><td>issue_comment_url</td><td>https://api.github.com/repos/gardnerpomper/ProgrammingAssignment2/issues/comments{/number}</td></tr><tr><td></td><td>issue_events_url</td><td>https://api.github.com/repos/gardnerpomper/ProgrammingAssignment2/issues/events{/number}</td></tr><tr><td></td><td>issues_url</td><td>https://api.github.com/repos/gardnerpomper/ProgrammingAssignment2/issues{/number}</td></tr><tr><td></td><td>keys_url</td><td>https://api.github.com/repos/gardnerpomper/ProgrammingAssignment2/keys{/key_id}</td></tr><tr><td></td><td>labels_url</td><td>https://api.github.com/repos/gardnerpomper/ProgrammingAssignment2/labels{/name}</td></tr><tr><td></td><td>language</td><td>R</td></tr><tr><td></td><td>languages_url</td><td>https://api.github.com/repos/gardnerpomper/ProgrammingAssignment2/languages</td></tr><tr><td></td><td>merges_url</td><td>https://api.github.com/repos/gardnerpomper/ProgrammingAssignment2/merges</td></tr><tr><td></td><td>milestones_url</td><td>https://api.github.com/repos/gardnerpomper/ProgrammingAssignment2/milestones{/number}</td></tr><tr><td></td><td>mirror_url</td><td>None</td></tr><tr><td></td><td>name</td><td>ProgrammingAssignment2</td></tr><tr><td></td><td>notifications_url</td><td>https://api.github.com/repos/gardnerpomper/ProgrammingAssignment2/notifications{?since,all,participating}</td></tr><tr><td></td><td>open_issues</td><td>0</td></tr><tr><td></td><td>open_issues_count</td><td>0</td></tr><tr><td></td><td>owner</td><td>{'id': 3866293, 'type': 'User', 'gravatar_id': '', 'avatar_url': 'https://avatars.githubusercontent.com/u/3866293?v=3', 'starred_url': 'https://api.github.com/users/gardnerpomper/starred{/owner}{/repo}', 'html_url': 'https://github.com/gardnerpomper', 'received_events_url': 'https://api.github.com/users/gardnerpomper/received_events', 'url': 'https://api.github.com/users/gardnerpomper', 'followers_url': 'https://api.github.com/users/gardnerpomper/followers', 'events_url': 'https://api.github.com/users/gardnerpomper/events{/privacy}', 'organizations_url': 'https://api.github.com/users/gardnerpomper/orgs', 'site_admin': False, 'repos_url': 'https://api.github.com/users/gardnerpomper/repos', 'login': 'gardnerpomper', 'gists_url': 'https://api.github.com/users/gardnerpomper/gists{/gist_id}', 'following_url': 'https://api.github.com/users/gardnerpomper/following{/other_user}', 'subscriptions_url': 'https://api.github.com/users/gardnerpomper/subscriptions'}</td></tr><tr><td></td><td>private</td><td>False</td></tr><tr><td></td><td>pulls_url</td><td>https://api.github.com/repos/gardnerpomper/ProgrammingAssignment2/pulls{/number}</td></tr><tr><td></td><td>pushed_at</td><td>2014-04-20T13:42:14Z</td></tr><tr><td></td><td>releases_url</td><td>https://api.github.com/repos/gardnerpomper/ProgrammingAssignment2/releases{/id}</td></tr><tr><td></td><td>size</td><td>103</td></tr><tr><td></td><td>ssh_url</td><td>git@github.com:gardnerpomper/ProgrammingAssignment2.git</td></tr><tr><td></td><td>stargazers_count</td><td>0</td></tr><tr><td></td><td>stargazers_url</td><td>https://api.github.com/repos/gardnerpomper/ProgrammingAssignment2/stargazers</td></tr><tr><td></td><td>statuses_url</td><td>https://api.github.com/repos/gardnerpomper/ProgrammingAssignment2/statuses/{sha}</td></tr><tr><td></td><td>subscribers_url</td><td>https://api.github.com/repos/gardnerpomper/ProgrammingAssignment2/subscribers</td></tr><tr><td></td><td>subscription_url</td><td>https://api.github.com/repos/gardnerpomper/ProgrammingAssignment2/subscription</td></tr><tr><td></td><td>svn_url</td><td>https://github.com/gardnerpomper/ProgrammingAssignment2</td></tr><tr><td></td><td>tags_url</td><td>https://api.github.com/repos/gardnerpomper/ProgrammingAssignment2/tags</td></tr><tr><td></td><td>teams_url</td><td>https://api.github.com/repos/gardnerpomper/ProgrammingAssignment2/teams</td></tr><tr><td></td><td>trees_url</td><td>https://api.github.com/repos/gardnerpomper/ProgrammingAssignment2/git/trees{/sha}</td></tr><tr><td></td><td>updated_at</td><td>2014-04-20T13:42:14Z</td></tr><tr><td></td><td>url</td><td>https://api.github.com/repos/gardnerpomper/ProgrammingAssignment2</td></tr><tr><td></td><td>watchers</td><td>0</td></tr><tr><td></td><td>watchers_count</td><td>0</td></tr><tr><td>16</td><td>archive_url</td><td>https://api.github.com/repos/gardnerpomper/PyDebug/{archive_format}{/ref}</td></tr><tr><td></td><td>assignees_url</td><td>https://api.github.com/repos/gardnerpomper/PyDebug/assignees{/user}</td></tr><tr><td></td><td>blobs_url</td><td>https://api.github.com/repos/gardnerpomper/PyDebug/git/blobs{/sha}</td></tr><tr><td></td><td>branches_url</td><td>https://api.github.com/repos/gardnerpomper/PyDebug/branches{/branch}</td></tr><tr><td></td><td>clone_url</td><td>https://github.com/gardnerpomper/PyDebug.git</td></tr><tr><td></td><td>collaborators_url</td><td>https://api.github.com/repos/gardnerpomper/PyDebug/collaborators{/collaborator}</td></tr><tr><td></td><td>comments_url</td><td>https://api.github.com/repos/gardnerpomper/PyDebug/comments{/number}</td></tr><tr><td></td><td>commits_url</td><td>https://api.github.com/repos/gardnerpomper/PyDebug/commits{/sha}</td></tr><tr><td></td><td>compare_url</td><td>https://api.github.com/repos/gardnerpomper/PyDebug/compare/{base}...{head}</td></tr><tr><td></td><td>contents_url</td><td>https://api.github.com/repos/gardnerpomper/PyDebug/contents/{+path}</td></tr><tr><td></td><td>contributors_url</td><td>https://api.github.com/repos/gardnerpomper/PyDebug/contributors</td></tr><tr><td></td><td>created_at</td><td>2014-11-16T20:34:30Z</td></tr><tr><td></td><td>default_branch</td><td>master</td></tr><tr><td></td><td>deployments_url</td><td>https://api.github.com/repos/gardnerpomper/PyDebug/deployments</td></tr><tr><td></td><td>description</td><td>Python debug logging helper</td></tr><tr><td></td><td>downloads_url</td><td>https://api.github.com/repos/gardnerpomper/PyDebug/downloads</td></tr><tr><td></td><td>events_url</td><td>https://api.github.com/repos/gardnerpomper/PyDebug/events</td></tr><tr><td></td><td>fork</td><td>False</td></tr><tr><td></td><td>forks</td><td>0</td></tr><tr><td></td><td>forks_count</td><td>0</td></tr><tr><td></td><td>forks_url</td><td>https://api.github.com/repos/gardnerpomper/PyDebug/forks</td></tr><tr><td></td><td>full_name</td><td>gardnerpomper/PyDebug</td></tr><tr><td></td><td>git_commits_url</td><td>https://api.github.com/repos/gardnerpomper/PyDebug/git/commits{/sha}</td></tr><tr><td></td><td>git_refs_url</td><td>https://api.github.com/repos/gardnerpomper/PyDebug/git/refs{/sha}</td></tr><tr><td></td><td>git_tags_url</td><td>https://api.github.com/repos/gardnerpomper/PyDebug/git/tags{/sha}</td></tr><tr><td></td><td>git_url</td><td>git://github.com/gardnerpomper/PyDebug.git</td></tr><tr><td></td><td>has_downloads</td><td>True</td></tr><tr><td></td><td>has_issues</td><td>True</td></tr><tr><td></td><td>has_pages</td><td>False</td></tr><tr><td></td><td>has_wiki</td><td>True</td></tr><tr><td></td><td>homepage</td><td>None</td></tr><tr><td></td><td>hooks_url</td><td>https://api.github.com/repos/gardnerpomper/PyDebug/hooks</td></tr><tr><td></td><td>html_url</td><td>https://github.com/gardnerpomper/PyDebug</td></tr><tr><td></td><td>id</td><td>26727105</td></tr><tr><td></td><td>issue_comment_url</td><td>https://api.github.com/repos/gardnerpomper/PyDebug/issues/comments{/number}</td></tr><tr><td></td><td>issue_events_url</td><td>https://api.github.com/repos/gardnerpomper/PyDebug/issues/events{/number}</td></tr><tr><td></td><td>issues_url</td><td>https://api.github.com/repos/gardnerpomper/PyDebug/issues{/number}</td></tr><tr><td></td><td>keys_url</td><td>https://api.github.com/repos/gardnerpomper/PyDebug/keys{/key_id}</td></tr><tr><td></td><td>labels_url</td><td>https://api.github.com/repos/gardnerpomper/PyDebug/labels{/name}</td></tr><tr><td></td><td>language</td><td>Python</td></tr><tr><td></td><td>languages_url</td><td>https://api.github.com/repos/gardnerpomper/PyDebug/languages</td></tr><tr><td></td><td>merges_url</td><td>https://api.github.com/repos/gardnerpomper/PyDebug/merges</td></tr><tr><td></td><td>milestones_url</td><td>https://api.github.com/repos/gardnerpomper/PyDebug/milestones{/number}</td></tr><tr><td></td><td>mirror_url</td><td>None</td></tr><tr><td></td><td>name</td><td>PyDebug</td></tr><tr><td></td><td>notifications_url</td><td>https://api.github.com/repos/gardnerpomper/PyDebug/notifications{?since,all,participating}</td></tr><tr><td></td><td>open_issues</td><td>0</td></tr><tr><td></td><td>open_issues_count</td><td>0</td></tr><tr><td></td><td>owner</td><td>{'id': 3866293, 'type': 'User', 'gravatar_id': '', 'avatar_url': 'https://avatars.githubusercontent.com/u/3866293?v=3', 'starred_url': 'https://api.github.com/users/gardnerpomper/starred{/owner}{/repo}', 'html_url': 'https://github.com/gardnerpomper', 'received_events_url': 'https://api.github.com/users/gardnerpomper/received_events', 'url': 'https://api.github.com/users/gardnerpomper', 'followers_url': 'https://api.github.com/users/gardnerpomper/followers', 'events_url': 'https://api.github.com/users/gardnerpomper/events{/privacy}', 'organizations_url': 'https://api.github.com/users/gardnerpomper/orgs', 'site_admin': False, 'repos_url': 'https://api.github.com/users/gardnerpomper/repos', 'login': 'gardnerpomper', 'gists_url': 'https://api.github.com/users/gardnerpomper/gists{/gist_id}', 'following_url': 'https://api.github.com/users/gardnerpomper/following{/other_user}', 'subscriptions_url': 'https://api.github.com/users/gardnerpomper/subscriptions'}</td></tr><tr><td></td><td>private</td><td>False</td></tr><tr><td></td><td>pulls_url</td><td>https://api.github.com/repos/gardnerpomper/PyDebug/pulls{/number}</td></tr><tr><td></td><td>pushed_at</td><td>2014-11-18T17:32:33Z</td></tr><tr><td></td><td>releases_url</td><td>https://api.github.com/repos/gardnerpomper/PyDebug/releases{/id}</td></tr><tr><td></td><td>size</td><td>208</td></tr><tr><td></td><td>ssh_url</td><td>git@github.com:gardnerpomper/PyDebug.git</td></tr><tr><td></td><td>stargazers_count</td><td>0</td></tr><tr><td></td><td>stargazers_url</td><td>https://api.github.com/repos/gardnerpomper/PyDebug/stargazers</td></tr><tr><td></td><td>statuses_url</td><td>https://api.github.com/repos/gardnerpomper/PyDebug/statuses/{sha}</td></tr><tr><td></td><td>subscribers_url</td><td>https://api.github.com/repos/gardnerpomper/PyDebug/subscribers</td></tr><tr><td></td><td>subscription_url</td><td>https://api.github.com/repos/gardnerpomper/PyDebug/subscription</td></tr><tr><td></td><td>svn_url</td><td>https://github.com/gardnerpomper/PyDebug</td></tr><tr><td></td><td>tags_url</td><td>https://api.github.com/repos/gardnerpomper/PyDebug/tags</td></tr><tr><td></td><td>teams_url</td><td>https://api.github.com/repos/gardnerpomper/PyDebug/teams</td></tr><tr><td></td><td>trees_url</td><td>https://api.github.com/repos/gardnerpomper/PyDebug/git/trees{/sha}</td></tr><tr><td></td><td>updated_at</td><td>2014-11-18T17:32:33Z</td></tr><tr><td></td><td>url</td><td>https://api.github.com/repos/gardnerpomper/PyDebug</td></tr><tr><td></td><td>watchers</td><td>0</td></tr><tr><td></td><td>watchers_count</td><td>0</td></tr><tr><td>17</td><td>archive_url</td><td>https://api.github.com/repos/gardnerpomper/RepData_PeerAssessment1/{archive_format}{/ref}</td></tr><tr><td></td><td>assignees_url</td><td>https://api.github.com/repos/gardnerpomper/RepData_PeerAssessment1/assignees{/user}</td></tr><tr><td></td><td>blobs_url</td><td>https://api.github.com/repos/gardnerpomper/RepData_PeerAssessment1/git/blobs{/sha}</td></tr><tr><td></td><td>branches_url</td><td>https://api.github.com/repos/gardnerpomper/RepData_PeerAssessment1/branches{/branch}</td></tr><tr><td></td><td>clone_url</td><td>https://github.com/gardnerpomper/RepData_PeerAssessment1.git</td></tr><tr><td></td><td>collaborators_url</td><td>https://api.github.com/repos/gardnerpomper/RepData_PeerAssessment1/collaborators{/collaborator}</td></tr><tr><td></td><td>comments_url</td><td>https://api.github.com/repos/gardnerpomper/RepData_PeerAssessment1/comments{/number}</td></tr><tr><td></td><td>commits_url</td><td>https://api.github.com/repos/gardnerpomper/RepData_PeerAssessment1/commits{/sha}</td></tr><tr><td></td><td>compare_url</td><td>https://api.github.com/repos/gardnerpomper/RepData_PeerAssessment1/compare/{base}...{head}</td></tr><tr><td></td><td>contents_url</td><td>https://api.github.com/repos/gardnerpomper/RepData_PeerAssessment1/contents/{+path}</td></tr><tr><td></td><td>contributors_url</td><td>https://api.github.com/repos/gardnerpomper/RepData_PeerAssessment1/contributors</td></tr><tr><td></td><td>created_at</td><td>2014-05-18T13:55:24Z</td></tr><tr><td></td><td>default_branch</td><td>master</td></tr><tr><td></td><td>deployments_url</td><td>https://api.github.com/repos/gardnerpomper/RepData_PeerAssessment1/deployments</td></tr><tr><td></td><td>description</td><td>Peer Assessment 1 for Reproducible Research</td></tr><tr><td></td><td>downloads_url</td><td>https://api.github.com/repos/gardnerpomper/RepData_PeerAssessment1/downloads</td></tr><tr><td></td><td>events_url</td><td>https://api.github.com/repos/gardnerpomper/RepData_PeerAssessment1/events</td></tr><tr><td></td><td>fork</td><td>True</td></tr><tr><td></td><td>forks</td><td>0</td></tr><tr><td></td><td>forks_count</td><td>0</td></tr><tr><td></td><td>forks_url</td><td>https://api.github.com/repos/gardnerpomper/RepData_PeerAssessment1/forks</td></tr><tr><td></td><td>full_name</td><td>gardnerpomper/RepData_PeerAssessment1</td></tr><tr><td></td><td>git_commits_url</td><td>https://api.github.com/repos/gardnerpomper/RepData_PeerAssessment1/git/commits{/sha}</td></tr><tr><td></td><td>git_refs_url</td><td>https://api.github.com/repos/gardnerpomper/RepData_PeerAssessment1/git/refs{/sha}</td></tr><tr><td></td><td>git_tags_url</td><td>https://api.github.com/repos/gardnerpomper/RepData_PeerAssessment1/git/tags{/sha}</td></tr><tr><td></td><td>git_url</td><td>git://github.com/gardnerpomper/RepData_PeerAssessment1.git</td></tr><tr><td></td><td>has_downloads</td><td>True</td></tr><tr><td></td><td>has_issues</td><td>False</td></tr><tr><td></td><td>has_pages</td><td>False</td></tr><tr><td></td><td>has_wiki</td><td>True</td></tr><tr><td></td><td>homepage</td><td>None</td></tr><tr><td></td><td>hooks_url</td><td>https://api.github.com/repos/gardnerpomper/RepData_PeerAssessment1/hooks</td></tr><tr><td></td><td>html_url</td><td>https://github.com/gardnerpomper/RepData_PeerAssessment1</td></tr><tr><td></td><td>id</td><td>19911664</td></tr><tr><td></td><td>issue_comment_url</td><td>https://api.github.com/repos/gardnerpomper/RepData_PeerAssessment1/issues/comments{/number}</td></tr><tr><td></td><td>issue_events_url</td><td>https://api.github.com/repos/gardnerpomper/RepData_PeerAssessment1/issues/events{/number}</td></tr><tr><td></td><td>issues_url</td><td>https://api.github.com/repos/gardnerpomper/RepData_PeerAssessment1/issues{/number}</td></tr><tr><td></td><td>keys_url</td><td>https://api.github.com/repos/gardnerpomper/RepData_PeerAssessment1/keys{/key_id}</td></tr><tr><td></td><td>labels_url</td><td>https://api.github.com/repos/gardnerpomper/RepData_PeerAssessment1/labels{/name}</td></tr><tr><td></td><td>language</td><td>None</td></tr><tr><td></td><td>languages_url</td><td>https://api.github.com/repos/gardnerpomper/RepData_PeerAssessment1/languages</td></tr><tr><td></td><td>merges_url</td><td>https://api.github.com/repos/gardnerpomper/RepData_PeerAssessment1/merges</td></tr><tr><td></td><td>milestones_url</td><td>https://api.github.com/repos/gardnerpomper/RepData_PeerAssessment1/milestones{/number}</td></tr><tr><td></td><td>mirror_url</td><td>None</td></tr><tr><td></td><td>name</td><td>RepData_PeerAssessment1</td></tr><tr><td></td><td>notifications_url</td><td>https://api.github.com/repos/gardnerpomper/RepData_PeerAssessment1/notifications{?since,all,participating}</td></tr><tr><td></td><td>open_issues</td><td>0</td></tr><tr><td></td><td>open_issues_count</td><td>0</td></tr><tr><td></td><td>owner</td><td>{'id': 3866293, 'type': 'User', 'gravatar_id': '', 'avatar_url': 'https://avatars.githubusercontent.com/u/3866293?v=3', 'starred_url': 'https://api.github.com/users/gardnerpomper/starred{/owner}{/repo}', 'html_url': 'https://github.com/gardnerpomper', 'received_events_url': 'https://api.github.com/users/gardnerpomper/received_events', 'url': 'https://api.github.com/users/gardnerpomper', 'followers_url': 'https://api.github.com/users/gardnerpomper/followers', 'events_url': 'https://api.github.com/users/gardnerpomper/events{/privacy}', 'organizations_url': 'https://api.github.com/users/gardnerpomper/orgs', 'site_admin': False, 'repos_url': 'https://api.github.com/users/gardnerpomper/repos', 'login': 'gardnerpomper', 'gists_url': 'https://api.github.com/users/gardnerpomper/gists{/gist_id}', 'following_url': 'https://api.github.com/users/gardnerpomper/following{/other_user}', 'subscriptions_url': 'https://api.github.com/users/gardnerpomper/subscriptions'}</td></tr><tr><td></td><td>private</td><td>False</td></tr><tr><td></td><td>pulls_url</td><td>https://api.github.com/repos/gardnerpomper/RepData_PeerAssessment1/pulls{/number}</td></tr><tr><td></td><td>pushed_at</td><td>2014-05-18T21:10:40Z</td></tr><tr><td></td><td>releases_url</td><td>https://api.github.com/repos/gardnerpomper/RepData_PeerAssessment1/releases{/id}</td></tr><tr><td></td><td>size</td><td>765</td></tr><tr><td></td><td>ssh_url</td><td>git@github.com:gardnerpomper/RepData_PeerAssessment1.git</td></tr><tr><td></td><td>stargazers_count</td><td>0</td></tr><tr><td></td><td>stargazers_url</td><td>https://api.github.com/repos/gardnerpomper/RepData_PeerAssessment1/stargazers</td></tr><tr><td></td><td>statuses_url</td><td>https://api.github.com/repos/gardnerpomper/RepData_PeerAssessment1/statuses/{sha}</td></tr><tr><td></td><td>subscribers_url</td><td>https://api.github.com/repos/gardnerpomper/RepData_PeerAssessment1/subscribers</td></tr><tr><td></td><td>subscription_url</td><td>https://api.github.com/repos/gardnerpomper/RepData_PeerAssessment1/subscription</td></tr><tr><td></td><td>svn_url</td><td>https://github.com/gardnerpomper/RepData_PeerAssessment1</td></tr><tr><td></td><td>tags_url</td><td>https://api.github.com/repos/gardnerpomper/RepData_PeerAssessment1/tags</td></tr><tr><td></td><td>teams_url</td><td>https://api.github.com/repos/gardnerpomper/RepData_PeerAssessment1/teams</td></tr><tr><td></td><td>trees_url</td><td>https://api.github.com/repos/gardnerpomper/RepData_PeerAssessment1/git/trees{/sha}</td></tr><tr><td></td><td>updated_at</td><td>2014-05-18T21:10:41Z</td></tr><tr><td></td><td>url</td><td>https://api.github.com/repos/gardnerpomper/RepData_PeerAssessment1</td></tr><tr><td></td><td>watchers</td><td>0</td></tr><tr><td></td><td>watchers_count</td><td>0</td></tr><tr><td>18</td><td>archive_url</td><td>https://api.github.com/repos/gardnerpomper/Spoon-Knife/{archive_format}{/ref}</td></tr><tr><td></td><td>assignees_url</td><td>https://api.github.com/repos/gardnerpomper/Spoon-Knife/assignees{/user}</td></tr><tr><td></td><td>blobs_url</td><td>https://api.github.com/repos/gardnerpomper/Spoon-Knife/git/blobs{/sha}</td></tr><tr><td></td><td>branches_url</td><td>https://api.github.com/repos/gardnerpomper/Spoon-Knife/branches{/branch}</td></tr><tr><td></td><td>clone_url</td><td>https://github.com/gardnerpomper/Spoon-Knife.git</td></tr><tr><td></td><td>collaborators_url</td><td>https://api.github.com/repos/gardnerpomper/Spoon-Knife/collaborators{/collaborator}</td></tr><tr><td></td><td>comments_url</td><td>https://api.github.com/repos/gardnerpomper/Spoon-Knife/comments{/number}</td></tr><tr><td></td><td>commits_url</td><td>https://api.github.com/repos/gardnerpomper/Spoon-Knife/commits{/sha}</td></tr><tr><td></td><td>compare_url</td><td>https://api.github.com/repos/gardnerpomper/Spoon-Knife/compare/{base}...{head}</td></tr><tr><td></td><td>contents_url</td><td>https://api.github.com/repos/gardnerpomper/Spoon-Knife/contents/{+path}</td></tr><tr><td></td><td>contributors_url</td><td>https://api.github.com/repos/gardnerpomper/Spoon-Knife/contributors</td></tr><tr><td></td><td>created_at</td><td>2014-04-11T12:36:17Z</td></tr><tr><td></td><td>default_branch</td><td>master</td></tr><tr><td></td><td>deployments_url</td><td>https://api.github.com/repos/gardnerpomper/Spoon-Knife/deployments</td></tr><tr><td></td><td>description</td><td>This repo is for demonstration purposes only.</td></tr><tr><td></td><td>downloads_url</td><td>https://api.github.com/repos/gardnerpomper/Spoon-Knife/downloads</td></tr><tr><td></td><td>events_url</td><td>https://api.github.com/repos/gardnerpomper/Spoon-Knife/events</td></tr><tr><td></td><td>fork</td><td>True</td></tr><tr><td></td><td>forks</td><td>0</td></tr><tr><td></td><td>forks_count</td><td>0</td></tr><tr><td></td><td>forks_url</td><td>https://api.github.com/repos/gardnerpomper/Spoon-Knife/forks</td></tr><tr><td></td><td>full_name</td><td>gardnerpomper/Spoon-Knife</td></tr><tr><td></td><td>git_commits_url</td><td>https://api.github.com/repos/gardnerpomper/Spoon-Knife/git/commits{/sha}</td></tr><tr><td></td><td>git_refs_url</td><td>https://api.github.com/repos/gardnerpomper/Spoon-Knife/git/refs{/sha}</td></tr><tr><td></td><td>git_tags_url</td><td>https://api.github.com/repos/gardnerpomper/Spoon-Knife/git/tags{/sha}</td></tr><tr><td></td><td>git_url</td><td>git://github.com/gardnerpomper/Spoon-Knife.git</td></tr><tr><td></td><td>has_downloads</td><td>True</td></tr><tr><td></td><td>has_issues</td><td>False</td></tr><tr><td></td><td>has_pages</td><td>False</td></tr><tr><td></td><td>has_wiki</td><td>False</td></tr><tr><td></td><td>homepage</td><td></td></tr><tr><td></td><td>hooks_url</td><td>https://api.github.com/repos/gardnerpomper/Spoon-Knife/hooks</td></tr><tr><td></td><td>html_url</td><td>https://github.com/gardnerpomper/Spoon-Knife</td></tr><tr><td></td><td>id</td><td>18673652</td></tr><tr><td></td><td>issue_comment_url</td><td>https://api.github.com/repos/gardnerpomper/Spoon-Knife/issues/comments{/number}</td></tr><tr><td></td><td>issue_events_url</td><td>https://api.github.com/repos/gardnerpomper/Spoon-Knife/issues/events{/number}</td></tr><tr><td></td><td>issues_url</td><td>https://api.github.com/repos/gardnerpomper/Spoon-Knife/issues{/number}</td></tr><tr><td></td><td>keys_url</td><td>https://api.github.com/repos/gardnerpomper/Spoon-Knife/keys{/key_id}</td></tr><tr><td></td><td>labels_url</td><td>https://api.github.com/repos/gardnerpomper/Spoon-Knife/labels{/name}</td></tr><tr><td></td><td>language</td><td>CSS</td></tr><tr><td></td><td>languages_url</td><td>https://api.github.com/repos/gardnerpomper/Spoon-Knife/languages</td></tr><tr><td></td><td>merges_url</td><td>https://api.github.com/repos/gardnerpomper/Spoon-Knife/merges</td></tr><tr><td></td><td>milestones_url</td><td>https://api.github.com/repos/gardnerpomper/Spoon-Knife/milestones{/number}</td></tr><tr><td></td><td>mirror_url</td><td>None</td></tr><tr><td></td><td>name</td><td>Spoon-Knife</td></tr><tr><td></td><td>notifications_url</td><td>https://api.github.com/repos/gardnerpomper/Spoon-Knife/notifications{?since,all,participating}</td></tr><tr><td></td><td>open_issues</td><td>0</td></tr><tr><td></td><td>open_issues_count</td><td>0</td></tr><tr><td></td><td>owner</td><td>{'id': 3866293, 'type': 'User', 'gravatar_id': '', 'avatar_url': 'https://avatars.githubusercontent.com/u/3866293?v=3', 'starred_url': 'https://api.github.com/users/gardnerpomper/starred{/owner}{/repo}', 'html_url': 'https://github.com/gardnerpomper', 'received_events_url': 'https://api.github.com/users/gardnerpomper/received_events', 'url': 'https://api.github.com/users/gardnerpomper', 'followers_url': 'https://api.github.com/users/gardnerpomper/followers', 'events_url': 'https://api.github.com/users/gardnerpomper/events{/privacy}', 'organizations_url': 'https://api.github.com/users/gardnerpomper/orgs', 'site_admin': False, 'repos_url': 'https://api.github.com/users/gardnerpomper/repos', 'login': 'gardnerpomper', 'gists_url': 'https://api.github.com/users/gardnerpomper/gists{/gist_id}', 'following_url': 'https://api.github.com/users/gardnerpomper/following{/other_user}', 'subscriptions_url': 'https://api.github.com/users/gardnerpomper/subscriptions'}</td></tr><tr><td></td><td>private</td><td>False</td></tr><tr><td></td><td>pulls_url</td><td>https://api.github.com/repos/gardnerpomper/Spoon-Knife/pulls{/number}</td></tr><tr><td></td><td>pushed_at</td><td>2014-02-12T23:24:46Z</td></tr><tr><td></td><td>releases_url</td><td>https://api.github.com/repos/gardnerpomper/Spoon-Knife/releases{/id}</td></tr><tr><td></td><td>size</td><td>7105</td></tr><tr><td></td><td>ssh_url</td><td>git@github.com:gardnerpomper/Spoon-Knife.git</td></tr><tr><td></td><td>stargazers_count</td><td>0</td></tr><tr><td></td><td>stargazers_url</td><td>https://api.github.com/repos/gardnerpomper/Spoon-Knife/stargazers</td></tr><tr><td></td><td>statuses_url</td><td>https://api.github.com/repos/gardnerpomper/Spoon-Knife/statuses/{sha}</td></tr><tr><td></td><td>subscribers_url</td><td>https://api.github.com/repos/gardnerpomper/Spoon-Knife/subscribers</td></tr><tr><td></td><td>subscription_url</td><td>https://api.github.com/repos/gardnerpomper/Spoon-Knife/subscription</td></tr><tr><td></td><td>svn_url</td><td>https://github.com/gardnerpomper/Spoon-Knife</td></tr><tr><td></td><td>tags_url</td><td>https://api.github.com/repos/gardnerpomper/Spoon-Knife/tags</td></tr><tr><td></td><td>teams_url</td><td>https://api.github.com/repos/gardnerpomper/Spoon-Knife/teams</td></tr><tr><td></td><td>trees_url</td><td>https://api.github.com/repos/gardnerpomper/Spoon-Knife/git/trees{/sha}</td></tr><tr><td></td><td>updated_at</td><td>2014-04-11T12:37:01Z</td></tr><tr><td></td><td>url</td><td>https://api.github.com/repos/gardnerpomper/Spoon-Knife</td></tr><tr><td></td><td>watchers</td><td>0</td></tr><tr><td></td><td>watchers_count</td><td>0</td></tr><tr><td>19</td><td>archive_url</td><td>https://api.github.com/repos/gardnerpomper/testDeck/{archive_format}{/ref}</td></tr><tr><td></td><td>assignees_url</td><td>https://api.github.com/repos/gardnerpomper/testDeck/assignees{/user}</td></tr><tr><td></td><td>blobs_url</td><td>https://api.github.com/repos/gardnerpomper/testDeck/git/blobs{/sha}</td></tr><tr><td></td><td>branches_url</td><td>https://api.github.com/repos/gardnerpomper/testDeck/branches{/branch}</td></tr><tr><td></td><td>clone_url</td><td>https://github.com/gardnerpomper/testDeck.git</td></tr><tr><td></td><td>collaborators_url</td><td>https://api.github.com/repos/gardnerpomper/testDeck/collaborators{/collaborator}</td></tr><tr><td></td><td>comments_url</td><td>https://api.github.com/repos/gardnerpomper/testDeck/comments{/number}</td></tr><tr><td></td><td>commits_url</td><td>https://api.github.com/repos/gardnerpomper/testDeck/commits{/sha}</td></tr><tr><td></td><td>compare_url</td><td>https://api.github.com/repos/gardnerpomper/testDeck/compare/{base}...{head}</td></tr><tr><td></td><td>contents_url</td><td>https://api.github.com/repos/gardnerpomper/testDeck/contents/{+path}</td></tr><tr><td></td><td>contributors_url</td><td>https://api.github.com/repos/gardnerpomper/testDeck/contributors</td></tr><tr><td></td><td>created_at</td><td>2014-06-21T15:54:34Z</td></tr><tr><td></td><td>default_branch</td><td>gh-pages</td></tr><tr><td></td><td>deployments_url</td><td>https://api.github.com/repos/gardnerpomper/testDeck/deployments</td></tr><tr><td></td><td>description</td><td>test slide deck</td></tr><tr><td></td><td>downloads_url</td><td>https://api.github.com/repos/gardnerpomper/testDeck/downloads</td></tr><tr><td></td><td>events_url</td><td>https://api.github.com/repos/gardnerpomper/testDeck/events</td></tr><tr><td></td><td>fork</td><td>True</td></tr><tr><td></td><td>forks</td><td>0</td></tr><tr><td></td><td>forks_count</td><td>0</td></tr><tr><td></td><td>forks_url</td><td>https://api.github.com/repos/gardnerpomper/testDeck/forks</td></tr><tr><td></td><td>full_name</td><td>gardnerpomper/testDeck</td></tr><tr><td></td><td>git_commits_url</td><td>https://api.github.com/repos/gardnerpomper/testDeck/git/commits{/sha}</td></tr><tr><td></td><td>git_refs_url</td><td>https://api.github.com/repos/gardnerpomper/testDeck/git/refs{/sha}</td></tr><tr><td></td><td>git_tags_url</td><td>https://api.github.com/repos/gardnerpomper/testDeck/git/tags{/sha}</td></tr><tr><td></td><td>git_url</td><td>git://github.com/gardnerpomper/testDeck.git</td></tr><tr><td></td><td>has_downloads</td><td>True</td></tr><tr><td></td><td>has_issues</td><td>False</td></tr><tr><td></td><td>has_pages</td><td>True</td></tr><tr><td></td><td>has_wiki</td><td>True</td></tr><tr><td></td><td>homepage</td><td>None</td></tr><tr><td></td><td>hooks_url</td><td>https://api.github.com/repos/gardnerpomper/testDeck/hooks</td></tr><tr><td></td><td>html_url</td><td>https://github.com/gardnerpomper/testDeck</td></tr><tr><td></td><td>id</td><td>21072292</td></tr><tr><td></td><td>issue_comment_url</td><td>https://api.github.com/repos/gardnerpomper/testDeck/issues/comments{/number}</td></tr><tr><td></td><td>issue_events_url</td><td>https://api.github.com/repos/gardnerpomper/testDeck/issues/events{/number}</td></tr><tr><td></td><td>issues_url</td><td>https://api.github.com/repos/gardnerpomper/testDeck/issues{/number}</td></tr><tr><td></td><td>keys_url</td><td>https://api.github.com/repos/gardnerpomper/testDeck/keys{/key_id}</td></tr><tr><td></td><td>labels_url</td><td>https://api.github.com/repos/gardnerpomper/testDeck/labels{/name}</td></tr><tr><td></td><td>language</td><td>CSS</td></tr><tr><td></td><td>languages_url</td><td>https://api.github.com/repos/gardnerpomper/testDeck/languages</td></tr><tr><td></td><td>merges_url</td><td>https://api.github.com/repos/gardnerpomper/testDeck/merges</td></tr><tr><td></td><td>milestones_url</td><td>https://api.github.com/repos/gardnerpomper/testDeck/milestones{/number}</td></tr><tr><td></td><td>mirror_url</td><td>None</td></tr><tr><td></td><td>name</td><td>testDeck</td></tr><tr><td></td><td>notifications_url</td><td>https://api.github.com/repos/gardnerpomper/testDeck/notifications{?since,all,participating}</td></tr><tr><td></td><td>open_issues</td><td>0</td></tr><tr><td></td><td>open_issues_count</td><td>0</td></tr><tr><td></td><td>owner</td><td>{'id': 3866293, 'type': 'User', 'gravatar_id': '', 'avatar_url': 'https://avatars.githubusercontent.com/u/3866293?v=3', 'starred_url': 'https://api.github.com/users/gardnerpomper/starred{/owner}{/repo}', 'html_url': 'https://github.com/gardnerpomper', 'received_events_url': 'https://api.github.com/users/gardnerpomper/received_events', 'url': 'https://api.github.com/users/gardnerpomper', 'followers_url': 'https://api.github.com/users/gardnerpomper/followers', 'events_url': 'https://api.github.com/users/gardnerpomper/events{/privacy}', 'organizations_url': 'https://api.github.com/users/gardnerpomper/orgs', 'site_admin': False, 'repos_url': 'https://api.github.com/users/gardnerpomper/repos', 'login': 'gardnerpomper', 'gists_url': 'https://api.github.com/users/gardnerpomper/gists{/gist_id}', 'following_url': 'https://api.github.com/users/gardnerpomper/following{/other_user}', 'subscriptions_url': 'https://api.github.com/users/gardnerpomper/subscriptions'}</td></tr><tr><td></td><td>private</td><td>False</td></tr><tr><td></td><td>pulls_url</td><td>https://api.github.com/repos/gardnerpomper/testDeck/pulls{/number}</td></tr><tr><td></td><td>pushed_at</td><td>2014-06-21T17:48:14Z</td></tr><tr><td></td><td>releases_url</td><td>https://api.github.com/repos/gardnerpomper/testDeck/releases{/id}</td></tr><tr><td></td><td>size</td><td>279</td></tr><tr><td></td><td>ssh_url</td><td>git@github.com:gardnerpomper/testDeck.git</td></tr><tr><td></td><td>stargazers_count</td><td>0</td></tr><tr><td></td><td>stargazers_url</td><td>https://api.github.com/repos/gardnerpomper/testDeck/stargazers</td></tr><tr><td></td><td>statuses_url</td><td>https://api.github.com/repos/gardnerpomper/testDeck/statuses/{sha}</td></tr><tr><td></td><td>subscribers_url</td><td>https://api.github.com/repos/gardnerpomper/testDeck/subscribers</td></tr><tr><td></td><td>subscription_url</td><td>https://api.github.com/repos/gardnerpomper/testDeck/subscription</td></tr><tr><td></td><td>svn_url</td><td>https://github.com/gardnerpomper/testDeck</td></tr><tr><td></td><td>tags_url</td><td>https://api.github.com/repos/gardnerpomper/testDeck/tags</td></tr><tr><td></td><td>teams_url</td><td>https://api.github.com/repos/gardnerpomper/testDeck/teams</td></tr><tr><td></td><td>trees_url</td><td>https://api.github.com/repos/gardnerpomper/testDeck/git/trees{/sha}</td></tr><tr><td></td><td>updated_at</td><td>2014-06-21T17:48:14Z</td></tr><tr><td></td><td>url</td><td>https://api.github.com/repos/gardnerpomper/testDeck</td></tr><tr><td></td><td>watchers</td><td>0</td></tr><tr><td></td><td>watchers_count</td><td>0</td></tr></table>"
      ],
      "text/plain": [
       "<__main__.T at 0x10a796668>"
      ]
     },
     "execution_count": 300,
     "metadata": {},
     "output_type": "execute_result"
    }
   ],
   "source": [
    "myT"
   ]
  },
  {
   "cell_type": "markdown",
   "metadata": {},
   "source": [
    "Improved date parsing\n",
    "---------"
   ]
  },
  {
   "cell_type": "code",
   "execution_count": 308,
   "metadata": {
    "collapsed": false
   },
   "outputs": [
    {
     "data": {
      "text/plain": [
       "datetime.datetime(2016, 7, 27, 15, 30, 23, 540510)"
      ]
     },
     "execution_count": 308,
     "metadata": {},
     "output_type": "execute_result"
    }
   ],
   "source": [
    "import datetime as dt\n",
    "dt.datetime.today()"
   ]
  },
  {
   "cell_type": "code",
   "execution_count": 302,
   "metadata": {
    "collapsed": false
   },
   "outputs": [
    {
     "data": {
      "text/plain": [
       "datetime.datetime(1999, 5, 11, 0, 0)"
      ]
     },
     "execution_count": 302,
     "metadata": {},
     "output_type": "execute_result"
    }
   ],
   "source": [
    "from dateutil import parser\n",
    "parser.parse('may 11th, 1999')"
   ]
  },
  {
   "cell_type": "code",
   "execution_count": 307,
   "metadata": {
    "collapsed": false
   },
   "outputs": [
    {
     "data": {
      "text/plain": [
       "datetime.datetime(2015, 7, 1, 3, 0)"
      ]
     },
     "execution_count": 307,
     "metadata": {},
     "output_type": "execute_result"
    }
   ],
   "source": [
    "# format from amtrak-data.txt is one of the few formats\n",
    "# I have tried that fails with dateutil. Example:\n",
    "# 07/01/2015 3:00 AM (We)\t3:00AM\n",
    "# code that works for above format\n",
    "# datetime.datetime.strptime(departure[0][:-5],'%m/%d/%Y %I:%M %p')\n",
    "#\n",
    "parser.parse('07/01/2015 3:00 AM 3:00AM')"
   ]
  },
  {
   "cell_type": "markdown",
   "metadata": {},
   "source": [
    "The 'correct' way to do case statements in python\n",
    "--------\n",
    "NOTE: this is rarely done in practice\n"
   ]
  },
  {
   "cell_type": "code",
   "execution_count": 245,
   "metadata": {
    "collapsed": false
   },
   "outputs": [],
   "source": [
    "def one(x):\n",
    "    print ('one: %s'%x)\n",
    "    \n",
    "def two(x):\n",
    "    print ('two {0}'.format(x))\n",
    "    \n",
    "def nope(x):\n",
    "    print ('nope:{0}'.format(x))\n",
    "\n",
    "caseD = {0:one, 1:two, 2:two}\n",
    "\n",
    "def case(val):\n",
    "    caseD.get(val,nope)(val)"
   ]
  },
  {
   "cell_type": "markdown",
   "metadata": {},
   "source": [
    "Magics that are available in the python\n",
    "-------"
   ]
  },
  {
   "cell_type": "code",
   "execution_count": 311,
   "metadata": {
    "collapsed": false
   },
   "outputs": [
    {
     "data": {
      "application/json": {
       "cell": {
        "!": "OSMagics",
        "HTML": "Other",
        "SVG": "Other",
        "bash": "Other",
        "capture": "ExecutionMagics",
        "debug": "ExecutionMagics",
        "file": "Other",
        "html": "DisplayMagics",
        "javascript": "DisplayMagics",
        "latex": "DisplayMagics",
        "perl": "Other",
        "prun": "ExecutionMagics",
        "pypy": "Other",
        "python": "Other",
        "python2": "Other",
        "python3": "Other",
        "ruby": "Other",
        "script": "ScriptMagics",
        "sh": "Other",
        "svg": "DisplayMagics",
        "sx": "OSMagics",
        "system": "OSMagics",
        "time": "ExecutionMagics",
        "timeit": "ExecutionMagics",
        "writefile": "OSMagics"
       },
       "line": {
        "alias": "OSMagics",
        "alias_magic": "BasicMagics",
        "autocall": "AutoMagics",
        "automagic": "AutoMagics",
        "autosave": "KernelMagics",
        "bookmark": "OSMagics",
        "cat": "Other",
        "cd": "OSMagics",
        "clear": "KernelMagics",
        "colors": "BasicMagics",
        "config": "ConfigMagics",
        "connect_info": "KernelMagics",
        "cp": "Other",
        "debug": "ExecutionMagics",
        "dhist": "OSMagics",
        "dirs": "OSMagics",
        "doctest_mode": "BasicMagics",
        "ed": "Other",
        "edit": "KernelMagics",
        "env": "OSMagics",
        "gui": "BasicMagics",
        "hist": "Other",
        "history": "HistoryMagics",
        "install_default_config": "DeprecatedMagics",
        "install_ext": "ExtensionMagics",
        "install_profiles": "DeprecatedMagics",
        "killbgscripts": "ScriptMagics",
        "ldir": "Other",
        "less": "KernelMagics",
        "lf": "Other",
        "lk": "Other",
        "ll": "Other",
        "load": "CodeMagics",
        "load_ext": "ExtensionMagics",
        "loadpy": "CodeMagics",
        "logoff": "LoggingMagics",
        "logon": "LoggingMagics",
        "logstart": "LoggingMagics",
        "logstate": "LoggingMagics",
        "logstop": "LoggingMagics",
        "ls": "Other",
        "lsmagic": "BasicMagics",
        "lx": "Other",
        "macro": "ExecutionMagics",
        "magic": "BasicMagics",
        "man": "KernelMagics",
        "matplotlib": "PylabMagics",
        "mkdir": "Other",
        "more": "KernelMagics",
        "mv": "Other",
        "notebook": "BasicMagics",
        "page": "BasicMagics",
        "pastebin": "CodeMagics",
        "pdb": "ExecutionMagics",
        "pdef": "NamespaceMagics",
        "pdoc": "NamespaceMagics",
        "pfile": "NamespaceMagics",
        "pinfo": "NamespaceMagics",
        "pinfo2": "NamespaceMagics",
        "popd": "OSMagics",
        "pprint": "BasicMagics",
        "precision": "BasicMagics",
        "profile": "BasicMagics",
        "prun": "ExecutionMagics",
        "psearch": "NamespaceMagics",
        "psource": "NamespaceMagics",
        "pushd": "OSMagics",
        "pwd": "OSMagics",
        "pycat": "OSMagics",
        "pylab": "PylabMagics",
        "qtconsole": "KernelMagics",
        "quickref": "BasicMagics",
        "recall": "HistoryMagics",
        "rehashx": "OSMagics",
        "reload_ext": "ExtensionMagics",
        "rep": "Other",
        "rerun": "HistoryMagics",
        "reset": "NamespaceMagics",
        "reset_selective": "NamespaceMagics",
        "rm": "Other",
        "rmdir": "Other",
        "run": "ExecutionMagics",
        "save": "CodeMagics",
        "sc": "OSMagics",
        "set_env": "OSMagics",
        "store": "StoreMagics",
        "sx": "OSMagics",
        "system": "OSMagics",
        "tb": "ExecutionMagics",
        "time": "ExecutionMagics",
        "timeit": "ExecutionMagics",
        "unalias": "OSMagics",
        "unload_ext": "ExtensionMagics",
        "who": "NamespaceMagics",
        "who_ls": "NamespaceMagics",
        "whos": "NamespaceMagics",
        "xdel": "NamespaceMagics",
        "xmode": "BasicMagics"
       }
      },
      "text/plain": [
       "Available line magics:\n",
       "%alias  %alias_magic  %autocall  %automagic  %autosave  %bookmark  %cat  %cd  %clear  %colors  %config  %connect_info  %cp  %debug  %dhist  %dirs  %doctest_mode  %ed  %edit  %env  %gui  %hist  %history  %install_default_config  %install_ext  %install_profiles  %killbgscripts  %ldir  %less  %lf  %lk  %ll  %load  %load_ext  %loadpy  %logoff  %logon  %logstart  %logstate  %logstop  %ls  %lsmagic  %lx  %macro  %magic  %man  %matplotlib  %mkdir  %more  %mv  %notebook  %page  %pastebin  %pdb  %pdef  %pdoc  %pfile  %pinfo  %pinfo2  %popd  %pprint  %precision  %profile  %prun  %psearch  %psource  %pushd  %pwd  %pycat  %pylab  %qtconsole  %quickref  %recall  %rehashx  %reload_ext  %rep  %rerun  %reset  %reset_selective  %rm  %rmdir  %run  %save  %sc  %set_env  %store  %sx  %system  %tb  %time  %timeit  %unalias  %unload_ext  %who  %who_ls  %whos  %xdel  %xmode\n",
       "\n",
       "Available cell magics:\n",
       "%%!  %%HTML  %%SVG  %%bash  %%capture  %%debug  %%file  %%html  %%javascript  %%latex  %%perl  %%prun  %%pypy  %%python  %%python2  %%python3  %%ruby  %%script  %%sh  %%svg  %%sx  %%system  %%time  %%timeit  %%writefile\n",
       "\n",
       "Automagic is ON, % prefix IS NOT needed for line magics."
      ]
     },
     "execution_count": 311,
     "metadata": {},
     "output_type": "execute_result"
    }
   ],
   "source": [
    "%lsmagic"
   ]
  },
  {
   "cell_type": "markdown",
   "metadata": {},
   "source": [
    "Spawning other programs\n",
    "-------"
   ]
  },
  {
   "cell_type": "code",
   "execution_count": 313,
   "metadata": {
    "collapsed": false
   },
   "outputs": [
    {
     "data": {
      "text/plain": [
       "0"
      ]
     },
     "execution_count": 313,
     "metadata": {},
     "output_type": "execute_result"
    }
   ],
   "source": [
    "import subprocess\n",
    "subprocess.call(['ls','-l'])"
   ]
  },
  {
   "cell_type": "code",
   "execution_count": 322,
   "metadata": {
    "collapsed": false
   },
   "outputs": [
    {
     "name": "stdout",
     "output_type": "stream",
     "text": [
      "total 2216\n",
      "-rw-r--r--  1 gardner  staff  180850 Jul 28 09:09 Extras.ipynb\n",
      "-rw-r--r--@ 1 gardner  staff  316584 Jul 26 12:37 LayoutV3.jpg\n",
      "-rw-r--r--  1 gardner  staff    7665 Jul 28 09:02 Missing.ipynb\n",
      "-rw-r--r--@ 1 gardner  staff    4622 Jul 28 09:02 Missing.py\n",
      "-rw-r--r--  1 gardner  staff      77 Jul 26 07:20 README.md\n",
      "-rwxr-xr-x@ 1 gardner  staff  515286 Jan  8  2016 Toyyot.jpg\n",
      "-rw-r--r--  1 gardner  staff   65359 Jul 28 08:56 Untitled.ipynb\n",
      "-rw-r--r--  1 gardner  staff     519 Jul 26 07:20 example1.py\n",
      "-rw-r--r--  1 gardner  staff    1457 Jul 26 07:20 find_missing.py\n",
      "-rw-r--r--  1 gardner  staff     120 Jul 28 07:41 missing.log\n",
      "-rw-r--r--  1 gardner  staff    4358 Jul 28 07:41 missing.out\n",
      "-rw-r--r--  1 gardner  staff     200 Jul 26 10:39 notes.txt\n",
      "-rw-r--r--  1 gardner  staff     689 Jul 26 07:20 showpython.py\n",
      "\n"
     ]
    }
   ],
   "source": [
    "ls_output = subprocess.check_output(['ls','-l'])\n",
    "print(str(ls_output,'utf-8'))"
   ]
  },
  {
   "cell_type": "code",
   "execution_count": null,
   "metadata": {
    "collapsed": true
   },
   "outputs": [],
   "source": []
  }
 ],
 "metadata": {
  "anaconda-cloud": {},
  "kernelspec": {
   "display_name": "Python [Root]",
   "language": "python",
   "name": "Python [Root]"
  },
  "language_info": {
   "codemirror_mode": {
    "name": "ipython",
    "version": 3
   },
   "file_extension": ".py",
   "mimetype": "text/x-python",
   "name": "python",
   "nbconvert_exporter": "python",
   "pygments_lexer": "ipython3",
   "version": "3.5.2"
  }
 },
 "nbformat": 4,
 "nbformat_minor": 0
}
