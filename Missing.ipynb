{
 "cells": [
  {
   "cell_type": "code",
   "execution_count": 112,
   "metadata": {
    "collapsed": true
   },
   "outputs": [],
   "source": [
    "import sys\n",
    "import csv\n",
    "import os.path\n",
    "import re\n",
    "from collections import defaultdict\n",
    "import logging"
   ]
  },
  {
   "cell_type": "code",
   "execution_count": 72,
   "metadata": {
    "collapsed": false
   },
   "outputs": [],
   "source": [
    "def loadSolarWinds(fp):\n",
    "    \"\"\"\n",
    "    load the SolarWinds dump, keyed by IP address\n",
    "    \"\"\"\n",
    "    solarD = {}\n",
    "    csvR = csv.DictReader(fp)\n",
    "    for ii,record in enumerate(csvR):\n",
    "        m = re.match('[A-Z]+_(?P<group>R|VR)',record['Node'])\n",
    "        if m == None: continue\n",
    "        record['group'] = m.groupdict()['group']\n",
    "        solarD[record['IP Address']] = record\n",
    "    return solarD\n"
   ]
  },
  {
   "cell_type": "code",
   "execution_count": 73,
   "metadata": {
    "collapsed": false
   },
   "outputs": [],
   "source": [
    "def loadStealthWatch(fp):\n",
    "    \"\"\"\n",
    "    load the distinct IP addresses from the StealthWatch dump\n",
    "    \"\"\"\n",
    "    stealthIPs = set()\n",
    "    csvR = csv.reader(fp)\n",
    "    for ii,record in enumerate(csvR):\n",
    "        if ii == 0: continue\n",
    "        stealthIPs.add(record[0])\n",
    "    return stealthIPs"
   ]
  },
  {
   "cell_type": "code",
   "execution_count": 74,
   "metadata": {
    "collapsed": true
   },
   "outputs": [],
   "source": [
    "def load(solarFname, stealthFname):\n",
    "    stealthIPs = set()\n",
    "    with open(stealthFname,'r') as fp:\n",
    "        stealthIPs = loadStealthWatch(fp)\n",
    "\n",
    "    solarD = {}\n",
    "    with open(solarFname,'r') as fp:\n",
    "        solarD = loadSolarWinds(fp)\n",
    "\n",
    "    return solarD, stealthIPs"
   ]
  },
  {
   "cell_type": "code",
   "execution_count": 75,
   "metadata": {
    "collapsed": true
   },
   "outputs": [],
   "source": [
    "def find_missing(solarD, stealthIPs):\n",
    "    \"\"\"\n",
    "    find the IPs that in solarWinds, but not stealthWatch\n",
    "    \"\"\"\n",
    "    solarIPs = set(solarD.keys())\n",
    "    missing = solarIPs - stealthIPs\n",
    "    return missing\n"
   ]
  },
  {
   "cell_type": "code",
   "execution_count": 76,
   "metadata": {
    "collapsed": true
   },
   "outputs": [],
   "source": [
    "def report(solarD,missing):\n",
    "    reportL = []\n",
    "    groupD = defaultdict(list)\n",
    "    for ip in missing:\n",
    "        solar = solarD[ip]\n",
    "        groupD[solar['group']].append(solar)\n",
    "    for group, groupL in sorted(groupD.items()):\n",
    "        reportL.append( '{0} is missing {1} entries in StealthWatch'.format(group,len(groupL)))\n",
    "        reportL.append('\\t' + '\\n\\t'.join(\n",
    "                ['{0}\\t{1}'.format(\n",
    "                        record['Node'],record['IP Address']\n",
    "                    ) for record in sorted(groupL,key=lambda rec:rec['Node'])]\n",
    "            ))\n",
    "    return reportL\n"
   ]
  },
  {
   "cell_type": "code",
   "execution_count": 125,
   "metadata": {
    "collapsed": false
   },
   "outputs": [],
   "source": [
    "def main(solarFname,stealthFname,fp):\n",
    "    solarD, stealthIPs = load(solarFname, stealthFname)\n",
    "    logging.info('%d distinct IPs in StealthWatch' % len(stealthIPs))\n",
    "    logging.info('%d SolarWinds records' % len(solarD.keys()))\n",
    "\n",
    "    missing = find_missing(solarD,stealthIPs)\n",
    "    logging.info( '%d IPs missing from StealthWatch' % len(missing))\n",
    "    fp.write( '%d IPs missing from StealthWatch\\n' % len(missing))\n",
    "\n",
    "    reportL = report(solarD,missing)\n",
    "    fp.write('\\n'.join(reportL)+'\\n')\n"
   ]
  },
  {
   "cell_type": "code",
   "execution_count": 126,
   "metadata": {
    "collapsed": true
   },
   "outputs": [],
   "source": [
    "def inJupyter():\n",
    "    \"\"\"\n",
    "    check to see if we are running in teh jupyter notebook or\n",
    "    from regular python\n",
    "    \"\"\"\n",
    "    try:\n",
    "        get_ipython()\n",
    "        in_notebook = True\n",
    "    except NameError as e:\n",
    "        in_notebook = False\n",
    "    return in_notebook"
   ]
  },
  {
   "cell_type": "code",
   "execution_count": 136,
   "metadata": {
    "collapsed": false
   },
   "outputs": [],
   "source": [
    "if __name__ == '__main__':\n",
    "    from argparse import ArgumentParser\n",
    "    import sys\n",
    "\n",
    "    parser = ArgumentParser(description='Find mismatches between SolarWinds and Stealth')\n",
    "    parser.add_argument('solarFname')\n",
    "    parser.add_argument('stealthFname')\n",
    "    parser.add_argument('-o','--output',action='store')\n",
    "    parser.add_argument('-d','--debug',action='store_true')\n",
    "    #\n",
    "    # ------ can't use actual command line if we are in Jupyter notebook\n",
    "    #\n",
    "    cmd_args = sys.argv\n",
    "    if inJupyter():\n",
    "        cmd_args = ['/Users/gardner/Downloads/Solar.csv'\n",
    "                    ,'/Users/gardner/Downloads/RCStealthWatchExport.csv'\n",
    "                    ,'-d'\n",
    "                    ,'-o', 'missing.out'\n",
    "                    ]\n",
    "    args = parser.parse_args(cmd_args)\n",
    "    #\n",
    "    # ----- configure based on command line args\n",
    "    #\n",
    "    level = logging.DEBUG if args.debug else logging.INFO\n",
    "    if inJupyter():\n",
    "        import importlib\n",
    "        importlib.reload(logging)\n",
    "    logging.basicConfig(filename='missing.log',level=level,filemode='w')\n",
    "\n",
    "    if args.output is None:\n",
    "        main(args.solarFname,args.stealthFname,sys.stdout)\n",
    "    else:\n",
    "        with open(args.output,'w') as fp:\n",
    "            main(args.solarFname,args.stealthFname,fp)\n"
   ]
  },
  {
   "cell_type": "code",
   "execution_count": null,
   "metadata": {
    "collapsed": true
   },
   "outputs": [],
   "source": []
  }
 ],
 "metadata": {
  "anaconda-cloud": {},
  "kernelspec": {
   "display_name": "Python [Root]",
   "language": "python",
   "name": "Python [Root]"
  },
  "language_info": {
   "codemirror_mode": {
    "name": "ipython",
    "version": 3
   },
   "file_extension": ".py",
   "mimetype": "text/x-python",
   "name": "python",
   "nbconvert_exporter": "python",
   "pygments_lexer": "ipython3",
   "version": "3.5.2"
  }
 },
 "nbformat": 4,
 "nbformat_minor": 0
}
