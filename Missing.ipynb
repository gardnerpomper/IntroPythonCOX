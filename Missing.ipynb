{
 "cells": [
  {
   "cell_type": "code",
   "execution_count": 71,
   "metadata": {
    "collapsed": true
   },
   "outputs": [],
   "source": [
    "import sys\n",
    "import csv\n",
    "import os.path\n",
    "import re\n",
    "from collections import defaultdict"
   ]
  },
  {
   "cell_type": "code",
   "execution_count": 72,
   "metadata": {
    "collapsed": false
   },
   "outputs": [],
   "source": [
    "def loadSolarWinds(fp):\n",
    "    \"\"\"\n",
    "    load the SolarWinds dump, keyed by IP address\n",
    "    \"\"\"\n",
    "    solarD = {}\n",
    "    csvR = csv.DictReader(fp)\n",
    "    for ii,record in enumerate(csvR):\n",
    "        m = re.match('[A-Z]+_(?P<group>R|VR)',record['Node'])\n",
    "        if m == None: continue\n",
    "        record['group'] = m.groupdict()['group']\n",
    "        solarD[record['IP Address']] = record\n",
    "    return solarD\n"
   ]
  },
  {
   "cell_type": "code",
   "execution_count": 73,
   "metadata": {
    "collapsed": false
   },
   "outputs": [],
   "source": [
    "def loadStealthWatch(fp):\n",
    "    \"\"\"\n",
    "    load the distinct IP addresses from the StealthWatch dump\n",
    "    \"\"\"\n",
    "    stealthIPs = set()\n",
    "    csvR = csv.reader(fp)\n",
    "    for ii,record in enumerate(csvR):\n",
    "        if ii == 0: continue\n",
    "        stealthIPs.add(record[0])\n",
    "    return stealthIPs"
   ]
  },
  {
   "cell_type": "code",
   "execution_count": 74,
   "metadata": {
    "collapsed": true
   },
   "outputs": [],
   "source": [
    "def load(solarFname, stealthFname):\n",
    "    stealthIPs = set()\n",
    "    with open(stealthFname,'r') as fp:\n",
    "        stealthIPs = loadStealthWatch(fp)\n",
    "\n",
    "    solarD = {}\n",
    "    with open(solarFname,'r') as fp:\n",
    "        solarD = loadSolarWinds(fp)\n",
    "\n",
    "    return solarD, stealthIPs"
   ]
  },
  {
   "cell_type": "code",
   "execution_count": 75,
   "metadata": {
    "collapsed": true
   },
   "outputs": [],
   "source": [
    "def find_missing(solarD, stealthIPs):\n",
    "    \"\"\"\n",
    "    find the IPs that in solarWinds, but not stealthWatch\n",
    "    \"\"\"\n",
    "    solarIPs = set(solarD.keys())\n",
    "    missing = solarIPs - stealthIPs\n",
    "    return missing\n"
   ]
  },
  {
   "cell_type": "code",
   "execution_count": 76,
   "metadata": {
    "collapsed": true
   },
   "outputs": [],
   "source": [
    "def report(solarD,missing):\n",
    "    reportL = []\n",
    "    groupD = defaultdict(list)\n",
    "    for ip in missing:\n",
    "        solar = solarD[ip]\n",
    "        groupD[solar['group']].append(solar)\n",
    "    for group, groupL in sorted(groupD.items()):\n",
    "        reportL.append( '{0} is missing {1} entries in StealthWatch'.format(group,len(groupL)))\n",
    "        reportL.append('\\t' + '\\n\\t'.join(\n",
    "                ['{0}\\t{1}'.format(\n",
    "                        record['Node'],record['IP Address']\n",
    "                    ) for record in sorted(groupL,key=lambda rec:rec['Node'])]\n",
    "            ))\n",
    "    return reportL\n"
   ]
  },
  {
   "cell_type": "code",
   "execution_count": 77,
   "metadata": {
    "collapsed": false
   },
   "outputs": [
    {
     "name": "stdout",
     "output_type": "stream",
     "text": [
      "153 distinct IPs in StealthWatch\n",
      "182 SolarWinds records\n",
      "118 IPs missing from StealthWatch\n",
      "R is missing 40 entries in StealthWatch\n",
      "\tAAA_R02.man.cox.com\t10.131.16.10\n",
      "\tALOH_R01.man.cox.com\t10.131.16.57\n",
      "\tBCAA_R02.man.cox.com\t10.105.64.146\n",
      "\tBELA_R01.man.cox.com\t10.140.0.1\n",
      "\tCADE_R02.man.cox.com\t10.105.64.186\n",
      "\tCADE_RSR01.man.cox.com\t10.135.8.1\n",
      "\tCLEV_R01.man.cox.com\t10.131.19.201\n",
      "\tDADE_R01.man.cox.com\t10.105.64.233\n",
      "\tDALA_R02.man.cox.com\t10.105.65.10\n",
      "\tDETA_R02.man.cox.com\t10.105.65.18\n",
      "\tEDMO_R01.man.cox.com\t10.105.67.65\n",
      "\tFAAO_R02.man.cox.com\t10.105.65.50\n",
      "\tGCAA_R02.man.cox.com\t10.105.65.74\n",
      "\tHAA_R01.man.cox.com\t10.131.1.154\n",
      "\tKEYA_R01.man.cox.com\t10.105.65.145\n",
      "\tKLOC_R01.man.cox.com\t10.105.67.57\n",
      "\tKLOD_R01.man.cox.com\t10.105.67.89\n",
      "\tLATL_R01.man.cox.com\t10.131.16.233\n",
      "\tLHST_R01.man.cox.com\t10.131.17.209\n",
      "\tLPHX_R01.man.cox.com\t10.131.19.209\n",
      "\tMAA_R02.man.cox.com\t10.105.65.186\n",
      "\tNAA_R01.man.cox.com\t10.105.66.17\n",
      "\tNADE_R02.man.cox.com\t10.105.66.26\n",
      "\tNASH_R02.man.cox.com\t10.105.66.42\n",
      "\tNGC_R01.man.cox.com\t10.131.19.241\n",
      "\tNGC_R02.man.cox.com\t10.131.19.242\n",
      "\tOAA_R02.man.cox.com\t10.105.66.82\n",
      "\tPCAA_R01.man.cox.com\t10.131.18.137\n",
      "\tPTAF_R01.man.cox.com\t10.105.67.73\n",
      "\tPXAA_R02.man.cox.com\t10.105.66.130\n",
      "\tPXAA_RSR01.man.cox.com\t10.135.255.40\n",
      "\tRAA_R02.man.cox.com\t10.105.66.114\n",
      "\tSAPL_R01.man.cox.com\t10.105.67.81\n",
      "\tSAPM_R01.man.cox.com\t10.131.18.217\n",
      "\tSAPT_R01.man.cox.com\t10.131.18.225\n",
      "\tSCAA_R02.man.cox.com\t10.105.66.154\n",
      "\tSONB_R01.man.cox.com\t10.105.67.97\n",
      "\tSVAA_R02.man.cox.com\t10.105.66.218\n",
      "\tSWFL_R01.man.cox.com\t10.131.19.81\n",
      "\tTBAA_R02.man.cox.com\t10.105.67.10\n",
      "VR is missing 78 entries in StealthWatch\n",
      "\tAAAI_VR01.man.cox.com\t10.105.64.43\n",
      "\tAAAW_VR01.man.cox.com\t10.105.64.91\n",
      "\tAAA_VR01.man.cox.com\t10.105.64.75\n",
      "\tALBA_VR01.man.cox.com\t10.105.64.99\n",
      "\tALOH_VR01.man.cox.com\t10.105.64.107\n",
      "\tAREN_VR01.man.cox.com\t10.105.64.51\n",
      "\tAYCA_VR01.man.cox.com\t10.105.64.115\n",
      "\tBAA_VR01.man.cox.com\t10.105.64.123\n",
      "\tBCAA_VR01.man.cox.com\t10.105.64.147\n",
      "\tBIGH_VR01.man.cox.com\t10.105.64.27\n",
      "\tBWAE_VR01.man.cox.com\t10.105.64.67\n",
      "\tCAAI_VR01.man.cox.com\t10.105.64.179\n",
      "\tCADE_VR01.man.cox.com\t10.105.64.187\n",
      "\tCFAA_VR01.man.cox.com\t10.105.64.203\n",
      "\tCINA_VR01.man.cox.com\t10.105.64.211\n",
      "\tCLEV_VR01.man.cox.com\t10.131.19.203\n",
      "\tDAAE_VR01.man.cox.com\t10.105.64.227\n",
      "\tDAA_VR01.man.cox.com\t10.105.64.219\n",
      "\tDADE_VR01.man.cox.com\t10.105.64.235\n",
      "\tDALA_VR01.man.cox.com\t10.105.65.11\n",
      "\tDETA_VR01.man.cox.com\t10.105.65.19\n",
      "\tDFWA_VR01.man.cox.com\t10.105.65.27\n",
      "\tFAAO_VR01.man.cox.com\t10.105.65.51\n",
      "\tFAA_VR01.man.cox.com\t10.105.65.35\n",
      "\tFADA_VR01.man.cox.com\t10.105.65.67\n",
      "\tGCAA_VR01.man.cox.com\t10.105.65.75\n",
      "\tHAA_VR01.man.cox.com\t10.105.65.83\n",
      "\tHATA_VR01.man.cox.com\t10.105.65.91\n",
      "\tHLFX_VR01.man.cox.com\t10.105.65.123\n",
      "\tINDY_VR01.man.cox.com\t10.105.65.131\n",
      "\tJAX_VR01.man.cox.com\t10.105.64.251\n",
      "\tKCAA_VR01.man.cox.com\t10.105.65.139\n",
      "\tKEYA_VR01.man.cox.com\t10.105.65.147\n",
      "\tKLOC_VR01.man.cox.com\t10.105.67.59\n",
      "\tKLOD_VR01.man.cox.com\t10.105.67.91\n",
      "\tLAA_VR01.man.cox.com\t10.105.65.155\n",
      "\tLMAA_VR01.man.cox.com\t10.105.65.163\n",
      "\tLOUA_VR01.man.cox.com\t10.105.65.179\n",
      "\tMAAI_VR01.man.cox.com\t10.105.65.195\n",
      "\tMAA_VR01.man.cox.com\t10.105.65.188\n",
      "\tMAA_VR02.man.cox.com\t10.105.65.189\n",
      "\tMISS_VR01.man.cox.com\t10.105.65.211\n",
      "\tMMAA_VR01.man.cox.com\t10.107.104.233\n",
      "\tMTRL_VR01.man.cox.com\t10.105.66.8\n",
      "\tNAA_VR01.man.cox.com\t10.105.66.19\n",
      "\tNADE_VR01.man.cox.com\t10.105.66.27\n",
      "\tNASH_VR01.man.cox.com\t10.105.66.43\n",
      "\tNOAA_VR01.man.cox.com\t10.105.66.51\n",
      "\tNSAA_VR01.man.cox.com\t10.105.66.59\n",
      "\tNVAA_VR01.man.cox.com\t10.105.66.67\n",
      "\tNWE_VR01.man.cox.com\t10.105.66.75\n",
      "\tOAA_VR01.man.cox.com\t10.105.66.83\n",
      "\tOMAA_VR01.man.cox.com\t10.105.66.91\n",
      "\tPAA_VR01.man.cox.com\t10.105.66.99\n",
      "\tPCAA_VR01.man.cox.com\t10.105.66.107\n",
      "\tPRAA_VR01.man.cox.com\t10.105.66.123\n",
      "\tPTAF_VR01.man.cox.com\t10.105.67.75\n",
      "\tPXAA_VR01.man.cox.com\t10.105.66.131\n",
      "\tRAA_VR01.man.cox.com\t10.105.66.115\n",
      "\tSAAA_VR01.man.cox.com\t10.105.66.147\n",
      "\tSAPL_VR01.man.cox.com\t10.105.67.83\n",
      "\tSAPM_VR01.man.cox.com\t10.105.67.107\n",
      "\tSAPT_VR01.man.cox.com\t10.105.67.115\n",
      "\tSCAA_VR01.man.cox.com\t10.105.66.155\n",
      "\tSDAA_VR01.man.cox.com\t10.105.64.35\n",
      "\tSKYA_VR01.man.cox.com\t10.105.66.179\n",
      "\tSLAA_VR01.man.cox.com\t10.105.66.187\n",
      "\tSONB_VR01.man.cox.com\t10.105.67.99\n",
      "\tSPAA_VR01.man.cox.com\t10.105.66.195\n",
      "\tSSAA_VR01.man.cox.com\t10.105.66.203\n",
      "\tSVAA_VR01.man.cox.com\t10.105.66.219\n",
      "\tSWFL_VR01.man.cox.com\t10.105.66.227\n",
      "\tTAA_VR01.man.cox.com\t10.105.66.243\n",
      "\tTBAA_VR01.man.cox.com\t10.105.67.11\n",
      "\tTCAA_VR01.man.cox.com\t10.105.67.27\n",
      "\tTHAA_VR01.man.cox.com\t10.105.64.11\n",
      "\tUAA_VR01.man.cox.com\t10.105.67.35\n",
      "\tWPBA_VR01.man.cox.com\t10.105.67.43\n"
     ]
    }
   ],
   "source": [
    "solarFname = '/Users/gardner/Downloads/Solar.csv'\n",
    "stealthFname = '/Users/gardner/Downloads/RCStealthWatchExport.csv'\n",
    "\n",
    "solarD, stealthIPs = load(solarFname, stealthFname)\n",
    "print ('%d distinct IPs in StealthWatch' % len(stealthIPs))\n",
    "print ('%d SolarWinds records' % len(solarD.keys()))\n",
    "\n",
    "missing = find_missing(solarD,stealthIPs)\n",
    "print( '%d IPs missing from StealthWatch' % len(missing))\n",
    "\n",
    "reportL = report(solarD,missing)\n",
    "print('\\n'.join(reportL))\n"
   ]
  },
  {
   "cell_type": "code",
   "execution_count": null,
   "metadata": {
    "collapsed": true
   },
   "outputs": [],
   "source": []
  }
 ],
 "metadata": {
  "anaconda-cloud": {},
  "kernelspec": {
   "display_name": "Python [Root]",
   "language": "python",
   "name": "Python [Root]"
  },
  "language_info": {
   "codemirror_mode": {
    "name": "ipython",
    "version": 3
   },
   "file_extension": ".py",
   "mimetype": "text/x-python",
   "name": "python",
   "nbconvert_exporter": "python",
   "pygments_lexer": "ipython3",
   "version": "3.5.2"
  }
 },
 "nbformat": 4,
 "nbformat_minor": 0
}
