{
 "cells": [
  {
   "cell_type": "code",
   "execution_count": 1,
   "metadata": {
    "collapsed": true
   },
   "outputs": [],
   "source": [
    "import sys\n",
    "import csv\n",
    "import os.path"
   ]
  },
  {
   "cell_type": "code",
   "execution_count": 2,
   "metadata": {
    "collapsed": true
   },
   "outputs": [],
   "source": [
    "def loadSolarWinds(fp):\n",
    "    \"\"\"\n",
    "    load the SolarWinds dump, keyed by IP address\n",
    "    \"\"\"\n",
    "    solarD = {}\n",
    "    csvR = csv.DictReader(fp)\n",
    "    for record in csvR:\n",
    "        solarD[record['Exporter']] = record\n",
    "    return solarD\n"
   ]
  },
  {
   "cell_type": "code",
   "execution_count": 3,
   "metadata": {
    "collapsed": true
   },
   "outputs": [],
   "source": [
    "def loadStealthWatch(fp):\n",
    "    \"\"\"\n",
    "    load the distinct IP addresses from the StealthWatch dump\n",
    "    \"\"\"\n",
    "    stealthIPs = set()\n",
    "    csvR = csv.reader(fp)\n",
    "    for ii,record in enumerate(csvR):\n",
    "        if ii == 0: continue\n",
    "        stealthIPs.add(record[0])\n",
    "    return stealthIPs"
   ]
  },
  {
   "cell_type": "code",
   "execution_count": 4,
   "metadata": {
    "collapsed": true
   },
   "outputs": [],
   "source": [
    "def find_missing(solarWindsFname, stealthWatchFname):\n",
    "    \"\"\"\n",
    "    find the IPs that in solarWinds, but not stealthWatch\n",
    "    \"\"\"\n",
    "    stealthIPs = set()\n",
    "    with open('/Users/gardner/Downloads/RCStealthWatchExport.csv','r') as fp:\n",
    "        stealthIPs = loadStealthWatch(fp)\n",
    "    print ('%d distinct IPs in StealthWatch' % len(stealthIPs))\n",
    "    \"\"\"\n",
    "    solarD = {}\n",
    "    with open('/Users/gardner/Downloads/RCSolarWindsExport.csv','r') as fp:\n",
    "        solarD = loadSolarWinds(fp)\n",
    "    print ('%d SolarWinds records' % len(solarD.keys()))\n",
    "\n",
    "    solarIPs = set(solarD.keys())\n",
    "    missing = solarIPs - steathIPs\n",
    "    print( '%d IPs missing from StealthWatch' % len(missing))\n",
    "    print( missing)\n",
    "    \"\"\"\n"
   ]
  },
  {
   "cell_type": "code",
   "execution_count": null,
   "metadata": {
    "collapsed": true
   },
   "outputs": [],
   "source": [
    "solarFname = '/Users/gardner/Downloads/RCSolarWindsExport.csv'\n",
    "stealthFname = '/Users/gardner/Downloads/RCStealthWatchExport.csv'\n",
    "\n",
    "find_missing(solarFname,stealthFname)"
   ]
  }
 ],
 "metadata": {
  "anaconda-cloud": {},
  "kernelspec": {
   "display_name": "Python [Root]",
   "language": "python",
   "name": "Python [Root]"
  },
  "language_info": {
   "codemirror_mode": {
    "name": "ipython",
    "version": 3
   },
   "file_extension": ".py",
   "mimetype": "text/x-python",
   "name": "python",
   "nbconvert_exporter": "python",
   "pygments_lexer": "ipython3",
   "version": "3.5.2"
  }
 },
 "nbformat": 4,
 "nbformat_minor": 0
}
